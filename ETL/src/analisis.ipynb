{
 "cells": [
  {
   "cell_type": "markdown",
   "metadata": {},
   "source": [
    "# Análisis"
   ]
  },
  {
   "cell_type": "code",
   "execution_count": 26,
   "metadata": {},
   "outputs": [],
   "source": [
    "import pandas as pd \n",
    "import numpy as np \n",
    "import plotly.express as px\n",
    "from sqlalchemy import create_engine\n",
    "from decouple import Config,RepositoryEnv\n",
    "import openpyxl\n",
    "import warnings\n",
    "# Desactivar advertencias de FutureWarning\n",
    "warnings.simplefilter(action='ignore', category=FutureWarning)"
   ]
  },
  {
   "cell_type": "code",
   "execution_count": 27,
   "metadata": {},
   "outputs": [],
   "source": [
    "config = Config(RepositoryEnv(r\"C:\\Users\\Usuario\\Desktop\\DB - UPTC\\Proyecto_ETL_Dashboard\\ETL\\src\\.env\"))"
   ]
  },
  {
   "cell_type": "code",
   "execution_count": 28,
   "metadata": {},
   "outputs": [],
   "source": [
    "def extraer_db_a_dataframe(tabla):\n",
    "    host = \"localhost\"\n",
    "    password = config(\"PASSWORD\")\n",
    "    user = \"postgres\"\n",
    "    dbname = \"eventos\"\n",
    "    port = 5432\n",
    "\n",
    "    db_uri = f\"postgresql://{user}:{password}@{host}:{port}/{dbname}\"\n",
    "\n",
    "    engine = create_engine(db_uri)\n",
    "    \n",
    "    sql_query = f\"SELECT * FROM {tabla}\"\n",
    "\n",
    "    df = pd.read_sql_query(sql_query, engine)\n",
    "\n",
    "    return df"
   ]
  },
  {
   "cell_type": "markdown",
   "metadata": {},
   "source": [
    "# Testeo y Verifico"
   ]
  },
  {
   "cell_type": "code",
   "execution_count": 29,
   "metadata": {},
   "outputs": [
    {
     "data": {
      "text/plain": [
       "(140, 7)"
      ]
     },
     "execution_count": 29,
     "metadata": {},
     "output_type": "execute_result"
    }
   ],
   "source": [
    "registro_usuarios = extraer_db_a_dataframe(\"registro_usuarios\")\n",
    "registro_usuarios.shape"
   ]
  },
  {
   "cell_type": "code",
   "execution_count": 30,
   "metadata": {},
   "outputs": [
    {
     "data": {
      "text/plain": [
       "(117, 8)"
      ]
     },
     "execution_count": 30,
     "metadata": {},
     "output_type": "execute_result"
    }
   ],
   "source": [
    "evento_1 = extraer_db_a_dataframe(\"evento_1\")\n",
    "evento_1.shape"
   ]
  },
  {
   "cell_type": "code",
   "execution_count": 31,
   "metadata": {},
   "outputs": [
    {
     "data": {
      "text/plain": [
       "(112, 8)"
      ]
     },
     "execution_count": 31,
     "metadata": {},
     "output_type": "execute_result"
    }
   ],
   "source": [
    "evento_2 = extraer_db_a_dataframe(\"evento_2\")\n",
    "evento_2.shape"
   ]
  },
  {
   "cell_type": "code",
   "execution_count": 32,
   "metadata": {},
   "outputs": [
    {
     "data": {
      "text/plain": [
       "(96, 8)"
      ]
     },
     "execution_count": 32,
     "metadata": {},
     "output_type": "execute_result"
    }
   ],
   "source": [
    "evento_3 = extraer_db_a_dataframe(\"evento_3\")\n",
    "evento_3.shape"
   ]
  },
  {
   "cell_type": "code",
   "execution_count": 33,
   "metadata": {},
   "outputs": [
    {
     "data": {
      "text/plain": [
       "(80, 8)"
      ]
     },
     "execution_count": 33,
     "metadata": {},
     "output_type": "execute_result"
    }
   ],
   "source": [
    "evento_4 = extraer_db_a_dataframe(\"evento_4\")\n",
    "evento_4.shape"
   ]
  },
  {
   "cell_type": "code",
   "execution_count": 34,
   "metadata": {},
   "outputs": [
    {
     "data": {
      "text/plain": [
       "(79, 8)"
      ]
     },
     "execution_count": 34,
     "metadata": {},
     "output_type": "execute_result"
    }
   ],
   "source": [
    "evento_5 = extraer_db_a_dataframe(\"evento_5\")\n",
    "evento_5.shape"
   ]
  },
  {
   "cell_type": "code",
   "execution_count": 35,
   "metadata": {},
   "outputs": [
    {
     "data": {
      "text/plain": [
       "(78, 8)"
      ]
     },
     "execution_count": 35,
     "metadata": {},
     "output_type": "execute_result"
    }
   ],
   "source": [
    "evento_6 = extraer_db_a_dataframe(\"evento_6\")\n",
    "evento_6.shape"
   ]
  },
  {
   "cell_type": "code",
   "execution_count": 36,
   "metadata": {},
   "outputs": [
    {
     "data": {
      "text/plain": [
       "(65, 8)"
      ]
     },
     "execution_count": 36,
     "metadata": {},
     "output_type": "execute_result"
    }
   ],
   "source": [
    "evento_7 = extraer_db_a_dataframe(\"evento_7\")\n",
    "evento_7.shape"
   ]
  },
  {
   "cell_type": "code",
   "execution_count": 37,
   "metadata": {},
   "outputs": [
    {
     "data": {
      "text/plain": [
       "(54, 8)"
      ]
     },
     "execution_count": 37,
     "metadata": {},
     "output_type": "execute_result"
    }
   ],
   "source": [
    "evento_8 = extraer_db_a_dataframe(\"evento_8\")\n",
    "evento_8.shape"
   ]
  },
  {
   "cell_type": "code",
   "execution_count": 38,
   "metadata": {},
   "outputs": [
    {
     "data": {
      "text/plain": [
       "(24, 8)"
      ]
     },
     "execution_count": 38,
     "metadata": {},
     "output_type": "execute_result"
    }
   ],
   "source": [
    "evento_9 = extraer_db_a_dataframe(\"evento_9\")\n",
    "evento_9.shape"
   ]
  },
  {
   "cell_type": "markdown",
   "metadata": {},
   "source": [
    "# Genero archivos de salida"
   ]
  },
  {
   "cell_type": "code",
   "execution_count": 39,
   "metadata": {},
   "outputs": [],
   "source": [
    "def asistencia_eventos(dataframe_input):\n",
    "    dataframe_output = pd.merge(registro_usuarios,dataframe_input,how='left',left_on='correo',right_on='Correo electrónico')\n",
    "    dataframe_output = dataframe_output.dropna(subset=[\"Correo electrónico\"])[[\"nombre_x\",\"correo\",\"programa_academico\",\"asignatura\",\"estado\",\"Hora a la que se unió\",\"Hora a la que salió\",\"duración\"]]\n",
    "    dataframe_output = dataframe_output[dataframe_output[\"estado\"] != \"Falta información\"]\n",
    "    dataframe_output.rename(columns={'nombre_x':'nombre_completo',\n",
    "                                     'Hora a la que se unió':\"hora_entrada\",\n",
    "                                     'Hora a la que salió':\"hora_salida\"\n",
    "                                     },inplace=True)\n",
    "    return dataframe_output[[\"nombre_completo\",\"correo\",\"programa_academico\",\"asignatura\",\"estado\",\"hora_entrada\",\"hora_salida\",\"duración\"]]"
   ]
  },
  {
   "cell_type": "code",
   "execution_count": 40,
   "metadata": {},
   "outputs": [],
   "source": [
    "asistencia_1 = asistencia_eventos(evento_1)\n",
    "asistencia_2 = asistencia_eventos(evento_2)\n",
    "asistencia_3 = asistencia_eventos(evento_3)\n",
    "asistencia_4 = asistencia_eventos(evento_4)\n",
    "asistencia_5 = asistencia_eventos(evento_5)\n",
    "asistencia_6 = asistencia_eventos(evento_6)\n",
    "asistencia_7 = asistencia_eventos(evento_7)\n",
    "asistencia_8 = asistencia_eventos(evento_8)\n",
    "asistencia_9 = asistencia_eventos(evento_9)\n"
   ]
  },
  {
   "cell_type": "code",
   "execution_count": 41,
   "metadata": {},
   "outputs": [],
   "source": [
    "def registro_eventos_dataframe(dataframe_uno,dataframe_dos,columna_nueva):\n",
    "    # Realiza la fusión (merge) con registro_usuarios\n",
    "    dataframe_output = pd.merge(dataframe_uno, dataframe_dos[[\"Correo electrónico\"]], how='left', left_on='correo', right_on='Correo electrónico')\n",
    "\n",
    "    # Agrega la columna \"evento\" con \"si\" para registros encontrados y \"no\" para NaN\n",
    "    dataframe_output[f'{columna_nueva}'] = dataframe_output['Correo electrónico'].apply(lambda x: 'si' if pd.notna(x) else 'no')\n",
    "\n",
    "    # Filtra las columnas deseadas y elimina filas con estado \"Falta información\"\n",
    "    dataframe_output = dataframe_output[dataframe_output[\"estado\"] != \"Falta información\"]\n",
    "    dataframe_output = dataframe_output.drop(columns=[\"Correo electrónico\"])\n",
    "\n",
    "    return dataframe_output"
   ]
  },
  {
   "cell_type": "code",
   "execution_count": 42,
   "metadata": {},
   "outputs": [
    {
     "data": {
      "text/html": [
       "<div>\n",
       "<style scoped>\n",
       "    .dataframe tbody tr th:only-of-type {\n",
       "        vertical-align: middle;\n",
       "    }\n",
       "\n",
       "    .dataframe tbody tr th {\n",
       "        vertical-align: top;\n",
       "    }\n",
       "\n",
       "    .dataframe thead th {\n",
       "        text-align: right;\n",
       "    }\n",
       "</style>\n",
       "<table border=\"1\" class=\"dataframe\">\n",
       "  <thead>\n",
       "    <tr style=\"text-align: right;\">\n",
       "      <th></th>\n",
       "      <th>nombre</th>\n",
       "      <th>correo</th>\n",
       "      <th>programa_academico</th>\n",
       "      <th>asignatura</th>\n",
       "      <th>evento_1</th>\n",
       "      <th>evento_2</th>\n",
       "      <th>evento_3</th>\n",
       "      <th>evento_4</th>\n",
       "      <th>evento_5</th>\n",
       "      <th>evento_6</th>\n",
       "      <th>evento_7</th>\n",
       "      <th>evento_8</th>\n",
       "      <th>evento_9</th>\n",
       "    </tr>\n",
       "  </thead>\n",
       "  <tbody>\n",
       "    <tr>\n",
       "      <th>0</th>\n",
       "      <td>Anderson Daniel Barreto Sierra</td>\n",
       "      <td>anderson.barreto01@uptc.edu.co</td>\n",
       "      <td>Ingeniería de Sistemas y Computación</td>\n",
       "      <td>Electiva III</td>\n",
       "      <td>si</td>\n",
       "      <td>si</td>\n",
       "      <td>si</td>\n",
       "      <td>si</td>\n",
       "      <td>si</td>\n",
       "      <td>si</td>\n",
       "      <td>si</td>\n",
       "      <td>si</td>\n",
       "      <td>si</td>\n",
       "    </tr>\n",
       "    <tr>\n",
       "      <th>1</th>\n",
       "      <td>Andrés Felipe Escobar Diaz</td>\n",
       "      <td>andres.escobar01@uptc.edu.co</td>\n",
       "      <td>Ingeniería de Sistemas y Computación</td>\n",
       "      <td>Electiva III</td>\n",
       "      <td>si</td>\n",
       "      <td>si</td>\n",
       "      <td>si</td>\n",
       "      <td>si</td>\n",
       "      <td>si</td>\n",
       "      <td>no</td>\n",
       "      <td>no</td>\n",
       "      <td>no</td>\n",
       "      <td>no</td>\n",
       "    </tr>\n",
       "    <tr>\n",
       "      <th>2</th>\n",
       "      <td>Andrés David Reyes Rojas</td>\n",
       "      <td>andres.reyes03@uptc.edu.co</td>\n",
       "      <td>Ingeniería Electrónica</td>\n",
       "      <td>Comunicaciones II</td>\n",
       "      <td>si</td>\n",
       "      <td>no</td>\n",
       "      <td>si</td>\n",
       "      <td>no</td>\n",
       "      <td>no</td>\n",
       "      <td>si</td>\n",
       "      <td>no</td>\n",
       "      <td>no</td>\n",
       "      <td>no</td>\n",
       "    </tr>\n",
       "    <tr>\n",
       "      <th>3</th>\n",
       "      <td>Angel Abdías González Molina</td>\n",
       "      <td>angel.gonzalez02@uptc.edu.co</td>\n",
       "      <td>Ingeniería Electrónica</td>\n",
       "      <td>Comunicaciones</td>\n",
       "      <td>si</td>\n",
       "      <td>si</td>\n",
       "      <td>si</td>\n",
       "      <td>si</td>\n",
       "      <td>si</td>\n",
       "      <td>no</td>\n",
       "      <td>si</td>\n",
       "      <td>no</td>\n",
       "      <td>no</td>\n",
       "    </tr>\n",
       "    <tr>\n",
       "      <th>4</th>\n",
       "      <td>Angel Leonardo Marciales Supelano</td>\n",
       "      <td>angel.marciales@uptc.edu.co</td>\n",
       "      <td>Ingeniería de Sistemas y Computación</td>\n",
       "      <td>Comunicaciones</td>\n",
       "      <td>si</td>\n",
       "      <td>no</td>\n",
       "      <td>si</td>\n",
       "      <td>si</td>\n",
       "      <td>si</td>\n",
       "      <td>si</td>\n",
       "      <td>si</td>\n",
       "      <td>si</td>\n",
       "      <td>si</td>\n",
       "    </tr>\n",
       "  </tbody>\n",
       "</table>\n",
       "</div>"
      ],
      "text/plain": [
       "                              nombre                          correo  \\\n",
       "0     Anderson Daniel Barreto Sierra  anderson.barreto01@uptc.edu.co   \n",
       "1         Andrés Felipe Escobar Diaz    andres.escobar01@uptc.edu.co   \n",
       "2           Andrés David Reyes Rojas      andres.reyes03@uptc.edu.co   \n",
       "3       Angel Abdías González Molina    angel.gonzalez02@uptc.edu.co   \n",
       "4  Angel Leonardo Marciales Supelano     angel.marciales@uptc.edu.co   \n",
       "\n",
       "                     programa_academico         asignatura evento_1 evento_2  \\\n",
       "0  Ingeniería de Sistemas y Computación       Electiva III       si       si   \n",
       "1  Ingeniería de Sistemas y Computación       Electiva III       si       si   \n",
       "2                Ingeniería Electrónica  Comunicaciones II       si       no   \n",
       "3                Ingeniería Electrónica     Comunicaciones       si       si   \n",
       "4  Ingeniería de Sistemas y Computación     Comunicaciones       si       no   \n",
       "\n",
       "  evento_3 evento_4 evento_5 evento_6 evento_7 evento_8 evento_9  \n",
       "0       si       si       si       si       si       si       si  \n",
       "1       si       si       si       no       no       no       no  \n",
       "2       si       no       no       si       no       no       no  \n",
       "3       si       si       si       no       si       no       no  \n",
       "4       si       si       si       si       si       si       si  "
      ]
     },
     "execution_count": 42,
     "metadata": {},
     "output_type": "execute_result"
    }
   ],
   "source": [
    "df = registro_eventos_dataframe(registro_usuarios,evento_1,\"evento_1\")\n",
    "df = registro_eventos_dataframe(df, evento_2, \"evento_2\")\n",
    "df = registro_eventos_dataframe(df, evento_3, \"evento_3\")\n",
    "df = registro_eventos_dataframe(df, evento_4, \"evento_4\")\n",
    "df = registro_eventos_dataframe(df, evento_5, \"evento_5\")\n",
    "df = registro_eventos_dataframe(df, evento_6, \"evento_6\")\n",
    "df = registro_eventos_dataframe(df, evento_7, \"evento_7\")\n",
    "df = registro_eventos_dataframe(df, evento_8, \"evento_8\")\n",
    "df = registro_eventos_dataframe(df, evento_9, \"evento_9\")\n",
    "df.drop(columns=[\"estado\",\"primer_nombre\",\"primer_apellido\"],inplace=True)\n",
    "df.head()"
   ]
  },
  {
   "cell_type": "code",
   "execution_count": 43,
   "metadata": {},
   "outputs": [
    {
     "data": {
      "text/plain": [
       "Index(['nombre_completo', 'correo', 'programa_academico', 'asignatura',\n",
       "       'estado', 'hora_entrada', 'hora_salida', 'duración'],\n",
       "      dtype='object')"
      ]
     },
     "execution_count": 43,
     "metadata": {},
     "output_type": "execute_result"
    }
   ],
   "source": [
    "asistencia_1.columns"
   ]
  },
  {
   "cell_type": "code",
   "execution_count": 44,
   "metadata": {},
   "outputs": [
    {
     "data": {
      "text/plain": [
       "array(['Ingeniería de Sistemas y Computación', 'Ingeniería Electrónica',\n",
       "       'Gobernación de Boyacá', 'Docente', 'Administrativo'], dtype=object)"
      ]
     },
     "execution_count": 44,
     "metadata": {},
     "output_type": "execute_result"
    }
   ],
   "source": [
    "df.programa_academico.unique()"
   ]
  },
  {
   "cell_type": "code",
   "execution_count": 45,
   "metadata": {},
   "outputs": [
    {
     "data": {
      "text/plain": [
       "(array(['Electiva III', 'Comunicaciones', 'Transmisión de Datos',\n",
       "        'Arquitectura de Computadores', 'Matemáticas discretas',\n",
       "        'Redes de datos', 'Sistemas Operativos'], dtype=object),\n",
       " array(['Comunicaciones II', 'Comunicaciones', 'Telemática'], dtype=object),\n",
       " array(['Profesionales'], dtype=object))"
      ]
     },
     "execution_count": 45,
     "metadata": {},
     "output_type": "execute_result"
    }
   ],
   "source": [
    "profesionales = [\"Gobernación de Boyacá\",\"Docente\",\"Administrativo\"]\n",
    "asignaturas_sistemas = df[\"asignatura\"].loc[df[\"programa_academico\"]==\"Ingeniería de Sistemas y Computación\"].unique()\n",
    "asignaturas_electronica = df[\"asignatura\"].loc[df[\"programa_academico\"]==\"Ingeniería Electrónica\"].unique()\n",
    "asignaturas_profesionales = df[\"asignatura\"].loc[df[\"programa_academico\"].isin(profesionales)].unique()\n",
    "asignaturas_sistemas,asignaturas_electronica,asignaturas_profesionales"
   ]
  },
  {
   "cell_type": "code",
   "execution_count": 46,
   "metadata": {},
   "outputs": [],
   "source": [
    "asistencia_sistemas = (df['programa_academico'] == \"Ingeniería de Sistemas y Computación\")\n",
    "sistemas_eventos = df.loc[asistencia_sistemas][[\"nombre\", \"correo\", \"asignatura\", \"evento_1\", \"evento_2\", \"evento_3\", \"evento_4\", \"evento_5\", \"evento_6\", \"evento_7\", \"evento_8\", \"evento_9\"]]\n",
    "\n",
    "asistencia_electronica = (df['programa_academico'] == \"Ingeniería Electrónica\")\n",
    "electronica_eventos = df.loc[asistencia_electronica][[\"nombre\", \"correo\", \"asignatura\", \"evento_1\", \"evento_2\", \"evento_3\", \"evento_4\", \"evento_5\", \"evento_6\", \"evento_7\", \"evento_8\", \"evento_9\"]]\n",
    "\n",
    "asistencia_profesionales = (df['programa_academico'].isin(profesionales))\n",
    "profesionales_eventos = df.loc[asistencia_profesionales][[\"nombre\", \"correo\", \"asignatura\", \"evento_1\", \"evento_2\", \"evento_3\", \"evento_4\", \"evento_5\", \"evento_6\", \"evento_7\", \"evento_8\", \"evento_9\"]]\n"
   ]
  },
  {
   "cell_type": "code",
   "execution_count": 47,
   "metadata": {},
   "outputs": [],
   "source": [
    "def crea_dataframes(dataframe,asignaturas):\n",
    "    dataframes = []\n",
    "    for asignatura in asignaturas:\n",
    "        df = dataframe.loc[dataframe[\"asignatura\"]==asignatura]\n",
    "        dataframes.append(df)\n",
    "    return dataframes"
   ]
  },
  {
   "cell_type": "code",
   "execution_count": 48,
   "metadata": {},
   "outputs": [],
   "source": [
    "electiva_iii,comunicaciones,transmision,arquitectura,matematicas,redes,sistemas = crea_dataframes(sistemas_eventos, asignaturas_sistemas)\n",
    "comunicaciones_ii,comunicaciones_electronica,telematica = crea_dataframes(electronica_eventos,asignaturas_electronica)\n",
    "profesionales = crea_dataframes(profesionales_eventos,asignaturas_profesionales)[0]"
   ]
  },
  {
   "cell_type": "markdown",
   "metadata": {},
   "source": [
    "## Creación de archivo excel solicitado"
   ]
  },
  {
   "cell_type": "code",
   "execution_count": 51,
   "metadata": {},
   "outputs": [],
   "source": [
    "with pd.ExcelWriter('../clean_data/proyecto_asistencia.xlsx',engine='openpyxl') as writer:\n",
    "    sistemas_eventos.to_excel(writer,sheet_name='Ingeniería de Sistemas',index=False)\n",
    "    electiva_iii.to_excel(writer,sheet_name='Electiva III',index=False)\n",
    "    comunicaciones.to_excel(writer,sheet_name='Comunicaciones',index=False)\n",
    "    transmision.to_excel(writer,sheet_name='Transmisión de Datos',index=False)\n",
    "    arquitectura.to_excel(writer,sheet_name='Arquitectura Computadores',index=False)\n",
    "    matematicas.to_excel(writer,sheet_name='Matemáticas discretas',index=False)\n",
    "    redes.to_excel(writer,sheet_name='Redes de datos',index=False)\n",
    "    sistemas.to_excel(writer,sheet_name='Sistemas Operativos',index=False)\n",
    "    electronica_eventos.to_excel(writer,sheet_name='Ingeniería Electrónica',index=False)\n",
    "    comunicaciones_ii.to_excel(writer,sheet_name='Comunicaciones II',index=False)\n",
    "    comunicaciones_electronica.to_excel(writer,sheet_name='Comunicaciones Elec',index=False)\n",
    "    telematica.to_excel(writer,sheet_name='Telemática',index=False)\n",
    "    profesionales.to_excel(writer,sheet_name='Profesionales',index=False)"
   ]
  },
  {
   "cell_type": "code",
   "execution_count": 47,
   "metadata": {},
   "outputs": [],
   "source": [
    "# Convierte las columnas \"hora_entrada\" y \"hora_salida\" en objetos datetime\n",
    "def tendencia_personas(dataframe):\n",
    "    dataframe['hora_entrada'] = pd.to_datetime(dataframe['hora_entrada'])\n",
    "    dataframe['hora_salida'] = pd.to_datetime(dataframe['hora_salida'])\n",
    "\n",
    "    # Crea una lista de eventos que registra la entrada de una persona como +1 y la salida como -1\n",
    "    eventos = [(hora, programa, 1) for hora, programa in zip(dataframe['hora_entrada'], dataframe['programa_academico'])] + \\\n",
    "            [(hora, programa, -1) for hora, programa in zip(dataframe['hora_salida'], dataframe['programa_academico'])]\n",
    "\n",
    "    # Crea un DataFrame a partir de la lista de eventos\n",
    "    df_eventos = pd.DataFrame(eventos, columns=['hora', 'programa_academico', 'evento'])\n",
    "\n",
    "    # Ordena los eventos por hora\n",
    "    df_eventos = df_eventos.sort_values(by='hora')\n",
    "\n",
    "    # Calcula la cantidad acumulada de personas presentes en cada minuto\n",
    "    df_eventos['personas_presentes'] = df_eventos.groupby('programa_academico')['evento'].cumsum()\n",
    "\n",
    "    return df_eventos"
   ]
  },
  {
   "cell_type": "code",
   "execution_count": 48,
   "metadata": {},
   "outputs": [],
   "source": [
    "evento_06 = tendencia_personas(asistencia_1)\n",
    "evento_08 = tendencia_personas(asistencia_2)\n",
    "evento_13 = tendencia_personas(asistencia_3)\n",
    "evento_15 = tendencia_personas(asistencia_4)"
   ]
  },
  {
   "cell_type": "code",
   "execution_count": 49,
   "metadata": {},
   "outputs": [
    {
     "data": {
      "text/html": [
       "<div>\n",
       "<style scoped>\n",
       "    .dataframe tbody tr th:only-of-type {\n",
       "        vertical-align: middle;\n",
       "    }\n",
       "\n",
       "    .dataframe tbody tr th {\n",
       "        vertical-align: top;\n",
       "    }\n",
       "\n",
       "    .dataframe thead th {\n",
       "        text-align: right;\n",
       "    }\n",
       "</style>\n",
       "<table border=\"1\" class=\"dataframe\">\n",
       "  <thead>\n",
       "    <tr style=\"text-align: right;\">\n",
       "      <th>programa_academico</th>\n",
       "      <th>Administrativo</th>\n",
       "      <th>Docente</th>\n",
       "      <th>Gobernación de Boyacá</th>\n",
       "      <th>Ingeniería Electrónica</th>\n",
       "      <th>Ingeniería de Sistemas y Computación</th>\n",
       "    </tr>\n",
       "    <tr>\n",
       "      <th>hora</th>\n",
       "      <th></th>\n",
       "      <th></th>\n",
       "      <th></th>\n",
       "      <th></th>\n",
       "      <th></th>\n",
       "    </tr>\n",
       "  </thead>\n",
       "  <tbody>\n",
       "    <tr>\n",
       "      <th>2023-09-06 09:45:00</th>\n",
       "      <td>0.0</td>\n",
       "      <td>0.000000</td>\n",
       "      <td>0.000000</td>\n",
       "      <td>0.000000</td>\n",
       "      <td>1.000000</td>\n",
       "    </tr>\n",
       "    <tr>\n",
       "      <th>2023-09-06 09:51:00</th>\n",
       "      <td>0.0</td>\n",
       "      <td>1.000000</td>\n",
       "      <td>0.000000</td>\n",
       "      <td>0.000000</td>\n",
       "      <td>1.200000</td>\n",
       "    </tr>\n",
       "    <tr>\n",
       "      <th>2023-09-06 09:52:00</th>\n",
       "      <td>0.0</td>\n",
       "      <td>1.088235</td>\n",
       "      <td>0.000000</td>\n",
       "      <td>1.000000</td>\n",
       "      <td>1.400000</td>\n",
       "    </tr>\n",
       "    <tr>\n",
       "      <th>2023-09-06 09:53:00</th>\n",
       "      <td>0.0</td>\n",
       "      <td>1.176471</td>\n",
       "      <td>0.000000</td>\n",
       "      <td>2.000000</td>\n",
       "      <td>1.600000</td>\n",
       "    </tr>\n",
       "    <tr>\n",
       "      <th>2023-09-06 09:54:00</th>\n",
       "      <td>0.0</td>\n",
       "      <td>1.264706</td>\n",
       "      <td>0.000000</td>\n",
       "      <td>3.000000</td>\n",
       "      <td>1.800000</td>\n",
       "    </tr>\n",
       "    <tr>\n",
       "      <th>2023-09-06 09:55:00</th>\n",
       "      <td>0.0</td>\n",
       "      <td>1.352941</td>\n",
       "      <td>0.000000</td>\n",
       "      <td>4.000000</td>\n",
       "      <td>2.000000</td>\n",
       "    </tr>\n",
       "    <tr>\n",
       "      <th>2023-09-06 09:56:00</th>\n",
       "      <td>0.0</td>\n",
       "      <td>1.441176</td>\n",
       "      <td>0.000000</td>\n",
       "      <td>5.000000</td>\n",
       "      <td>3.000000</td>\n",
       "    </tr>\n",
       "    <tr>\n",
       "      <th>2023-09-06 09:57:00</th>\n",
       "      <td>0.0</td>\n",
       "      <td>1.529412</td>\n",
       "      <td>0.000000</td>\n",
       "      <td>6.000000</td>\n",
       "      <td>4.000000</td>\n",
       "    </tr>\n",
       "    <tr>\n",
       "      <th>2023-09-06 09:58:00</th>\n",
       "      <td>0.0</td>\n",
       "      <td>1.617647</td>\n",
       "      <td>0.000000</td>\n",
       "      <td>7.000000</td>\n",
       "      <td>7.000000</td>\n",
       "    </tr>\n",
       "    <tr>\n",
       "      <th>2023-09-06 09:59:00</th>\n",
       "      <td>0.0</td>\n",
       "      <td>1.705882</td>\n",
       "      <td>0.000000</td>\n",
       "      <td>9.000000</td>\n",
       "      <td>9.500000</td>\n",
       "    </tr>\n",
       "    <tr>\n",
       "      <th>2023-09-06 10:00:00</th>\n",
       "      <td>0.0</td>\n",
       "      <td>1.794118</td>\n",
       "      <td>0.000000</td>\n",
       "      <td>13.000000</td>\n",
       "      <td>12.000000</td>\n",
       "    </tr>\n",
       "    <tr>\n",
       "      <th>2023-09-06 10:01:00</th>\n",
       "      <td>0.0</td>\n",
       "      <td>1.882353</td>\n",
       "      <td>0.000000</td>\n",
       "      <td>17.000000</td>\n",
       "      <td>16.500000</td>\n",
       "    </tr>\n",
       "    <tr>\n",
       "      <th>2023-09-06 10:02:00</th>\n",
       "      <td>0.0</td>\n",
       "      <td>1.970588</td>\n",
       "      <td>0.000000</td>\n",
       "      <td>20.500000</td>\n",
       "      <td>21.000000</td>\n",
       "    </tr>\n",
       "    <tr>\n",
       "      <th>2023-09-06 10:03:00</th>\n",
       "      <td>0.0</td>\n",
       "      <td>2.058824</td>\n",
       "      <td>0.000000</td>\n",
       "      <td>23.500000</td>\n",
       "      <td>26.000000</td>\n",
       "    </tr>\n",
       "    <tr>\n",
       "      <th>2023-09-06 10:04:00</th>\n",
       "      <td>0.0</td>\n",
       "      <td>2.147059</td>\n",
       "      <td>0.000000</td>\n",
       "      <td>25.500000</td>\n",
       "      <td>30.500000</td>\n",
       "    </tr>\n",
       "    <tr>\n",
       "      <th>2023-09-06 10:05:00</th>\n",
       "      <td>0.0</td>\n",
       "      <td>2.235294</td>\n",
       "      <td>0.000000</td>\n",
       "      <td>27.000000</td>\n",
       "      <td>32.000000</td>\n",
       "    </tr>\n",
       "    <tr>\n",
       "      <th>2023-09-06 10:06:00</th>\n",
       "      <td>0.0</td>\n",
       "      <td>2.323529</td>\n",
       "      <td>0.000000</td>\n",
       "      <td>27.750000</td>\n",
       "      <td>35.000000</td>\n",
       "    </tr>\n",
       "    <tr>\n",
       "      <th>2023-09-06 10:07:00</th>\n",
       "      <td>0.0</td>\n",
       "      <td>2.411765</td>\n",
       "      <td>0.000000</td>\n",
       "      <td>28.500000</td>\n",
       "      <td>39.000000</td>\n",
       "    </tr>\n",
       "    <tr>\n",
       "      <th>2023-09-06 10:08:00</th>\n",
       "      <td>0.0</td>\n",
       "      <td>2.500000</td>\n",
       "      <td>0.000000</td>\n",
       "      <td>30.500000</td>\n",
       "      <td>42.500000</td>\n",
       "    </tr>\n",
       "    <tr>\n",
       "      <th>2023-09-06 10:09:00</th>\n",
       "      <td>0.0</td>\n",
       "      <td>3.000000</td>\n",
       "      <td>0.000000</td>\n",
       "      <td>30.500000</td>\n",
       "      <td>46.000000</td>\n",
       "    </tr>\n",
       "    <tr>\n",
       "      <th>2023-09-06 10:10:00</th>\n",
       "      <td>0.0</td>\n",
       "      <td>3.500000</td>\n",
       "      <td>0.000000</td>\n",
       "      <td>33.000000</td>\n",
       "      <td>46.666667</td>\n",
       "    </tr>\n",
       "    <tr>\n",
       "      <th>2023-09-06 10:11:00</th>\n",
       "      <td>0.0</td>\n",
       "      <td>4.000000</td>\n",
       "      <td>0.000000</td>\n",
       "      <td>33.400000</td>\n",
       "      <td>47.333333</td>\n",
       "    </tr>\n",
       "    <tr>\n",
       "      <th>2023-09-06 10:14:00</th>\n",
       "      <td>0.0</td>\n",
       "      <td>3.969697</td>\n",
       "      <td>0.000000</td>\n",
       "      <td>33.800000</td>\n",
       "      <td>48.000000</td>\n",
       "    </tr>\n",
       "    <tr>\n",
       "      <th>2023-09-06 10:15:00</th>\n",
       "      <td>0.0</td>\n",
       "      <td>3.939394</td>\n",
       "      <td>0.000000</td>\n",
       "      <td>34.200000</td>\n",
       "      <td>51.500000</td>\n",
       "    </tr>\n",
       "    <tr>\n",
       "      <th>2023-09-06 10:16:00</th>\n",
       "      <td>0.0</td>\n",
       "      <td>3.909091</td>\n",
       "      <td>0.000000</td>\n",
       "      <td>34.600000</td>\n",
       "      <td>55.500000</td>\n",
       "    </tr>\n",
       "    <tr>\n",
       "      <th>2023-09-06 10:17:00</th>\n",
       "      <td>0.0</td>\n",
       "      <td>3.878788</td>\n",
       "      <td>0.000000</td>\n",
       "      <td>35.000000</td>\n",
       "      <td>56.250000</td>\n",
       "    </tr>\n",
       "    <tr>\n",
       "      <th>2023-09-06 10:18:00</th>\n",
       "      <td>0.0</td>\n",
       "      <td>3.848485</td>\n",
       "      <td>1.000000</td>\n",
       "      <td>36.000000</td>\n",
       "      <td>57.000000</td>\n",
       "    </tr>\n",
       "    <tr>\n",
       "      <th>2023-09-06 10:19:00</th>\n",
       "      <td>0.0</td>\n",
       "      <td>3.818182</td>\n",
       "      <td>1.333333</td>\n",
       "      <td>36.250000</td>\n",
       "      <td>56.000000</td>\n",
       "    </tr>\n",
       "    <tr>\n",
       "      <th>2023-09-06 10:20:00</th>\n",
       "      <td>0.0</td>\n",
       "      <td>3.787879</td>\n",
       "      <td>1.666667</td>\n",
       "      <td>36.500000</td>\n",
       "      <td>57.500000</td>\n",
       "    </tr>\n",
       "    <tr>\n",
       "      <th>2023-09-06 10:21:00</th>\n",
       "      <td>0.0</td>\n",
       "      <td>3.757576</td>\n",
       "      <td>2.000000</td>\n",
       "      <td>36.750000</td>\n",
       "      <td>57.000000</td>\n",
       "    </tr>\n",
       "    <tr>\n",
       "      <th>2023-09-06 10:23:00</th>\n",
       "      <td>0.0</td>\n",
       "      <td>3.727273</td>\n",
       "      <td>3.000000</td>\n",
       "      <td>37.000000</td>\n",
       "      <td>57.500000</td>\n",
       "    </tr>\n",
       "    <tr>\n",
       "      <th>2023-09-06 10:27:00</th>\n",
       "      <td>0.0</td>\n",
       "      <td>3.696970</td>\n",
       "      <td>3.500000</td>\n",
       "      <td>36.933333</td>\n",
       "      <td>58.000000</td>\n",
       "    </tr>\n",
       "    <tr>\n",
       "      <th>2023-09-06 10:29:00</th>\n",
       "      <td>0.0</td>\n",
       "      <td>3.666667</td>\n",
       "      <td>4.000000</td>\n",
       "      <td>36.866667</td>\n",
       "      <td>59.000000</td>\n",
       "    </tr>\n",
       "    <tr>\n",
       "      <th>2023-09-06 10:31:00</th>\n",
       "      <td>0.0</td>\n",
       "      <td>3.636364</td>\n",
       "      <td>3.916667</td>\n",
       "      <td>36.800000</td>\n",
       "      <td>58.000000</td>\n",
       "    </tr>\n",
       "    <tr>\n",
       "      <th>2023-09-06 10:50:00</th>\n",
       "      <td>0.0</td>\n",
       "      <td>3.606061</td>\n",
       "      <td>3.833333</td>\n",
       "      <td>36.733333</td>\n",
       "      <td>57.000000</td>\n",
       "    </tr>\n",
       "    <tr>\n",
       "      <th>2023-09-06 10:51:00</th>\n",
       "      <td>1.0</td>\n",
       "      <td>3.575758</td>\n",
       "      <td>3.750000</td>\n",
       "      <td>36.666667</td>\n",
       "      <td>57.500000</td>\n",
       "    </tr>\n",
       "    <tr>\n",
       "      <th>2023-09-06 10:59:00</th>\n",
       "      <td>0.5</td>\n",
       "      <td>3.545455</td>\n",
       "      <td>3.666667</td>\n",
       "      <td>36.600000</td>\n",
       "      <td>58.000000</td>\n",
       "    </tr>\n",
       "    <tr>\n",
       "      <th>2023-09-06 11:04:00</th>\n",
       "      <td>0.0</td>\n",
       "      <td>3.515152</td>\n",
       "      <td>3.583333</td>\n",
       "      <td>36.533333</td>\n",
       "      <td>57.333333</td>\n",
       "    </tr>\n",
       "    <tr>\n",
       "      <th>2023-09-06 11:08:00</th>\n",
       "      <td>0.0</td>\n",
       "      <td>3.484848</td>\n",
       "      <td>3.500000</td>\n",
       "      <td>36.466667</td>\n",
       "      <td>56.666667</td>\n",
       "    </tr>\n",
       "    <tr>\n",
       "      <th>2023-09-06 11:10:00</th>\n",
       "      <td>0.0</td>\n",
       "      <td>3.454545</td>\n",
       "      <td>3.416667</td>\n",
       "      <td>36.400000</td>\n",
       "      <td>56.000000</td>\n",
       "    </tr>\n",
       "    <tr>\n",
       "      <th>2023-09-06 11:13:00</th>\n",
       "      <td>0.0</td>\n",
       "      <td>3.424242</td>\n",
       "      <td>3.333333</td>\n",
       "      <td>36.333333</td>\n",
       "      <td>55.000000</td>\n",
       "    </tr>\n",
       "    <tr>\n",
       "      <th>2023-09-06 11:29:00</th>\n",
       "      <td>0.0</td>\n",
       "      <td>3.393939</td>\n",
       "      <td>3.250000</td>\n",
       "      <td>36.266667</td>\n",
       "      <td>54.000000</td>\n",
       "    </tr>\n",
       "    <tr>\n",
       "      <th>2023-09-06 11:33:00</th>\n",
       "      <td>0.0</td>\n",
       "      <td>3.363636</td>\n",
       "      <td>3.166667</td>\n",
       "      <td>36.200000</td>\n",
       "      <td>53.000000</td>\n",
       "    </tr>\n",
       "    <tr>\n",
       "      <th>2023-09-06 11:37:00</th>\n",
       "      <td>0.0</td>\n",
       "      <td>3.333333</td>\n",
       "      <td>3.083333</td>\n",
       "      <td>36.133333</td>\n",
       "      <td>51.500000</td>\n",
       "    </tr>\n",
       "    <tr>\n",
       "      <th>2023-09-06 11:47:00</th>\n",
       "      <td>0.0</td>\n",
       "      <td>3.303030</td>\n",
       "      <td>3.000000</td>\n",
       "      <td>36.066667</td>\n",
       "      <td>51.000000</td>\n",
       "    </tr>\n",
       "    <tr>\n",
       "      <th>2023-09-06 11:50:00</th>\n",
       "      <td>0.0</td>\n",
       "      <td>3.272727</td>\n",
       "      <td>2.923077</td>\n",
       "      <td>36.000000</td>\n",
       "      <td>50.500000</td>\n",
       "    </tr>\n",
       "    <tr>\n",
       "      <th>2023-09-06 11:53:00</th>\n",
       "      <td>0.0</td>\n",
       "      <td>3.242424</td>\n",
       "      <td>2.846154</td>\n",
       "      <td>35.500000</td>\n",
       "      <td>50.000000</td>\n",
       "    </tr>\n",
       "    <tr>\n",
       "      <th>2023-09-06 11:54:00</th>\n",
       "      <td>0.0</td>\n",
       "      <td>3.212121</td>\n",
       "      <td>2.769231</td>\n",
       "      <td>35.000000</td>\n",
       "      <td>49.000000</td>\n",
       "    </tr>\n",
       "    <tr>\n",
       "      <th>2023-09-06 11:56:00</th>\n",
       "      <td>0.0</td>\n",
       "      <td>3.181818</td>\n",
       "      <td>2.692308</td>\n",
       "      <td>34.625000</td>\n",
       "      <td>46.500000</td>\n",
       "    </tr>\n",
       "    <tr>\n",
       "      <th>2023-09-06 11:58:00</th>\n",
       "      <td>0.0</td>\n",
       "      <td>3.151515</td>\n",
       "      <td>2.615385</td>\n",
       "      <td>34.250000</td>\n",
       "      <td>43.500000</td>\n",
       "    </tr>\n",
       "    <tr>\n",
       "      <th>2023-09-06 11:59:00</th>\n",
       "      <td>0.0</td>\n",
       "      <td>3.121212</td>\n",
       "      <td>2.538462</td>\n",
       "      <td>33.875000</td>\n",
       "      <td>41.500000</td>\n",
       "    </tr>\n",
       "    <tr>\n",
       "      <th>2023-09-06 12:00:00</th>\n",
       "      <td>0.0</td>\n",
       "      <td>3.090909</td>\n",
       "      <td>2.461538</td>\n",
       "      <td>33.500000</td>\n",
       "      <td>39.500000</td>\n",
       "    </tr>\n",
       "    <tr>\n",
       "      <th>2023-09-06 12:01:00</th>\n",
       "      <td>0.0</td>\n",
       "      <td>3.060606</td>\n",
       "      <td>2.384615</td>\n",
       "      <td>32.000000</td>\n",
       "      <td>34.500000</td>\n",
       "    </tr>\n",
       "    <tr>\n",
       "      <th>2023-09-06 12:02:00</th>\n",
       "      <td>0.0</td>\n",
       "      <td>3.030303</td>\n",
       "      <td>2.307692</td>\n",
       "      <td>31.666667</td>\n",
       "      <td>27.500000</td>\n",
       "    </tr>\n",
       "    <tr>\n",
       "      <th>2023-09-06 12:03:00</th>\n",
       "      <td>0.0</td>\n",
       "      <td>3.000000</td>\n",
       "      <td>2.230769</td>\n",
       "      <td>31.333333</td>\n",
       "      <td>24.000000</td>\n",
       "    </tr>\n",
       "    <tr>\n",
       "      <th>2023-09-06 12:04:00</th>\n",
       "      <td>0.0</td>\n",
       "      <td>2.750000</td>\n",
       "      <td>2.153846</td>\n",
       "      <td>31.000000</td>\n",
       "      <td>23.000000</td>\n",
       "    </tr>\n",
       "    <tr>\n",
       "      <th>2023-09-06 12:05:00</th>\n",
       "      <td>0.0</td>\n",
       "      <td>2.500000</td>\n",
       "      <td>2.076923</td>\n",
       "      <td>25.250000</td>\n",
       "      <td>21.000000</td>\n",
       "    </tr>\n",
       "    <tr>\n",
       "      <th>2023-09-06 12:06:00</th>\n",
       "      <td>0.0</td>\n",
       "      <td>2.250000</td>\n",
       "      <td>2.000000</td>\n",
       "      <td>19.500000</td>\n",
       "      <td>12.000000</td>\n",
       "    </tr>\n",
       "    <tr>\n",
       "      <th>2023-09-06 12:07:00</th>\n",
       "      <td>0.0</td>\n",
       "      <td>2.000000</td>\n",
       "      <td>1.250000</td>\n",
       "      <td>4.500000</td>\n",
       "      <td>2.500000</td>\n",
       "    </tr>\n",
       "    <tr>\n",
       "      <th>2023-09-06 12:08:00</th>\n",
       "      <td>0.0</td>\n",
       "      <td>0.500000</td>\n",
       "      <td>0.500000</td>\n",
       "      <td>0.000000</td>\n",
       "      <td>0.000000</td>\n",
       "    </tr>\n",
       "  </tbody>\n",
       "</table>\n",
       "</div>"
      ],
      "text/plain": [
       "programa_academico   Administrativo   Docente  Gobernación de Boyacá  \\\n",
       "hora                                                                   \n",
       "2023-09-06 09:45:00             0.0  0.000000               0.000000   \n",
       "2023-09-06 09:51:00             0.0  1.000000               0.000000   \n",
       "2023-09-06 09:52:00             0.0  1.088235               0.000000   \n",
       "2023-09-06 09:53:00             0.0  1.176471               0.000000   \n",
       "2023-09-06 09:54:00             0.0  1.264706               0.000000   \n",
       "2023-09-06 09:55:00             0.0  1.352941               0.000000   \n",
       "2023-09-06 09:56:00             0.0  1.441176               0.000000   \n",
       "2023-09-06 09:57:00             0.0  1.529412               0.000000   \n",
       "2023-09-06 09:58:00             0.0  1.617647               0.000000   \n",
       "2023-09-06 09:59:00             0.0  1.705882               0.000000   \n",
       "2023-09-06 10:00:00             0.0  1.794118               0.000000   \n",
       "2023-09-06 10:01:00             0.0  1.882353               0.000000   \n",
       "2023-09-06 10:02:00             0.0  1.970588               0.000000   \n",
       "2023-09-06 10:03:00             0.0  2.058824               0.000000   \n",
       "2023-09-06 10:04:00             0.0  2.147059               0.000000   \n",
       "2023-09-06 10:05:00             0.0  2.235294               0.000000   \n",
       "2023-09-06 10:06:00             0.0  2.323529               0.000000   \n",
       "2023-09-06 10:07:00             0.0  2.411765               0.000000   \n",
       "2023-09-06 10:08:00             0.0  2.500000               0.000000   \n",
       "2023-09-06 10:09:00             0.0  3.000000               0.000000   \n",
       "2023-09-06 10:10:00             0.0  3.500000               0.000000   \n",
       "2023-09-06 10:11:00             0.0  4.000000               0.000000   \n",
       "2023-09-06 10:14:00             0.0  3.969697               0.000000   \n",
       "2023-09-06 10:15:00             0.0  3.939394               0.000000   \n",
       "2023-09-06 10:16:00             0.0  3.909091               0.000000   \n",
       "2023-09-06 10:17:00             0.0  3.878788               0.000000   \n",
       "2023-09-06 10:18:00             0.0  3.848485               1.000000   \n",
       "2023-09-06 10:19:00             0.0  3.818182               1.333333   \n",
       "2023-09-06 10:20:00             0.0  3.787879               1.666667   \n",
       "2023-09-06 10:21:00             0.0  3.757576               2.000000   \n",
       "2023-09-06 10:23:00             0.0  3.727273               3.000000   \n",
       "2023-09-06 10:27:00             0.0  3.696970               3.500000   \n",
       "2023-09-06 10:29:00             0.0  3.666667               4.000000   \n",
       "2023-09-06 10:31:00             0.0  3.636364               3.916667   \n",
       "2023-09-06 10:50:00             0.0  3.606061               3.833333   \n",
       "2023-09-06 10:51:00             1.0  3.575758               3.750000   \n",
       "2023-09-06 10:59:00             0.5  3.545455               3.666667   \n",
       "2023-09-06 11:04:00             0.0  3.515152               3.583333   \n",
       "2023-09-06 11:08:00             0.0  3.484848               3.500000   \n",
       "2023-09-06 11:10:00             0.0  3.454545               3.416667   \n",
       "2023-09-06 11:13:00             0.0  3.424242               3.333333   \n",
       "2023-09-06 11:29:00             0.0  3.393939               3.250000   \n",
       "2023-09-06 11:33:00             0.0  3.363636               3.166667   \n",
       "2023-09-06 11:37:00             0.0  3.333333               3.083333   \n",
       "2023-09-06 11:47:00             0.0  3.303030               3.000000   \n",
       "2023-09-06 11:50:00             0.0  3.272727               2.923077   \n",
       "2023-09-06 11:53:00             0.0  3.242424               2.846154   \n",
       "2023-09-06 11:54:00             0.0  3.212121               2.769231   \n",
       "2023-09-06 11:56:00             0.0  3.181818               2.692308   \n",
       "2023-09-06 11:58:00             0.0  3.151515               2.615385   \n",
       "2023-09-06 11:59:00             0.0  3.121212               2.538462   \n",
       "2023-09-06 12:00:00             0.0  3.090909               2.461538   \n",
       "2023-09-06 12:01:00             0.0  3.060606               2.384615   \n",
       "2023-09-06 12:02:00             0.0  3.030303               2.307692   \n",
       "2023-09-06 12:03:00             0.0  3.000000               2.230769   \n",
       "2023-09-06 12:04:00             0.0  2.750000               2.153846   \n",
       "2023-09-06 12:05:00             0.0  2.500000               2.076923   \n",
       "2023-09-06 12:06:00             0.0  2.250000               2.000000   \n",
       "2023-09-06 12:07:00             0.0  2.000000               1.250000   \n",
       "2023-09-06 12:08:00             0.0  0.500000               0.500000   \n",
       "\n",
       "programa_academico   Ingeniería Electrónica  \\\n",
       "hora                                          \n",
       "2023-09-06 09:45:00                0.000000   \n",
       "2023-09-06 09:51:00                0.000000   \n",
       "2023-09-06 09:52:00                1.000000   \n",
       "2023-09-06 09:53:00                2.000000   \n",
       "2023-09-06 09:54:00                3.000000   \n",
       "2023-09-06 09:55:00                4.000000   \n",
       "2023-09-06 09:56:00                5.000000   \n",
       "2023-09-06 09:57:00                6.000000   \n",
       "2023-09-06 09:58:00                7.000000   \n",
       "2023-09-06 09:59:00                9.000000   \n",
       "2023-09-06 10:00:00               13.000000   \n",
       "2023-09-06 10:01:00               17.000000   \n",
       "2023-09-06 10:02:00               20.500000   \n",
       "2023-09-06 10:03:00               23.500000   \n",
       "2023-09-06 10:04:00               25.500000   \n",
       "2023-09-06 10:05:00               27.000000   \n",
       "2023-09-06 10:06:00               27.750000   \n",
       "2023-09-06 10:07:00               28.500000   \n",
       "2023-09-06 10:08:00               30.500000   \n",
       "2023-09-06 10:09:00               30.500000   \n",
       "2023-09-06 10:10:00               33.000000   \n",
       "2023-09-06 10:11:00               33.400000   \n",
       "2023-09-06 10:14:00               33.800000   \n",
       "2023-09-06 10:15:00               34.200000   \n",
       "2023-09-06 10:16:00               34.600000   \n",
       "2023-09-06 10:17:00               35.000000   \n",
       "2023-09-06 10:18:00               36.000000   \n",
       "2023-09-06 10:19:00               36.250000   \n",
       "2023-09-06 10:20:00               36.500000   \n",
       "2023-09-06 10:21:00               36.750000   \n",
       "2023-09-06 10:23:00               37.000000   \n",
       "2023-09-06 10:27:00               36.933333   \n",
       "2023-09-06 10:29:00               36.866667   \n",
       "2023-09-06 10:31:00               36.800000   \n",
       "2023-09-06 10:50:00               36.733333   \n",
       "2023-09-06 10:51:00               36.666667   \n",
       "2023-09-06 10:59:00               36.600000   \n",
       "2023-09-06 11:04:00               36.533333   \n",
       "2023-09-06 11:08:00               36.466667   \n",
       "2023-09-06 11:10:00               36.400000   \n",
       "2023-09-06 11:13:00               36.333333   \n",
       "2023-09-06 11:29:00               36.266667   \n",
       "2023-09-06 11:33:00               36.200000   \n",
       "2023-09-06 11:37:00               36.133333   \n",
       "2023-09-06 11:47:00               36.066667   \n",
       "2023-09-06 11:50:00               36.000000   \n",
       "2023-09-06 11:53:00               35.500000   \n",
       "2023-09-06 11:54:00               35.000000   \n",
       "2023-09-06 11:56:00               34.625000   \n",
       "2023-09-06 11:58:00               34.250000   \n",
       "2023-09-06 11:59:00               33.875000   \n",
       "2023-09-06 12:00:00               33.500000   \n",
       "2023-09-06 12:01:00               32.000000   \n",
       "2023-09-06 12:02:00               31.666667   \n",
       "2023-09-06 12:03:00               31.333333   \n",
       "2023-09-06 12:04:00               31.000000   \n",
       "2023-09-06 12:05:00               25.250000   \n",
       "2023-09-06 12:06:00               19.500000   \n",
       "2023-09-06 12:07:00                4.500000   \n",
       "2023-09-06 12:08:00                0.000000   \n",
       "\n",
       "programa_academico   Ingeniería de Sistemas y Computación  \n",
       "hora                                                       \n",
       "2023-09-06 09:45:00                              1.000000  \n",
       "2023-09-06 09:51:00                              1.200000  \n",
       "2023-09-06 09:52:00                              1.400000  \n",
       "2023-09-06 09:53:00                              1.600000  \n",
       "2023-09-06 09:54:00                              1.800000  \n",
       "2023-09-06 09:55:00                              2.000000  \n",
       "2023-09-06 09:56:00                              3.000000  \n",
       "2023-09-06 09:57:00                              4.000000  \n",
       "2023-09-06 09:58:00                              7.000000  \n",
       "2023-09-06 09:59:00                              9.500000  \n",
       "2023-09-06 10:00:00                             12.000000  \n",
       "2023-09-06 10:01:00                             16.500000  \n",
       "2023-09-06 10:02:00                             21.000000  \n",
       "2023-09-06 10:03:00                             26.000000  \n",
       "2023-09-06 10:04:00                             30.500000  \n",
       "2023-09-06 10:05:00                             32.000000  \n",
       "2023-09-06 10:06:00                             35.000000  \n",
       "2023-09-06 10:07:00                             39.000000  \n",
       "2023-09-06 10:08:00                             42.500000  \n",
       "2023-09-06 10:09:00                             46.000000  \n",
       "2023-09-06 10:10:00                             46.666667  \n",
       "2023-09-06 10:11:00                             47.333333  \n",
       "2023-09-06 10:14:00                             48.000000  \n",
       "2023-09-06 10:15:00                             51.500000  \n",
       "2023-09-06 10:16:00                             55.500000  \n",
       "2023-09-06 10:17:00                             56.250000  \n",
       "2023-09-06 10:18:00                             57.000000  \n",
       "2023-09-06 10:19:00                             56.000000  \n",
       "2023-09-06 10:20:00                             57.500000  \n",
       "2023-09-06 10:21:00                             57.000000  \n",
       "2023-09-06 10:23:00                             57.500000  \n",
       "2023-09-06 10:27:00                             58.000000  \n",
       "2023-09-06 10:29:00                             59.000000  \n",
       "2023-09-06 10:31:00                             58.000000  \n",
       "2023-09-06 10:50:00                             57.000000  \n",
       "2023-09-06 10:51:00                             57.500000  \n",
       "2023-09-06 10:59:00                             58.000000  \n",
       "2023-09-06 11:04:00                             57.333333  \n",
       "2023-09-06 11:08:00                             56.666667  \n",
       "2023-09-06 11:10:00                             56.000000  \n",
       "2023-09-06 11:13:00                             55.000000  \n",
       "2023-09-06 11:29:00                             54.000000  \n",
       "2023-09-06 11:33:00                             53.000000  \n",
       "2023-09-06 11:37:00                             51.500000  \n",
       "2023-09-06 11:47:00                             51.000000  \n",
       "2023-09-06 11:50:00                             50.500000  \n",
       "2023-09-06 11:53:00                             50.000000  \n",
       "2023-09-06 11:54:00                             49.000000  \n",
       "2023-09-06 11:56:00                             46.500000  \n",
       "2023-09-06 11:58:00                             43.500000  \n",
       "2023-09-06 11:59:00                             41.500000  \n",
       "2023-09-06 12:00:00                             39.500000  \n",
       "2023-09-06 12:01:00                             34.500000  \n",
       "2023-09-06 12:02:00                             27.500000  \n",
       "2023-09-06 12:03:00                             24.000000  \n",
       "2023-09-06 12:04:00                             23.000000  \n",
       "2023-09-06 12:05:00                             21.000000  \n",
       "2023-09-06 12:06:00                             12.000000  \n",
       "2023-09-06 12:07:00                              2.500000  \n",
       "2023-09-06 12:08:00                              0.000000  "
      ]
     },
     "execution_count": 49,
     "metadata": {},
     "output_type": "execute_result"
    }
   ],
   "source": [
    "evento_06.pivot_table(index='hora',columns='programa_academico',values='personas_presentes').interpolate(method='linear').fillna(0)"
   ]
  },
  {
   "cell_type": "code",
   "execution_count": 50,
   "metadata": {},
   "outputs": [
    {
     "data": {
      "text/html": [
       "<div>\n",
       "<style scoped>\n",
       "    .dataframe tbody tr th:only-of-type {\n",
       "        vertical-align: middle;\n",
       "    }\n",
       "\n",
       "    .dataframe tbody tr th {\n",
       "        vertical-align: top;\n",
       "    }\n",
       "\n",
       "    .dataframe thead th {\n",
       "        text-align: right;\n",
       "    }\n",
       "</style>\n",
       "<table border=\"1\" class=\"dataframe\">\n",
       "  <thead>\n",
       "    <tr style=\"text-align: right;\">\n",
       "      <th></th>\n",
       "      <th>nombre</th>\n",
       "      <th>correo</th>\n",
       "      <th>programa_academico</th>\n",
       "      <th>asignatura</th>\n",
       "      <th>evento_1</th>\n",
       "      <th>evento_2</th>\n",
       "      <th>evento_3</th>\n",
       "      <th>evento_4</th>\n",
       "      <th>evento_5</th>\n",
       "      <th>evento_6</th>\n",
       "      <th>evento_7</th>\n",
       "      <th>evento_8</th>\n",
       "      <th>evento_9</th>\n",
       "    </tr>\n",
       "  </thead>\n",
       "  <tbody>\n",
       "    <tr>\n",
       "      <th>42</th>\n",
       "      <td>Frey Alfonso Santamaría Buitrago</td>\n",
       "      <td>frey.santamaria@uptc.edu.co</td>\n",
       "      <td>Docente</td>\n",
       "      <td>Profesionales</td>\n",
       "      <td>si</td>\n",
       "      <td>si</td>\n",
       "      <td>si</td>\n",
       "      <td>si</td>\n",
       "      <td>si</td>\n",
       "      <td>si</td>\n",
       "      <td>si</td>\n",
       "      <td>si</td>\n",
       "      <td>si</td>\n",
       "    </tr>\n",
       "    <tr>\n",
       "      <th>49</th>\n",
       "      <td>Ingrid Ortiz</td>\n",
       "      <td>ingrid.ortiz05@uptc.edu.co</td>\n",
       "      <td>Docente</td>\n",
       "      <td>Profesionales</td>\n",
       "      <td>no</td>\n",
       "      <td>no</td>\n",
       "      <td>si</td>\n",
       "      <td>no</td>\n",
       "      <td>no</td>\n",
       "      <td>no</td>\n",
       "      <td>si</td>\n",
       "      <td>si</td>\n",
       "      <td>si</td>\n",
       "    </tr>\n",
       "    <tr>\n",
       "      <th>50</th>\n",
       "      <td>Jairo Alonso Mesa Lara</td>\n",
       "      <td>jairo.mesa@uptc.edu.co</td>\n",
       "      <td>Docente</td>\n",
       "      <td>Profesionales</td>\n",
       "      <td>no</td>\n",
       "      <td>no</td>\n",
       "      <td>no</td>\n",
       "      <td>no</td>\n",
       "      <td>no</td>\n",
       "      <td>no</td>\n",
       "      <td>no</td>\n",
       "      <td>no</td>\n",
       "      <td>no</td>\n",
       "    </tr>\n",
       "    <tr>\n",
       "      <th>51</th>\n",
       "      <td>Jaraquesoler</td>\n",
       "      <td>jaraquesoler@gmail.com</td>\n",
       "      <td>Docente</td>\n",
       "      <td>Profesionales</td>\n",
       "      <td>no</td>\n",
       "      <td>no</td>\n",
       "      <td>no</td>\n",
       "      <td>no</td>\n",
       "      <td>no</td>\n",
       "      <td>no</td>\n",
       "      <td>no</td>\n",
       "      <td>no</td>\n",
       "      <td>no</td>\n",
       "    </tr>\n",
       "    <tr>\n",
       "      <th>56</th>\n",
       "      <td>Jenny Amparo Rosales Agredo</td>\n",
       "      <td>jenny.rosales@uptc.edu.co</td>\n",
       "      <td>Docente</td>\n",
       "      <td>Profesionales</td>\n",
       "      <td>si</td>\n",
       "      <td>si</td>\n",
       "      <td>si</td>\n",
       "      <td>si</td>\n",
       "      <td>si</td>\n",
       "      <td>si</td>\n",
       "      <td>si</td>\n",
       "      <td>si</td>\n",
       "      <td>si</td>\n",
       "    </tr>\n",
       "    <tr>\n",
       "      <th>96</th>\n",
       "      <td>Luz Santamaría Granados</td>\n",
       "      <td>luz.santamaria@uptc.edu.co</td>\n",
       "      <td>Docente</td>\n",
       "      <td>Profesionales</td>\n",
       "      <td>si</td>\n",
       "      <td>si</td>\n",
       "      <td>no</td>\n",
       "      <td>no</td>\n",
       "      <td>si</td>\n",
       "      <td>no</td>\n",
       "      <td>no</td>\n",
       "      <td>no</td>\n",
       "      <td>no</td>\n",
       "    </tr>\n",
       "    <tr>\n",
       "      <th>97</th>\n",
       "      <td>Luz Santamaría Granados</td>\n",
       "      <td>luz.santamaria@uptc.edu.co</td>\n",
       "      <td>Docente</td>\n",
       "      <td>Profesionales</td>\n",
       "      <td>si</td>\n",
       "      <td>si</td>\n",
       "      <td>no</td>\n",
       "      <td>no</td>\n",
       "      <td>si</td>\n",
       "      <td>no</td>\n",
       "      <td>no</td>\n",
       "      <td>no</td>\n",
       "      <td>no</td>\n",
       "    </tr>\n",
       "    <tr>\n",
       "      <th>108</th>\n",
       "      <td>Miguel Angel Mendoza Moreno</td>\n",
       "      <td>miguel.mendoza@uptc.edu.co</td>\n",
       "      <td>Docente</td>\n",
       "      <td>Profesionales</td>\n",
       "      <td>no</td>\n",
       "      <td>no</td>\n",
       "      <td>no</td>\n",
       "      <td>no</td>\n",
       "      <td>no</td>\n",
       "      <td>no</td>\n",
       "      <td>no</td>\n",
       "      <td>no</td>\n",
       "      <td>no</td>\n",
       "    </tr>\n",
       "    <tr>\n",
       "      <th>115</th>\n",
       "      <td>Oscar Fernando Vera Cely</td>\n",
       "      <td>oscar.vera@uptc.edu.co</td>\n",
       "      <td>Docente</td>\n",
       "      <td>Profesionales</td>\n",
       "      <td>si</td>\n",
       "      <td>si</td>\n",
       "      <td>si</td>\n",
       "      <td>si</td>\n",
       "      <td>si</td>\n",
       "      <td>si</td>\n",
       "      <td>si</td>\n",
       "      <td>no</td>\n",
       "      <td>no</td>\n",
       "    </tr>\n",
       "  </tbody>\n",
       "</table>\n",
       "</div>"
      ],
      "text/plain": [
       "                               nombre                       correo  \\\n",
       "42   Frey Alfonso Santamaría Buitrago  frey.santamaria@uptc.edu.co   \n",
       "49                       Ingrid Ortiz   ingrid.ortiz05@uptc.edu.co   \n",
       "50             Jairo Alonso Mesa Lara       jairo.mesa@uptc.edu.co   \n",
       "51                       Jaraquesoler       jaraquesoler@gmail.com   \n",
       "56        Jenny Amparo Rosales Agredo    jenny.rosales@uptc.edu.co   \n",
       "96            Luz Santamaría Granados   luz.santamaria@uptc.edu.co   \n",
       "97            Luz Santamaría Granados   luz.santamaria@uptc.edu.co   \n",
       "108       Miguel Angel Mendoza Moreno   miguel.mendoza@uptc.edu.co   \n",
       "115          Oscar Fernando Vera Cely       oscar.vera@uptc.edu.co   \n",
       "\n",
       "    programa_academico     asignatura evento_1 evento_2 evento_3 evento_4  \\\n",
       "42             Docente  Profesionales       si       si       si       si   \n",
       "49             Docente  Profesionales       no       no       si       no   \n",
       "50             Docente  Profesionales       no       no       no       no   \n",
       "51             Docente  Profesionales       no       no       no       no   \n",
       "56             Docente  Profesionales       si       si       si       si   \n",
       "96             Docente  Profesionales       si       si       no       no   \n",
       "97             Docente  Profesionales       si       si       no       no   \n",
       "108            Docente  Profesionales       no       no       no       no   \n",
       "115            Docente  Profesionales       si       si       si       si   \n",
       "\n",
       "    evento_5 evento_6 evento_7 evento_8 evento_9  \n",
       "42        si       si       si       si       si  \n",
       "49        no       no       si       si       si  \n",
       "50        no       no       no       no       no  \n",
       "51        no       no       no       no       no  \n",
       "56        si       si       si       si       si  \n",
       "96        si       no       no       no       no  \n",
       "97        si       no       no       no       no  \n",
       "108       no       no       no       no       no  \n",
       "115       si       si       si       no       no  "
      ]
     },
     "execution_count": 50,
     "metadata": {},
     "output_type": "execute_result"
    }
   ],
   "source": [
    "df.loc[df[\"programa_academico\"]==\"Docente\"]"
   ]
  },
  {
   "cell_type": "code",
   "execution_count": 51,
   "metadata": {},
   "outputs": [
    {
     "data": {
      "application/vnd.plotly.v1+json": {
       "config": {
        "plotlyServerURL": "https://plot.ly"
       },
       "data": [
        {
         "hovertemplate": "programa_academico=Ingeniería de Sistemas y Computación<br>hora=%{x}<br>personas_presentes=%{y}<extra></extra>",
         "legendgroup": "Ingeniería de Sistemas y Computación",
         "line": {
          "color": "#636efa",
          "dash": "solid"
         },
         "marker": {
          "symbol": "circle"
         },
         "mode": "lines",
         "name": "Ingeniería de Sistemas y Computación",
         "orientation": "v",
         "showlegend": true,
         "type": "scatter",
         "x": [
          "2023-09-06T09:45:00",
          "2023-09-06T09:55:00",
          "2023-09-06T09:57:00",
          "2023-09-06T09:57:00",
          "2023-09-06T09:57:00",
          "2023-09-06T09:58:00",
          "2023-09-06T09:58:00",
          "2023-09-06T09:58:00",
          "2023-09-06T09:59:00",
          "2023-09-06T09:59:00",
          "2023-09-06T10:00:00",
          "2023-09-06T10:00:00",
          "2023-09-06T10:00:00",
          "2023-09-06T10:01:00",
          "2023-09-06T10:01:00",
          "2023-09-06T10:01:00",
          "2023-09-06T10:01:00",
          "2023-09-06T10:01:00",
          "2023-09-06T10:01:00",
          "2023-09-06T10:02:00",
          "2023-09-06T10:02:00",
          "2023-09-06T10:02:00",
          "2023-09-06T10:03:00",
          "2023-09-06T10:03:00",
          "2023-09-06T10:03:00",
          "2023-09-06T10:03:00",
          "2023-09-06T10:03:00",
          "2023-09-06T10:03:00",
          "2023-09-06T10:03:00",
          "2023-09-06T10:04:00",
          "2023-09-06T10:04:00",
          "2023-09-06T10:05:00",
          "2023-09-06T10:06:00",
          "2023-09-06T10:06:00",
          "2023-09-06T10:06:00",
          "2023-09-06T10:06:00",
          "2023-09-06T10:06:00",
          "2023-09-06T10:07:00",
          "2023-09-06T10:07:00",
          "2023-09-06T10:07:00",
          "2023-09-06T10:08:00",
          "2023-09-06T10:08:00",
          "2023-09-06T10:08:00",
          "2023-09-06T10:08:00",
          "2023-09-06T10:09:00",
          "2023-09-06T10:09:00",
          "2023-09-06T10:09:00",
          "2023-09-06T10:14:00",
          "2023-09-06T10:15:00",
          "2023-09-06T10:15:00",
          "2023-09-06T10:15:00",
          "2023-09-06T10:15:00",
          "2023-09-06T10:15:00",
          "2023-09-06T10:15:00",
          "2023-09-06T10:16:00",
          "2023-09-06T10:16:00",
          "2023-09-06T10:18:00",
          "2023-09-06T10:19:00",
          "2023-09-06T10:20:00",
          "2023-09-06T10:20:00",
          "2023-09-06T10:21:00",
          "2023-09-06T10:27:00",
          "2023-09-06T10:29:00",
          "2023-09-06T10:31:00",
          "2023-09-06T10:50:00",
          "2023-09-06T10:59:00",
          "2023-09-06T11:08:00",
          "2023-09-06T11:08:00",
          "2023-09-06T11:08:00",
          "2023-09-06T11:10:00",
          "2023-09-06T11:13:00",
          "2023-09-06T11:29:00",
          "2023-09-06T11:33:00",
          "2023-09-06T11:37:00",
          "2023-09-06T11:37:00",
          "2023-09-06T11:53:00",
          "2023-09-06T11:54:00",
          "2023-09-06T11:56:00",
          "2023-09-06T11:56:00",
          "2023-09-06T11:56:00",
          "2023-09-06T11:56:00",
          "2023-09-06T11:58:00",
          "2023-09-06T11:58:00",
          "2023-09-06T11:59:00",
          "2023-09-06T11:59:00",
          "2023-09-06T12:00:00",
          "2023-09-06T12:00:00",
          "2023-09-06T12:01:00",
          "2023-09-06T12:01:00",
          "2023-09-06T12:01:00",
          "2023-09-06T12:01:00",
          "2023-09-06T12:01:00",
          "2023-09-06T12:01:00",
          "2023-09-06T12:01:00",
          "2023-09-06T12:01:00",
          "2023-09-06T12:02:00",
          "2023-09-06T12:02:00",
          "2023-09-06T12:02:00",
          "2023-09-06T12:02:00",
          "2023-09-06T12:02:00",
          "2023-09-06T12:02:00",
          "2023-09-06T12:03:00",
          "2023-09-06T12:04:00",
          "2023-09-06T12:05:00",
          "2023-09-06T12:05:00",
          "2023-09-06T12:05:00",
          "2023-09-06T12:06:00",
          "2023-09-06T12:06:00",
          "2023-09-06T12:06:00",
          "2023-09-06T12:06:00",
          "2023-09-06T12:06:00",
          "2023-09-06T12:06:00",
          "2023-09-06T12:06:00",
          "2023-09-06T12:06:00",
          "2023-09-06T12:06:00",
          "2023-09-06T12:06:00",
          "2023-09-06T12:06:00",
          "2023-09-06T12:06:00",
          "2023-09-06T12:06:00",
          "2023-09-06T12:06:00",
          "2023-09-06T12:06:00",
          "2023-09-06T12:07:00",
          "2023-09-06T12:07:00",
          "2023-09-06T12:07:00",
          "2023-09-06T12:07:00",
          "2023-09-06T12:08:00"
         ],
         "xaxis": "x",
         "y": [
          1,
          2,
          3,
          4,
          5,
          6,
          7,
          8,
          9,
          10,
          11,
          12,
          13,
          14,
          15,
          16,
          17,
          18,
          19,
          20,
          21,
          22,
          23,
          24,
          25,
          26,
          27,
          28,
          29,
          30,
          31,
          32,
          33,
          34,
          35,
          36,
          37,
          38,
          39,
          40,
          41,
          42,
          43,
          44,
          45,
          46,
          47,
          48,
          49,
          50,
          51,
          52,
          53,
          54,
          55,
          56,
          57,
          56,
          57,
          58,
          57,
          58,
          59,
          58,
          57,
          58,
          57,
          56,
          57,
          56,
          55,
          54,
          53,
          52,
          51,
          50,
          49,
          48,
          47,
          46,
          45,
          44,
          43,
          42,
          41,
          40,
          39,
          38,
          37,
          36,
          35,
          34,
          33,
          32,
          31,
          30,
          29,
          28,
          27,
          26,
          25,
          24,
          23,
          22,
          21,
          20,
          19,
          18,
          17,
          16,
          15,
          14,
          13,
          12,
          11,
          10,
          9,
          8,
          7,
          6,
          5,
          4,
          3,
          2,
          1,
          0
         ],
         "yaxis": "y"
        },
        {
         "hovertemplate": "programa_academico=Docente<br>hora=%{x}<br>personas_presentes=%{y}<extra></extra>",
         "legendgroup": "Docente",
         "line": {
          "color": "#EF553B",
          "dash": "solid"
         },
         "marker": {
          "symbol": "circle"
         },
         "mode": "lines",
         "name": "Docente",
         "orientation": "v",
         "showlegend": true,
         "type": "scatter",
         "x": [
          "2023-09-06T09:51:00",
          "2023-09-06T10:08:00",
          "2023-09-06T10:08:00",
          "2023-09-06T10:11:00",
          "2023-09-06T12:03:00",
          "2023-09-06T12:07:00",
          "2023-09-06T12:08:00",
          "2023-09-06T12:08:00"
         ],
         "xaxis": "x",
         "y": [
          1,
          2,
          3,
          4,
          3,
          2,
          1,
          0
         ],
         "yaxis": "y"
        },
        {
         "hovertemplate": "programa_academico=Ingeniería Electrónica<br>hora=%{x}<br>personas_presentes=%{y}<extra></extra>",
         "legendgroup": "Ingeniería Electrónica",
         "line": {
          "color": "#00cc96",
          "dash": "solid"
         },
         "marker": {
          "symbol": "circle"
         },
         "mode": "lines",
         "name": "Ingeniería Electrónica",
         "orientation": "v",
         "showlegend": true,
         "type": "scatter",
         "x": [
          "2023-09-06T09:52:00",
          "2023-09-06T09:53:00",
          "2023-09-06T09:54:00",
          "2023-09-06T09:55:00",
          "2023-09-06T09:56:00",
          "2023-09-06T09:57:00",
          "2023-09-06T09:58:00",
          "2023-09-06T09:59:00",
          "2023-09-06T09:59:00",
          "2023-09-06T09:59:00",
          "2023-09-06T10:00:00",
          "2023-09-06T10:00:00",
          "2023-09-06T10:00:00",
          "2023-09-06T10:00:00",
          "2023-09-06T10:00:00",
          "2023-09-06T10:01:00",
          "2023-09-06T10:01:00",
          "2023-09-06T10:01:00",
          "2023-09-06T10:02:00",
          "2023-09-06T10:02:00",
          "2023-09-06T10:02:00",
          "2023-09-06T10:02:00",
          "2023-09-06T10:03:00",
          "2023-09-06T10:03:00",
          "2023-09-06T10:04:00",
          "2023-09-06T10:04:00",
          "2023-09-06T10:05:00",
          "2023-09-06T10:07:00",
          "2023-09-06T10:07:00",
          "2023-09-06T10:08:00",
          "2023-09-06T10:08:00",
          "2023-09-06T10:09:00",
          "2023-09-06T10:09:00",
          "2023-09-06T10:10:00",
          "2023-09-06T10:10:00",
          "2023-09-06T10:10:00",
          "2023-09-06T10:17:00",
          "2023-09-06T10:18:00",
          "2023-09-06T10:23:00",
          "2023-09-06T11:50:00",
          "2023-09-06T11:54:00",
          "2023-09-06T12:00:00",
          "2023-09-06T12:00:00",
          "2023-09-06T12:01:00",
          "2023-09-06T12:04:00",
          "2023-09-06T12:06:00",
          "2023-09-06T12:06:00",
          "2023-09-06T12:06:00",
          "2023-09-06T12:06:00",
          "2023-09-06T12:06:00",
          "2023-09-06T12:06:00",
          "2023-09-06T12:06:00",
          "2023-09-06T12:06:00",
          "2023-09-06T12:06:00",
          "2023-09-06T12:06:00",
          "2023-09-06T12:06:00",
          "2023-09-06T12:06:00",
          "2023-09-06T12:06:00",
          "2023-09-06T12:06:00",
          "2023-09-06T12:06:00",
          "2023-09-06T12:06:00",
          "2023-09-06T12:06:00",
          "2023-09-06T12:06:00",
          "2023-09-06T12:06:00",
          "2023-09-06T12:06:00",
          "2023-09-06T12:06:00",
          "2023-09-06T12:06:00",
          "2023-09-06T12:07:00",
          "2023-09-06T12:07:00",
          "2023-09-06T12:07:00",
          "2023-09-06T12:07:00",
          "2023-09-06T12:07:00",
          "2023-09-06T12:07:00",
          "2023-09-06T12:07:00",
          "2023-09-06T12:07:00",
          "2023-09-06T12:08:00"
         ],
         "xaxis": "x",
         "y": [
          1,
          2,
          3,
          4,
          5,
          6,
          7,
          8,
          9,
          10,
          11,
          12,
          13,
          14,
          15,
          16,
          17,
          18,
          19,
          20,
          21,
          22,
          23,
          24,
          25,
          26,
          27,
          28,
          29,
          30,
          31,
          30,
          31,
          32,
          33,
          34,
          35,
          36,
          37,
          36,
          35,
          34,
          33,
          32,
          31,
          30,
          29,
          28,
          27,
          26,
          25,
          24,
          23,
          22,
          21,
          20,
          19,
          18,
          17,
          16,
          15,
          14,
          13,
          12,
          11,
          10,
          9,
          8,
          7,
          6,
          5,
          4,
          3,
          2,
          1,
          0
         ],
         "yaxis": "y"
        },
        {
         "hovertemplate": "programa_academico=Gobernación de Boyacá<br>hora=%{x}<br>personas_presentes=%{y}<extra></extra>",
         "legendgroup": "Gobernación de Boyacá",
         "line": {
          "color": "#ab63fa",
          "dash": "solid"
         },
         "marker": {
          "symbol": "circle"
         },
         "mode": "lines",
         "name": "Gobernación de Boyacá",
         "orientation": "v",
         "showlegend": true,
         "type": "scatter",
         "x": [
          "2023-09-06T10:18:00",
          "2023-09-06T10:21:00",
          "2023-09-06T10:23:00",
          "2023-09-06T10:29:00",
          "2023-09-06T11:47:00",
          "2023-09-06T12:06:00",
          "2023-09-06T12:08:00",
          "2023-09-06T12:08:00"
         ],
         "xaxis": "x",
         "y": [
          1,
          2,
          3,
          4,
          3,
          2,
          1,
          0
         ],
         "yaxis": "y"
        },
        {
         "hovertemplate": "programa_academico=Administrativo<br>hora=%{x}<br>personas_presentes=%{y}<extra></extra>",
         "legendgroup": "Administrativo",
         "line": {
          "color": "#FFA15A",
          "dash": "solid"
         },
         "marker": {
          "symbol": "circle"
         },
         "mode": "lines",
         "name": "Administrativo",
         "orientation": "v",
         "showlegend": true,
         "type": "scatter",
         "x": [
          "2023-09-06T10:51:00",
          "2023-09-06T11:04:00"
         ],
         "xaxis": "x",
         "y": [
          1,
          0
         ],
         "yaxis": "y"
        }
       ],
       "layout": {
        "legend": {
         "title": {
          "text": "programa_academico"
         },
         "tracegroupgap": 0
        },
        "template": {
         "data": {
          "bar": [
           {
            "error_x": {
             "color": "#f2f5fa"
            },
            "error_y": {
             "color": "#f2f5fa"
            },
            "marker": {
             "line": {
              "color": "rgb(17,17,17)",
              "width": 0.5
             },
             "pattern": {
              "fillmode": "overlay",
              "size": 10,
              "solidity": 0.2
             }
            },
            "type": "bar"
           }
          ],
          "barpolar": [
           {
            "marker": {
             "line": {
              "color": "rgb(17,17,17)",
              "width": 0.5
             },
             "pattern": {
              "fillmode": "overlay",
              "size": 10,
              "solidity": 0.2
             }
            },
            "type": "barpolar"
           }
          ],
          "carpet": [
           {
            "aaxis": {
             "endlinecolor": "#A2B1C6",
             "gridcolor": "#506784",
             "linecolor": "#506784",
             "minorgridcolor": "#506784",
             "startlinecolor": "#A2B1C6"
            },
            "baxis": {
             "endlinecolor": "#A2B1C6",
             "gridcolor": "#506784",
             "linecolor": "#506784",
             "minorgridcolor": "#506784",
             "startlinecolor": "#A2B1C6"
            },
            "type": "carpet"
           }
          ],
          "choropleth": [
           {
            "colorbar": {
             "outlinewidth": 0,
             "ticks": ""
            },
            "type": "choropleth"
           }
          ],
          "contour": [
           {
            "colorbar": {
             "outlinewidth": 0,
             "ticks": ""
            },
            "colorscale": [
             [
              0,
              "#0d0887"
             ],
             [
              0.1111111111111111,
              "#46039f"
             ],
             [
              0.2222222222222222,
              "#7201a8"
             ],
             [
              0.3333333333333333,
              "#9c179e"
             ],
             [
              0.4444444444444444,
              "#bd3786"
             ],
             [
              0.5555555555555556,
              "#d8576b"
             ],
             [
              0.6666666666666666,
              "#ed7953"
             ],
             [
              0.7777777777777778,
              "#fb9f3a"
             ],
             [
              0.8888888888888888,
              "#fdca26"
             ],
             [
              1,
              "#f0f921"
             ]
            ],
            "type": "contour"
           }
          ],
          "contourcarpet": [
           {
            "colorbar": {
             "outlinewidth": 0,
             "ticks": ""
            },
            "type": "contourcarpet"
           }
          ],
          "heatmap": [
           {
            "colorbar": {
             "outlinewidth": 0,
             "ticks": ""
            },
            "colorscale": [
             [
              0,
              "#0d0887"
             ],
             [
              0.1111111111111111,
              "#46039f"
             ],
             [
              0.2222222222222222,
              "#7201a8"
             ],
             [
              0.3333333333333333,
              "#9c179e"
             ],
             [
              0.4444444444444444,
              "#bd3786"
             ],
             [
              0.5555555555555556,
              "#d8576b"
             ],
             [
              0.6666666666666666,
              "#ed7953"
             ],
             [
              0.7777777777777778,
              "#fb9f3a"
             ],
             [
              0.8888888888888888,
              "#fdca26"
             ],
             [
              1,
              "#f0f921"
             ]
            ],
            "type": "heatmap"
           }
          ],
          "heatmapgl": [
           {
            "colorbar": {
             "outlinewidth": 0,
             "ticks": ""
            },
            "colorscale": [
             [
              0,
              "#0d0887"
             ],
             [
              0.1111111111111111,
              "#46039f"
             ],
             [
              0.2222222222222222,
              "#7201a8"
             ],
             [
              0.3333333333333333,
              "#9c179e"
             ],
             [
              0.4444444444444444,
              "#bd3786"
             ],
             [
              0.5555555555555556,
              "#d8576b"
             ],
             [
              0.6666666666666666,
              "#ed7953"
             ],
             [
              0.7777777777777778,
              "#fb9f3a"
             ],
             [
              0.8888888888888888,
              "#fdca26"
             ],
             [
              1,
              "#f0f921"
             ]
            ],
            "type": "heatmapgl"
           }
          ],
          "histogram": [
           {
            "marker": {
             "pattern": {
              "fillmode": "overlay",
              "size": 10,
              "solidity": 0.2
             }
            },
            "type": "histogram"
           }
          ],
          "histogram2d": [
           {
            "colorbar": {
             "outlinewidth": 0,
             "ticks": ""
            },
            "colorscale": [
             [
              0,
              "#0d0887"
             ],
             [
              0.1111111111111111,
              "#46039f"
             ],
             [
              0.2222222222222222,
              "#7201a8"
             ],
             [
              0.3333333333333333,
              "#9c179e"
             ],
             [
              0.4444444444444444,
              "#bd3786"
             ],
             [
              0.5555555555555556,
              "#d8576b"
             ],
             [
              0.6666666666666666,
              "#ed7953"
             ],
             [
              0.7777777777777778,
              "#fb9f3a"
             ],
             [
              0.8888888888888888,
              "#fdca26"
             ],
             [
              1,
              "#f0f921"
             ]
            ],
            "type": "histogram2d"
           }
          ],
          "histogram2dcontour": [
           {
            "colorbar": {
             "outlinewidth": 0,
             "ticks": ""
            },
            "colorscale": [
             [
              0,
              "#0d0887"
             ],
             [
              0.1111111111111111,
              "#46039f"
             ],
             [
              0.2222222222222222,
              "#7201a8"
             ],
             [
              0.3333333333333333,
              "#9c179e"
             ],
             [
              0.4444444444444444,
              "#bd3786"
             ],
             [
              0.5555555555555556,
              "#d8576b"
             ],
             [
              0.6666666666666666,
              "#ed7953"
             ],
             [
              0.7777777777777778,
              "#fb9f3a"
             ],
             [
              0.8888888888888888,
              "#fdca26"
             ],
             [
              1,
              "#f0f921"
             ]
            ],
            "type": "histogram2dcontour"
           }
          ],
          "mesh3d": [
           {
            "colorbar": {
             "outlinewidth": 0,
             "ticks": ""
            },
            "type": "mesh3d"
           }
          ],
          "parcoords": [
           {
            "line": {
             "colorbar": {
              "outlinewidth": 0,
              "ticks": ""
             }
            },
            "type": "parcoords"
           }
          ],
          "pie": [
           {
            "automargin": true,
            "type": "pie"
           }
          ],
          "scatter": [
           {
            "marker": {
             "line": {
              "color": "#283442"
             }
            },
            "type": "scatter"
           }
          ],
          "scatter3d": [
           {
            "line": {
             "colorbar": {
              "outlinewidth": 0,
              "ticks": ""
             }
            },
            "marker": {
             "colorbar": {
              "outlinewidth": 0,
              "ticks": ""
             }
            },
            "type": "scatter3d"
           }
          ],
          "scattercarpet": [
           {
            "marker": {
             "colorbar": {
              "outlinewidth": 0,
              "ticks": ""
             }
            },
            "type": "scattercarpet"
           }
          ],
          "scattergeo": [
           {
            "marker": {
             "colorbar": {
              "outlinewidth": 0,
              "ticks": ""
             }
            },
            "type": "scattergeo"
           }
          ],
          "scattergl": [
           {
            "marker": {
             "line": {
              "color": "#283442"
             }
            },
            "type": "scattergl"
           }
          ],
          "scattermapbox": [
           {
            "marker": {
             "colorbar": {
              "outlinewidth": 0,
              "ticks": ""
             }
            },
            "type": "scattermapbox"
           }
          ],
          "scatterpolar": [
           {
            "marker": {
             "colorbar": {
              "outlinewidth": 0,
              "ticks": ""
             }
            },
            "type": "scatterpolar"
           }
          ],
          "scatterpolargl": [
           {
            "marker": {
             "colorbar": {
              "outlinewidth": 0,
              "ticks": ""
             }
            },
            "type": "scatterpolargl"
           }
          ],
          "scatterternary": [
           {
            "marker": {
             "colorbar": {
              "outlinewidth": 0,
              "ticks": ""
             }
            },
            "type": "scatterternary"
           }
          ],
          "surface": [
           {
            "colorbar": {
             "outlinewidth": 0,
             "ticks": ""
            },
            "colorscale": [
             [
              0,
              "#0d0887"
             ],
             [
              0.1111111111111111,
              "#46039f"
             ],
             [
              0.2222222222222222,
              "#7201a8"
             ],
             [
              0.3333333333333333,
              "#9c179e"
             ],
             [
              0.4444444444444444,
              "#bd3786"
             ],
             [
              0.5555555555555556,
              "#d8576b"
             ],
             [
              0.6666666666666666,
              "#ed7953"
             ],
             [
              0.7777777777777778,
              "#fb9f3a"
             ],
             [
              0.8888888888888888,
              "#fdca26"
             ],
             [
              1,
              "#f0f921"
             ]
            ],
            "type": "surface"
           }
          ],
          "table": [
           {
            "cells": {
             "fill": {
              "color": "#506784"
             },
             "line": {
              "color": "rgb(17,17,17)"
             }
            },
            "header": {
             "fill": {
              "color": "#2a3f5f"
             },
             "line": {
              "color": "rgb(17,17,17)"
             }
            },
            "type": "table"
           }
          ]
         },
         "layout": {
          "annotationdefaults": {
           "arrowcolor": "#f2f5fa",
           "arrowhead": 0,
           "arrowwidth": 1
          },
          "autotypenumbers": "strict",
          "coloraxis": {
           "colorbar": {
            "outlinewidth": 0,
            "ticks": ""
           }
          },
          "colorscale": {
           "diverging": [
            [
             0,
             "#8e0152"
            ],
            [
             0.1,
             "#c51b7d"
            ],
            [
             0.2,
             "#de77ae"
            ],
            [
             0.3,
             "#f1b6da"
            ],
            [
             0.4,
             "#fde0ef"
            ],
            [
             0.5,
             "#f7f7f7"
            ],
            [
             0.6,
             "#e6f5d0"
            ],
            [
             0.7,
             "#b8e186"
            ],
            [
             0.8,
             "#7fbc41"
            ],
            [
             0.9,
             "#4d9221"
            ],
            [
             1,
             "#276419"
            ]
           ],
           "sequential": [
            [
             0,
             "#0d0887"
            ],
            [
             0.1111111111111111,
             "#46039f"
            ],
            [
             0.2222222222222222,
             "#7201a8"
            ],
            [
             0.3333333333333333,
             "#9c179e"
            ],
            [
             0.4444444444444444,
             "#bd3786"
            ],
            [
             0.5555555555555556,
             "#d8576b"
            ],
            [
             0.6666666666666666,
             "#ed7953"
            ],
            [
             0.7777777777777778,
             "#fb9f3a"
            ],
            [
             0.8888888888888888,
             "#fdca26"
            ],
            [
             1,
             "#f0f921"
            ]
           ],
           "sequentialminus": [
            [
             0,
             "#0d0887"
            ],
            [
             0.1111111111111111,
             "#46039f"
            ],
            [
             0.2222222222222222,
             "#7201a8"
            ],
            [
             0.3333333333333333,
             "#9c179e"
            ],
            [
             0.4444444444444444,
             "#bd3786"
            ],
            [
             0.5555555555555556,
             "#d8576b"
            ],
            [
             0.6666666666666666,
             "#ed7953"
            ],
            [
             0.7777777777777778,
             "#fb9f3a"
            ],
            [
             0.8888888888888888,
             "#fdca26"
            ],
            [
             1,
             "#f0f921"
            ]
           ]
          },
          "colorway": [
           "#636efa",
           "#EF553B",
           "#00cc96",
           "#ab63fa",
           "#FFA15A",
           "#19d3f3",
           "#FF6692",
           "#B6E880",
           "#FF97FF",
           "#FECB52"
          ],
          "font": {
           "color": "#f2f5fa"
          },
          "geo": {
           "bgcolor": "rgb(17,17,17)",
           "lakecolor": "rgb(17,17,17)",
           "landcolor": "rgb(17,17,17)",
           "showlakes": true,
           "showland": true,
           "subunitcolor": "#506784"
          },
          "hoverlabel": {
           "align": "left"
          },
          "hovermode": "closest",
          "mapbox": {
           "style": "dark"
          },
          "paper_bgcolor": "rgb(17,17,17)",
          "plot_bgcolor": "rgb(17,17,17)",
          "polar": {
           "angularaxis": {
            "gridcolor": "#506784",
            "linecolor": "#506784",
            "ticks": ""
           },
           "bgcolor": "rgb(17,17,17)",
           "radialaxis": {
            "gridcolor": "#506784",
            "linecolor": "#506784",
            "ticks": ""
           }
          },
          "scene": {
           "xaxis": {
            "backgroundcolor": "rgb(17,17,17)",
            "gridcolor": "#506784",
            "gridwidth": 2,
            "linecolor": "#506784",
            "showbackground": true,
            "ticks": "",
            "zerolinecolor": "#C8D4E3"
           },
           "yaxis": {
            "backgroundcolor": "rgb(17,17,17)",
            "gridcolor": "#506784",
            "gridwidth": 2,
            "linecolor": "#506784",
            "showbackground": true,
            "ticks": "",
            "zerolinecolor": "#C8D4E3"
           },
           "zaxis": {
            "backgroundcolor": "rgb(17,17,17)",
            "gridcolor": "#506784",
            "gridwidth": 2,
            "linecolor": "#506784",
            "showbackground": true,
            "ticks": "",
            "zerolinecolor": "#C8D4E3"
           }
          },
          "shapedefaults": {
           "line": {
            "color": "#f2f5fa"
           }
          },
          "sliderdefaults": {
           "bgcolor": "#C8D4E3",
           "bordercolor": "rgb(17,17,17)",
           "borderwidth": 1,
           "tickwidth": 0
          },
          "ternary": {
           "aaxis": {
            "gridcolor": "#506784",
            "linecolor": "#506784",
            "ticks": ""
           },
           "baxis": {
            "gridcolor": "#506784",
            "linecolor": "#506784",
            "ticks": ""
           },
           "bgcolor": "rgb(17,17,17)",
           "caxis": {
            "gridcolor": "#506784",
            "linecolor": "#506784",
            "ticks": ""
           }
          },
          "title": {
           "x": 0.05
          },
          "updatemenudefaults": {
           "bgcolor": "#506784",
           "borderwidth": 0
          },
          "xaxis": {
           "automargin": true,
           "gridcolor": "#283442",
           "linecolor": "#506784",
           "ticks": "",
           "title": {
            "standoff": 15
           },
           "zerolinecolor": "#283442",
           "zerolinewidth": 2
          },
          "yaxis": {
           "automargin": true,
           "gridcolor": "#283442",
           "linecolor": "#506784",
           "ticks": "",
           "title": {
            "standoff": 15
           },
           "zerolinecolor": "#283442",
           "zerolinewidth": 2
          }
         }
        },
        "title": {
         "font": {
          "family": "JetBrains Mono",
          "size": 30
         },
         "text": "Tendencia de personas por programa"
        },
        "xaxis": {
         "anchor": "y",
         "domain": [
          0,
          1
         ],
         "nticks": 23,
         "title": {
          "text": "hora"
         }
        },
        "yaxis": {
         "anchor": "x",
         "domain": [
          0,
          1
         ],
         "title": {
          "text": "personas_presentes"
         }
        }
       }
      }
     },
     "metadata": {},
     "output_type": "display_data"
    }
   ],
   "source": [
    "people_tendency = px.line(data_frame=evento_06,x='hora',y='personas_presentes',\n",
    "                          title=\"Tendencia de personas por programa\",template='plotly_dark',\n",
    "                          color='programa_academico')\n",
    "people_tendency.update_layout(title=dict(font=dict(family='JetBrains Mono',size=30)),\n",
    "                            xaxis=dict(nticks=23))\n",
    "people_tendency.show()"
   ]
  },
  {
   "cell_type": "code",
   "execution_count": 114,
   "metadata": {},
   "outputs": [
    {
     "data": {
      "application/vnd.plotly.v1+json": {
       "config": {
        "plotlyServerURL": "https://plot.ly"
       },
       "data": [
        {
         "customdata": [
          [
           "Administrativo"
          ],
          [
           "Docente"
          ],
          [
           "Gobernación de Boyacá"
          ],
          [
           "Ingeniería Electrónica"
          ],
          [
           "Ingeniería Electrónica"
          ],
          [
           "Ingeniería Electrónica"
          ],
          [
           "Ingeniería de Sistemas y Computación"
          ],
          [
           "Ingeniería de Sistemas y Computación"
          ],
          [
           "Ingeniería de Sistemas y Computación"
          ],
          [
           "Ingeniería de Sistemas y Computación"
          ],
          [
           "Ingeniería de Sistemas y Computación"
          ],
          [
           "Ingeniería de Sistemas y Computación"
          ],
          [
           "Ingeniería de Sistemas y Computación"
          ]
         ],
         "domain": {
          "x": [
           0,
           1
          ],
          "y": [
           0,
           1
          ]
         },
         "hole": 0.3,
         "hovertemplate": "asignatura=%{label}<br>cantidad_personas=%{value}<br>programa_academico=%{customdata[0]}<extra></extra>",
         "insidetextorientation": "radial",
         "labels": [
          "Profesionales",
          "Profesionales",
          "Profesionales",
          "Comunicaciones",
          "Comunicaciones II",
          "Telemática",
          "Arquitectura de Computadores",
          "Comunicaciones",
          "Electiva III",
          "Matemáticas discretas",
          "Redes de datos",
          "Sistemas Operativos",
          "Transmisión de Datos"
         ],
         "legendgroup": "",
         "marker": {
          "colors": [
           "#636efa",
           "#EF553B",
           "#00cc96",
           "#ab63fa",
           "#ab63fa",
           "#ab63fa",
           "#FFA15A",
           "#FFA15A",
           "#FFA15A",
           "#FFA15A",
           "#FFA15A",
           "#FFA15A",
           "#FFA15A"
          ]
         },
         "name": "",
         "showlegend": true,
         "textfont": {
          "color": "white",
          "size": 14
         },
         "textinfo": "percent+label",
         "textposition": "outside",
         "type": "pie",
         "values": [
          1,
          4,
          4,
          18,
          7,
          13,
          1,
          24,
          6,
          1,
          1,
          1,
          29
         ]
        }
       ],
       "layout": {
        "height": 600,
        "legend": {
         "tracegroupgap": 0
        },
        "template": {
         "data": {
          "bar": [
           {
            "error_x": {
             "color": "#f2f5fa"
            },
            "error_y": {
             "color": "#f2f5fa"
            },
            "marker": {
             "line": {
              "color": "rgb(17,17,17)",
              "width": 0.5
             },
             "pattern": {
              "fillmode": "overlay",
              "size": 10,
              "solidity": 0.2
             }
            },
            "type": "bar"
           }
          ],
          "barpolar": [
           {
            "marker": {
             "line": {
              "color": "rgb(17,17,17)",
              "width": 0.5
             },
             "pattern": {
              "fillmode": "overlay",
              "size": 10,
              "solidity": 0.2
             }
            },
            "type": "barpolar"
           }
          ],
          "carpet": [
           {
            "aaxis": {
             "endlinecolor": "#A2B1C6",
             "gridcolor": "#506784",
             "linecolor": "#506784",
             "minorgridcolor": "#506784",
             "startlinecolor": "#A2B1C6"
            },
            "baxis": {
             "endlinecolor": "#A2B1C6",
             "gridcolor": "#506784",
             "linecolor": "#506784",
             "minorgridcolor": "#506784",
             "startlinecolor": "#A2B1C6"
            },
            "type": "carpet"
           }
          ],
          "choropleth": [
           {
            "colorbar": {
             "outlinewidth": 0,
             "ticks": ""
            },
            "type": "choropleth"
           }
          ],
          "contour": [
           {
            "colorbar": {
             "outlinewidth": 0,
             "ticks": ""
            },
            "colorscale": [
             [
              0,
              "#0d0887"
             ],
             [
              0.1111111111111111,
              "#46039f"
             ],
             [
              0.2222222222222222,
              "#7201a8"
             ],
             [
              0.3333333333333333,
              "#9c179e"
             ],
             [
              0.4444444444444444,
              "#bd3786"
             ],
             [
              0.5555555555555556,
              "#d8576b"
             ],
             [
              0.6666666666666666,
              "#ed7953"
             ],
             [
              0.7777777777777778,
              "#fb9f3a"
             ],
             [
              0.8888888888888888,
              "#fdca26"
             ],
             [
              1,
              "#f0f921"
             ]
            ],
            "type": "contour"
           }
          ],
          "contourcarpet": [
           {
            "colorbar": {
             "outlinewidth": 0,
             "ticks": ""
            },
            "type": "contourcarpet"
           }
          ],
          "heatmap": [
           {
            "colorbar": {
             "outlinewidth": 0,
             "ticks": ""
            },
            "colorscale": [
             [
              0,
              "#0d0887"
             ],
             [
              0.1111111111111111,
              "#46039f"
             ],
             [
              0.2222222222222222,
              "#7201a8"
             ],
             [
              0.3333333333333333,
              "#9c179e"
             ],
             [
              0.4444444444444444,
              "#bd3786"
             ],
             [
              0.5555555555555556,
              "#d8576b"
             ],
             [
              0.6666666666666666,
              "#ed7953"
             ],
             [
              0.7777777777777778,
              "#fb9f3a"
             ],
             [
              0.8888888888888888,
              "#fdca26"
             ],
             [
              1,
              "#f0f921"
             ]
            ],
            "type": "heatmap"
           }
          ],
          "heatmapgl": [
           {
            "colorbar": {
             "outlinewidth": 0,
             "ticks": ""
            },
            "colorscale": [
             [
              0,
              "#0d0887"
             ],
             [
              0.1111111111111111,
              "#46039f"
             ],
             [
              0.2222222222222222,
              "#7201a8"
             ],
             [
              0.3333333333333333,
              "#9c179e"
             ],
             [
              0.4444444444444444,
              "#bd3786"
             ],
             [
              0.5555555555555556,
              "#d8576b"
             ],
             [
              0.6666666666666666,
              "#ed7953"
             ],
             [
              0.7777777777777778,
              "#fb9f3a"
             ],
             [
              0.8888888888888888,
              "#fdca26"
             ],
             [
              1,
              "#f0f921"
             ]
            ],
            "type": "heatmapgl"
           }
          ],
          "histogram": [
           {
            "marker": {
             "pattern": {
              "fillmode": "overlay",
              "size": 10,
              "solidity": 0.2
             }
            },
            "type": "histogram"
           }
          ],
          "histogram2d": [
           {
            "colorbar": {
             "outlinewidth": 0,
             "ticks": ""
            },
            "colorscale": [
             [
              0,
              "#0d0887"
             ],
             [
              0.1111111111111111,
              "#46039f"
             ],
             [
              0.2222222222222222,
              "#7201a8"
             ],
             [
              0.3333333333333333,
              "#9c179e"
             ],
             [
              0.4444444444444444,
              "#bd3786"
             ],
             [
              0.5555555555555556,
              "#d8576b"
             ],
             [
              0.6666666666666666,
              "#ed7953"
             ],
             [
              0.7777777777777778,
              "#fb9f3a"
             ],
             [
              0.8888888888888888,
              "#fdca26"
             ],
             [
              1,
              "#f0f921"
             ]
            ],
            "type": "histogram2d"
           }
          ],
          "histogram2dcontour": [
           {
            "colorbar": {
             "outlinewidth": 0,
             "ticks": ""
            },
            "colorscale": [
             [
              0,
              "#0d0887"
             ],
             [
              0.1111111111111111,
              "#46039f"
             ],
             [
              0.2222222222222222,
              "#7201a8"
             ],
             [
              0.3333333333333333,
              "#9c179e"
             ],
             [
              0.4444444444444444,
              "#bd3786"
             ],
             [
              0.5555555555555556,
              "#d8576b"
             ],
             [
              0.6666666666666666,
              "#ed7953"
             ],
             [
              0.7777777777777778,
              "#fb9f3a"
             ],
             [
              0.8888888888888888,
              "#fdca26"
             ],
             [
              1,
              "#f0f921"
             ]
            ],
            "type": "histogram2dcontour"
           }
          ],
          "mesh3d": [
           {
            "colorbar": {
             "outlinewidth": 0,
             "ticks": ""
            },
            "type": "mesh3d"
           }
          ],
          "parcoords": [
           {
            "line": {
             "colorbar": {
              "outlinewidth": 0,
              "ticks": ""
             }
            },
            "type": "parcoords"
           }
          ],
          "pie": [
           {
            "automargin": true,
            "type": "pie"
           }
          ],
          "scatter": [
           {
            "marker": {
             "line": {
              "color": "#283442"
             }
            },
            "type": "scatter"
           }
          ],
          "scatter3d": [
           {
            "line": {
             "colorbar": {
              "outlinewidth": 0,
              "ticks": ""
             }
            },
            "marker": {
             "colorbar": {
              "outlinewidth": 0,
              "ticks": ""
             }
            },
            "type": "scatter3d"
           }
          ],
          "scattercarpet": [
           {
            "marker": {
             "colorbar": {
              "outlinewidth": 0,
              "ticks": ""
             }
            },
            "type": "scattercarpet"
           }
          ],
          "scattergeo": [
           {
            "marker": {
             "colorbar": {
              "outlinewidth": 0,
              "ticks": ""
             }
            },
            "type": "scattergeo"
           }
          ],
          "scattergl": [
           {
            "marker": {
             "line": {
              "color": "#283442"
             }
            },
            "type": "scattergl"
           }
          ],
          "scattermapbox": [
           {
            "marker": {
             "colorbar": {
              "outlinewidth": 0,
              "ticks": ""
             }
            },
            "type": "scattermapbox"
           }
          ],
          "scatterpolar": [
           {
            "marker": {
             "colorbar": {
              "outlinewidth": 0,
              "ticks": ""
             }
            },
            "type": "scatterpolar"
           }
          ],
          "scatterpolargl": [
           {
            "marker": {
             "colorbar": {
              "outlinewidth": 0,
              "ticks": ""
             }
            },
            "type": "scatterpolargl"
           }
          ],
          "scatterternary": [
           {
            "marker": {
             "colorbar": {
              "outlinewidth": 0,
              "ticks": ""
             }
            },
            "type": "scatterternary"
           }
          ],
          "surface": [
           {
            "colorbar": {
             "outlinewidth": 0,
             "ticks": ""
            },
            "colorscale": [
             [
              0,
              "#0d0887"
             ],
             [
              0.1111111111111111,
              "#46039f"
             ],
             [
              0.2222222222222222,
              "#7201a8"
             ],
             [
              0.3333333333333333,
              "#9c179e"
             ],
             [
              0.4444444444444444,
              "#bd3786"
             ],
             [
              0.5555555555555556,
              "#d8576b"
             ],
             [
              0.6666666666666666,
              "#ed7953"
             ],
             [
              0.7777777777777778,
              "#fb9f3a"
             ],
             [
              0.8888888888888888,
              "#fdca26"
             ],
             [
              1,
              "#f0f921"
             ]
            ],
            "type": "surface"
           }
          ],
          "table": [
           {
            "cells": {
             "fill": {
              "color": "#506784"
             },
             "line": {
              "color": "rgb(17,17,17)"
             }
            },
            "header": {
             "fill": {
              "color": "#2a3f5f"
             },
             "line": {
              "color": "rgb(17,17,17)"
             }
            },
            "type": "table"
           }
          ]
         },
         "layout": {
          "annotationdefaults": {
           "arrowcolor": "#f2f5fa",
           "arrowhead": 0,
           "arrowwidth": 1
          },
          "autotypenumbers": "strict",
          "coloraxis": {
           "colorbar": {
            "outlinewidth": 0,
            "ticks": ""
           }
          },
          "colorscale": {
           "diverging": [
            [
             0,
             "#8e0152"
            ],
            [
             0.1,
             "#c51b7d"
            ],
            [
             0.2,
             "#de77ae"
            ],
            [
             0.3,
             "#f1b6da"
            ],
            [
             0.4,
             "#fde0ef"
            ],
            [
             0.5,
             "#f7f7f7"
            ],
            [
             0.6,
             "#e6f5d0"
            ],
            [
             0.7,
             "#b8e186"
            ],
            [
             0.8,
             "#7fbc41"
            ],
            [
             0.9,
             "#4d9221"
            ],
            [
             1,
             "#276419"
            ]
           ],
           "sequential": [
            [
             0,
             "#0d0887"
            ],
            [
             0.1111111111111111,
             "#46039f"
            ],
            [
             0.2222222222222222,
             "#7201a8"
            ],
            [
             0.3333333333333333,
             "#9c179e"
            ],
            [
             0.4444444444444444,
             "#bd3786"
            ],
            [
             0.5555555555555556,
             "#d8576b"
            ],
            [
             0.6666666666666666,
             "#ed7953"
            ],
            [
             0.7777777777777778,
             "#fb9f3a"
            ],
            [
             0.8888888888888888,
             "#fdca26"
            ],
            [
             1,
             "#f0f921"
            ]
           ],
           "sequentialminus": [
            [
             0,
             "#0d0887"
            ],
            [
             0.1111111111111111,
             "#46039f"
            ],
            [
             0.2222222222222222,
             "#7201a8"
            ],
            [
             0.3333333333333333,
             "#9c179e"
            ],
            [
             0.4444444444444444,
             "#bd3786"
            ],
            [
             0.5555555555555556,
             "#d8576b"
            ],
            [
             0.6666666666666666,
             "#ed7953"
            ],
            [
             0.7777777777777778,
             "#fb9f3a"
            ],
            [
             0.8888888888888888,
             "#fdca26"
            ],
            [
             1,
             "#f0f921"
            ]
           ]
          },
          "colorway": [
           "#636efa",
           "#EF553B",
           "#00cc96",
           "#ab63fa",
           "#FFA15A",
           "#19d3f3",
           "#FF6692",
           "#B6E880",
           "#FF97FF",
           "#FECB52"
          ],
          "font": {
           "color": "#f2f5fa"
          },
          "geo": {
           "bgcolor": "rgb(17,17,17)",
           "lakecolor": "rgb(17,17,17)",
           "landcolor": "rgb(17,17,17)",
           "showlakes": true,
           "showland": true,
           "subunitcolor": "#506784"
          },
          "hoverlabel": {
           "align": "left"
          },
          "hovermode": "closest",
          "mapbox": {
           "style": "dark"
          },
          "paper_bgcolor": "rgb(17,17,17)",
          "plot_bgcolor": "rgb(17,17,17)",
          "polar": {
           "angularaxis": {
            "gridcolor": "#506784",
            "linecolor": "#506784",
            "ticks": ""
           },
           "bgcolor": "rgb(17,17,17)",
           "radialaxis": {
            "gridcolor": "#506784",
            "linecolor": "#506784",
            "ticks": ""
           }
          },
          "scene": {
           "xaxis": {
            "backgroundcolor": "rgb(17,17,17)",
            "gridcolor": "#506784",
            "gridwidth": 2,
            "linecolor": "#506784",
            "showbackground": true,
            "ticks": "",
            "zerolinecolor": "#C8D4E3"
           },
           "yaxis": {
            "backgroundcolor": "rgb(17,17,17)",
            "gridcolor": "#506784",
            "gridwidth": 2,
            "linecolor": "#506784",
            "showbackground": true,
            "ticks": "",
            "zerolinecolor": "#C8D4E3"
           },
           "zaxis": {
            "backgroundcolor": "rgb(17,17,17)",
            "gridcolor": "#506784",
            "gridwidth": 2,
            "linecolor": "#506784",
            "showbackground": true,
            "ticks": "",
            "zerolinecolor": "#C8D4E3"
           }
          },
          "shapedefaults": {
           "line": {
            "color": "#f2f5fa"
           }
          },
          "sliderdefaults": {
           "bgcolor": "#C8D4E3",
           "bordercolor": "rgb(17,17,17)",
           "borderwidth": 1,
           "tickwidth": 0
          },
          "ternary": {
           "aaxis": {
            "gridcolor": "#506784",
            "linecolor": "#506784",
            "ticks": ""
           },
           "baxis": {
            "gridcolor": "#506784",
            "linecolor": "#506784",
            "ticks": ""
           },
           "bgcolor": "rgb(17,17,17)",
           "caxis": {
            "gridcolor": "#506784",
            "linecolor": "#506784",
            "ticks": ""
           }
          },
          "title": {
           "x": 0.05
          },
          "updatemenudefaults": {
           "bgcolor": "#506784",
           "borderwidth": 0
          },
          "xaxis": {
           "automargin": true,
           "gridcolor": "#283442",
           "linecolor": "#506784",
           "ticks": "",
           "title": {
            "standoff": 15
           },
           "zerolinecolor": "#283442",
           "zerolinewidth": 2
          },
          "yaxis": {
           "automargin": true,
           "gridcolor": "#283442",
           "linecolor": "#506784",
           "ticks": "",
           "title": {
            "standoff": 15
           },
           "zerolinecolor": "#283442",
           "zerolinewidth": 2
          }
         }
        },
        "title": {
         "text": "Cantidad de Personas por Asignatura",
         "x": 0.5,
         "y": 0.95
        },
        "width": 1000
       }
      }
     },
     "metadata": {},
     "output_type": "display_data"
    }
   ],
   "source": [
    "personas_por_asignatura = asistencia_dia_06.groupby([\"programa_academico\",\"asignatura\"]).size().reset_index(name=\"cantidad_personas\")\n",
    "\n",
    "fig = px.pie(personas_por_asignatura,\n",
    "             names='asignatura',\n",
    "             values='cantidad_personas',\n",
    "             title='Cantidad de personas por asignatura',\n",
    "             color='programa_academico',\n",
    "             hole=0.3,\n",
    "             template='plotly_dark')\n",
    "\n",
    "fig.update_traces(textinfo='percent+label',\n",
    "                  textposition='outside',  # Colocar el texto dentro del pie\n",
    "                  insidetextorientation='radial',  # Orientación radial para el texto interior\n",
    "                  textfont=dict(color='white', size=14))\n",
    "\n",
    "# Configurar la posición del título\n",
    "fig.update_layout(\n",
    "    title='Cantidad de Personas por Asignatura',\n",
    "    title_x=0.5,  # Centrar horizontalmente el título (0.5 = centro)\n",
    "    title_y=0.95,  # Ajustar la posición vertical del título (0.95 = cerca de la parte superior)\n",
    ")\n",
    "\n",
    "# Configurar el tamaño del gráfico\n",
    "fig.update_layout(\n",
    "    width=1000,  # Cambiar el ancho del gráfico\n",
    "    height=600  # Cambiar la altura del gráfico\n",
    ")\n",
    "\n",
    "\n",
    "fig.show()"
   ]
  },
  {
   "cell_type": "code",
   "execution_count": 115,
   "metadata": {},
   "outputs": [
    {
     "data": {
      "text/plain": [
       "108.61"
      ]
     },
     "execution_count": 115,
     "metadata": {},
     "output_type": "execute_result"
    }
   ],
   "source": [
    "# Duración promedio\n",
    "duracion_promedio = round(asistencia_dia_06[\"duración\"].mean(),2)\n",
    "duracion_promedio"
   ]
  },
  {
   "cell_type": "code",
   "execution_count": 129,
   "metadata": {},
   "outputs": [
    {
     "data": {
      "text/html": [
       "<div>\n",
       "<style scoped>\n",
       "    .dataframe tbody tr th:only-of-type {\n",
       "        vertical-align: middle;\n",
       "    }\n",
       "\n",
       "    .dataframe tbody tr th {\n",
       "        vertical-align: top;\n",
       "    }\n",
       "\n",
       "    .dataframe thead th {\n",
       "        text-align: right;\n",
       "    }\n",
       "</style>\n",
       "<table border=\"1\" class=\"dataframe\">\n",
       "  <thead>\n",
       "    <tr style=\"text-align: right;\">\n",
       "      <th></th>\n",
       "      <th>nombre</th>\n",
       "      <th>correo</th>\n",
       "      <th>programa_academico</th>\n",
       "      <th>asignatura</th>\n",
       "    </tr>\n",
       "  </thead>\n",
       "  <tbody>\n",
       "    <tr>\n",
       "      <th>20</th>\n",
       "      <td>Daniel Andres Cardenas Arevalo</td>\n",
       "      <td>daniel.cardenas01@uptc.edu.co</td>\n",
       "      <td>Ingeniería de Sistemas y Computación</td>\n",
       "      <td>Electiva III</td>\n",
       "    </tr>\n",
       "    <tr>\n",
       "      <th>40</th>\n",
       "      <td>Fredy Andrés Murcia Currea</td>\n",
       "      <td>fandresmc97@gmail.com</td>\n",
       "      <td>Gobernación de Boyacá</td>\n",
       "      <td>Profesionales</td>\n",
       "    </tr>\n",
       "    <tr>\n",
       "      <th>48</th>\n",
       "      <td>Ingrid Ortiz</td>\n",
       "      <td>ingrid.ortiz05@uptc.edu.co</td>\n",
       "      <td>Docente</td>\n",
       "      <td>Profesionales</td>\n",
       "    </tr>\n",
       "    <tr>\n",
       "      <th>49</th>\n",
       "      <td>Jairo Alonso Mesa Lara</td>\n",
       "      <td>jairo.mesa@uptc.edu.co</td>\n",
       "      <td>Docente</td>\n",
       "      <td>Profesionales</td>\n",
       "    </tr>\n",
       "    <tr>\n",
       "      <th>50</th>\n",
       "      <td>Jaraquesoler</td>\n",
       "      <td>jaraquesoler@gmail.com</td>\n",
       "      <td>Docente</td>\n",
       "      <td>Profesionales</td>\n",
       "    </tr>\n",
       "    <tr>\n",
       "      <th>55</th>\n",
       "      <td>Jeisson Alexander Prieto Torres</td>\n",
       "      <td>jeisson.prieto@uptc.edu.co</td>\n",
       "      <td>Ingeniería de Sistemas y Computación</td>\n",
       "      <td>Comunicaciones</td>\n",
       "    </tr>\n",
       "    <tr>\n",
       "      <th>66</th>\n",
       "      <td>Jorge Steven Ayala Benitez</td>\n",
       "      <td>jorge.ayala01@uptc.edu.co</td>\n",
       "      <td>Ingeniería de Sistemas y Computación</td>\n",
       "      <td>Arquitectura de Computadores</td>\n",
       "    </tr>\n",
       "    <tr>\n",
       "      <th>73</th>\n",
       "      <td>Juan Esteban González Bermúdez</td>\n",
       "      <td>juan.gonzalez37@uptc.edu.co</td>\n",
       "      <td>Ingeniería de Sistemas y Computación</td>\n",
       "      <td>Comunicaciones</td>\n",
       "    </tr>\n",
       "    <tr>\n",
       "      <th>74</th>\n",
       "      <td>Juan Sebastian Martinez Noreña</td>\n",
       "      <td>juan.martinez30@uptc.edu.co</td>\n",
       "      <td>Ingeniería de Sistemas y Computación</td>\n",
       "      <td>Comunicaciones</td>\n",
       "    </tr>\n",
       "    <tr>\n",
       "      <th>78</th>\n",
       "      <td>Julián David Cely Forero</td>\n",
       "      <td>julian.cely@uptc.edu.co</td>\n",
       "      <td>Ingeniería Electrónica</td>\n",
       "      <td>Telemática</td>\n",
       "    </tr>\n",
       "    <tr>\n",
       "      <th>80</th>\n",
       "      <td>Kevin Oswaldo Celis Gutiérrez</td>\n",
       "      <td>kevin.celis@uptc.edu.co</td>\n",
       "      <td>Ingeniería de Sistemas y Computación</td>\n",
       "      <td>Electiva III</td>\n",
       "    </tr>\n",
       "    <tr>\n",
       "      <th>87</th>\n",
       "      <td>Lizeth Tatiana Martínez Gil</td>\n",
       "      <td>lizeth.martinez06@uptc.edu.co</td>\n",
       "      <td>Ingeniería Electrónica</td>\n",
       "      <td>Comunicaciones</td>\n",
       "    </tr>\n",
       "    <tr>\n",
       "      <th>106</th>\n",
       "      <td>Miguel Angel Mendoza Moreno</td>\n",
       "      <td>miguel.mendoza@uptc.edu.co</td>\n",
       "      <td>Docente</td>\n",
       "      <td>Profesionales</td>\n",
       "    </tr>\n",
       "    <tr>\n",
       "      <th>111</th>\n",
       "      <td>Oscar Ivan Rojas Cuesta</td>\n",
       "      <td>oscar.rojas11@uptc.edu.co</td>\n",
       "      <td>Ingeniería de Sistemas y Computación</td>\n",
       "      <td>Comunicaciones</td>\n",
       "    </tr>\n",
       "    <tr>\n",
       "      <th>128</th>\n",
       "      <td>Thomas Arturo Sorza Sierra</td>\n",
       "      <td>thomas.sorza@uptc.edu.co</td>\n",
       "      <td>Ingeniería de Sistemas y Computación</td>\n",
       "      <td>Electiva III</td>\n",
       "    </tr>\n",
       "    <tr>\n",
       "      <th>133</th>\n",
       "      <td>Cristhian Moreno</td>\n",
       "      <td>cristhian.moreno@uptc.edu.co</td>\n",
       "      <td>Ingeniería Electrónica</td>\n",
       "      <td>Telemática</td>\n",
       "    </tr>\n",
       "    <tr>\n",
       "      <th>134</th>\n",
       "      <td>Juan Mora</td>\n",
       "      <td>juan.mora02@uptc.edu.co</td>\n",
       "      <td>Ingeniería Electrónica</td>\n",
       "      <td>Telemática</td>\n",
       "    </tr>\n",
       "    <tr>\n",
       "      <th>135</th>\n",
       "      <td>Anderson Carvajal</td>\n",
       "      <td>anderson.carvajal@uptc.edu.co</td>\n",
       "      <td>Ingeniería Electrónica</td>\n",
       "      <td>Telemática</td>\n",
       "    </tr>\n",
       "    <tr>\n",
       "      <th>136</th>\n",
       "      <td>Luis Pulido</td>\n",
       "      <td>luis.pulido01@uptc.edu.co</td>\n",
       "      <td>Ingeniería Electrónica</td>\n",
       "      <td>Telemática</td>\n",
       "    </tr>\n",
       "    <tr>\n",
       "      <th>137</th>\n",
       "      <td>Diego Alejandro Salcedo Tolosa</td>\n",
       "      <td>diego.salcedo02@uptc.edu.co</td>\n",
       "      <td>Ingeniería Electrónica</td>\n",
       "      <td>Telemática</td>\n",
       "    </tr>\n",
       "  </tbody>\n",
       "</table>\n",
       "</div>"
      ],
      "text/plain": [
       "                              nombre                         correo  \\\n",
       "20    Daniel Andres Cardenas Arevalo  daniel.cardenas01@uptc.edu.co   \n",
       "40        Fredy Andrés Murcia Currea          fandresmc97@gmail.com   \n",
       "48                      Ingrid Ortiz     ingrid.ortiz05@uptc.edu.co   \n",
       "49            Jairo Alonso Mesa Lara         jairo.mesa@uptc.edu.co   \n",
       "50                      Jaraquesoler         jaraquesoler@gmail.com   \n",
       "55   Jeisson Alexander Prieto Torres     jeisson.prieto@uptc.edu.co   \n",
       "66        Jorge Steven Ayala Benitez      jorge.ayala01@uptc.edu.co   \n",
       "73    Juan Esteban González Bermúdez    juan.gonzalez37@uptc.edu.co   \n",
       "74    Juan Sebastian Martinez Noreña    juan.martinez30@uptc.edu.co   \n",
       "78          Julián David Cely Forero        julian.cely@uptc.edu.co   \n",
       "80     Kevin Oswaldo Celis Gutiérrez        kevin.celis@uptc.edu.co   \n",
       "87       Lizeth Tatiana Martínez Gil  lizeth.martinez06@uptc.edu.co   \n",
       "106      Miguel Angel Mendoza Moreno     miguel.mendoza@uptc.edu.co   \n",
       "111          Oscar Ivan Rojas Cuesta      oscar.rojas11@uptc.edu.co   \n",
       "128       Thomas Arturo Sorza Sierra       thomas.sorza@uptc.edu.co   \n",
       "133                 Cristhian Moreno   cristhian.moreno@uptc.edu.co   \n",
       "134                        Juan Mora        juan.mora02@uptc.edu.co   \n",
       "135                Anderson Carvajal  anderson.carvajal@uptc.edu.co   \n",
       "136                      Luis Pulido      luis.pulido01@uptc.edu.co   \n",
       "137   Diego Alejandro Salcedo Tolosa    diego.salcedo02@uptc.edu.co   \n",
       "\n",
       "                       programa_academico                    asignatura  \n",
       "20   Ingeniería de Sistemas y Computación                  Electiva III  \n",
       "40                  Gobernación de Boyacá                 Profesionales  \n",
       "48                                Docente                 Profesionales  \n",
       "49                                Docente                 Profesionales  \n",
       "50                                Docente                 Profesionales  \n",
       "55   Ingeniería de Sistemas y Computación                Comunicaciones  \n",
       "66   Ingeniería de Sistemas y Computación  Arquitectura de Computadores  \n",
       "73   Ingeniería de Sistemas y Computación                Comunicaciones  \n",
       "74   Ingeniería de Sistemas y Computación                Comunicaciones  \n",
       "78                 Ingeniería Electrónica                    Telemática  \n",
       "80   Ingeniería de Sistemas y Computación                  Electiva III  \n",
       "87                 Ingeniería Electrónica                Comunicaciones  \n",
       "106                               Docente                 Profesionales  \n",
       "111  Ingeniería de Sistemas y Computación                Comunicaciones  \n",
       "128  Ingeniería de Sistemas y Computación                  Electiva III  \n",
       "133                Ingeniería Electrónica                    Telemática  \n",
       "134                Ingeniería Electrónica                    Telemática  \n",
       "135                Ingeniería Electrónica                    Telemática  \n",
       "136                Ingeniería Electrónica                    Telemática  \n",
       "137                Ingeniería Electrónica                    Telemática  "
      ]
     },
     "execution_count": 129,
     "metadata": {},
     "output_type": "execute_result"
    }
   ],
   "source": [
    "# No asistieron al evento del día\n",
    "dia_06 = df[\"evento_06\"]==\"si\"\n",
    "df[[\"nombre\",\"correo\",\"programa_academico\",\"asignatura\"]].loc[~dia_06]"
   ]
  }
 ],
 "metadata": {
  "kernelspec": {
   "display_name": "Proyecto_ETL_Dashboard-LVRFv6RM",
   "language": "python",
   "name": "python3"
  },
  "language_info": {
   "codemirror_mode": {
    "name": "ipython",
    "version": 3
   },
   "file_extension": ".py",
   "mimetype": "text/x-python",
   "name": "python",
   "nbconvert_exporter": "python",
   "pygments_lexer": "ipython3",
   "version": "3.10.12"
  },
  "orig_nbformat": 4
 },
 "nbformat": 4,
 "nbformat_minor": 2
}
