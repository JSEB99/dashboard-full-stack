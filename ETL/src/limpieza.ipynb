{
 "cells": [
  {
   "cell_type": "markdown",
   "metadata": {},
   "source": [
    "# Análisis Exploratorio de los Datos 📄\n",
    "\n",
    "Se tienen 2 tipos de documentos:\n",
    "\n",
    "1. Inscritos al evento\n",
    "2. Asistencias de los usuarios al evento\n",
    "\n",
    "**Objetivos**\n",
    "\n",
    "* Realizar una extracción, transformación de un conjunto de datos ya listos para análisis\n",
    "* Realizar mediante gráficos análisis de valor de los datos\n",
    "\n",
    "**Extracción de los datos**\n",
    "\n",
    "Para este apartado se realiza un cargue de los archivos csv para poder transformarlos (limpiarlos)"
   ]
  },
  {
   "cell_type": "code",
   "execution_count": 55,
   "metadata": {},
   "outputs": [],
   "source": [
    "# Se importan librerías a utilizar\n",
    "import pandas as pd \n",
    "import numpy as np  \n",
    "import matplotlib.pyplot as plt \n",
    "%matplotlib inline\n",
    "import seaborn as sns"
   ]
  },
  {
   "cell_type": "code",
   "execution_count": 56,
   "metadata": {},
   "outputs": [],
   "source": [
    "import warnings\n",
    "\n",
    "# Ignorar todas las advertencias de tipo SettingWithCopyWarning\n",
    "warnings.filterwarnings(\"ignore\")"
   ]
  },
  {
   "cell_type": "code",
   "execution_count": 57,
   "metadata": {},
   "outputs": [],
   "source": [
    "# Se importan los archivos\n",
    "registro_datos = pd.read_csv(\"../data/Registro_Evento.csv\")"
   ]
  },
  {
   "cell_type": "code",
   "execution_count": 58,
   "metadata": {},
   "outputs": [],
   "source": [
    "evento_1 = pd.read_csv(\"../data/2023-09-06 09_33.csv\",sep=\";\")\n",
    "evento_2 = pd.read_csv(\"../data/2023-09-08 09_30.csv\",sep=\",\")\n",
    "evento_3 = pd.read_csv(\"../data/2023-09-13 09_50.csv\",sep=\",\")\n",
    "evento_4 = pd.read_csv(\"../data/2023-09-15 09_43.csv\",sep=\",\")\n",
    "evento_5 = pd.read_csv(\"../data/2023-09-20 09_44.csv\",sep=\",\")\n",
    "evento_6 = pd.read_csv(\"../data/2023-09-22 09_28.csv\",sep=\",\")\n",
    "evento_7 = pd.read_csv(\"../data/2023-09-29 09_50.csv\",sep=\",\")\n",
    "evento_8 = pd.read_csv(\"../data/2023-10-04 09_44.csv\",sep=\",\")\n",
    "evento_9 = pd.read_csv(\"../data/2023-10-05 09_38.csv\",sep=\",\")"
   ]
  },
  {
   "cell_type": "markdown",
   "metadata": {},
   "source": [
    "## Limpieza de los archivos 🧹"
   ]
  },
  {
   "cell_type": "code",
   "execution_count": 59,
   "metadata": {},
   "outputs": [
    {
     "data": {
      "text/plain": [
       "Nombre                                  7\n",
       "Correo institucional (@uptc.edu.co)     0\n",
       "Programa Académico                      1\n",
       "Asignatura                             28\n",
       "dtype: int64"
      ]
     },
     "execution_count": 59,
     "metadata": {},
     "output_type": "execute_result"
    }
   ],
   "source": [
    "registro_datos.isna().sum()"
   ]
  },
  {
   "cell_type": "code",
   "execution_count": 60,
   "metadata": {},
   "outputs": [
    {
     "data": {
      "text/plain": [
       "(141, 4)"
      ]
     },
     "execution_count": 60,
     "metadata": {},
     "output_type": "execute_result"
    }
   ],
   "source": [
    "registro_datos.shape"
   ]
  },
  {
   "cell_type": "code",
   "execution_count": 61,
   "metadata": {},
   "outputs": [
    {
     "data": {
      "text/html": [
       "<div>\n",
       "<style scoped>\n",
       "    .dataframe tbody tr th:only-of-type {\n",
       "        vertical-align: middle;\n",
       "    }\n",
       "\n",
       "    .dataframe tbody tr th {\n",
       "        vertical-align: top;\n",
       "    }\n",
       "\n",
       "    .dataframe thead th {\n",
       "        text-align: right;\n",
       "    }\n",
       "</style>\n",
       "<table border=\"1\" class=\"dataframe\">\n",
       "  <thead>\n",
       "    <tr style=\"text-align: right;\">\n",
       "      <th></th>\n",
       "      <th>Nombre</th>\n",
       "      <th>Correo institucional (@uptc.edu.co)</th>\n",
       "      <th>Programa Académico</th>\n",
       "      <th>Asignatura</th>\n",
       "    </tr>\n",
       "  </thead>\n",
       "  <tbody>\n",
       "    <tr>\n",
       "      <th>52</th>\n",
       "      <td>NaN</td>\n",
       "      <td>ingrid.ortiz05@uptc.edu.co</td>\n",
       "      <td>Docente</td>\n",
       "      <td>NaN</td>\n",
       "    </tr>\n",
       "    <tr>\n",
       "      <th>54</th>\n",
       "      <td>NaN</td>\n",
       "      <td>jaraquesoler@gmail.com</td>\n",
       "      <td>Docente</td>\n",
       "      <td>NaN</td>\n",
       "    </tr>\n",
       "    <tr>\n",
       "      <th>119</th>\n",
       "      <td>NaN</td>\n",
       "      <td>santiago.rodriguez04@uptc.edu.co</td>\n",
       "      <td>NaN</td>\n",
       "      <td>NaN</td>\n",
       "    </tr>\n",
       "    <tr>\n",
       "      <th>136</th>\n",
       "      <td>NaN</td>\n",
       "      <td>cristhian.moreno@uptc.edu.co</td>\n",
       "      <td>Ingeniería Electrónica</td>\n",
       "      <td>Telemática</td>\n",
       "    </tr>\n",
       "    <tr>\n",
       "      <th>137</th>\n",
       "      <td>NaN</td>\n",
       "      <td>juan.mora02@uptc.edu.co</td>\n",
       "      <td>Ingeniería Electrónica</td>\n",
       "      <td>Telemática</td>\n",
       "    </tr>\n",
       "    <tr>\n",
       "      <th>138</th>\n",
       "      <td>NaN</td>\n",
       "      <td>anderson.carvajal@uptc.edu.co</td>\n",
       "      <td>Ingeniería Electrónica</td>\n",
       "      <td>Telemática</td>\n",
       "    </tr>\n",
       "    <tr>\n",
       "      <th>139</th>\n",
       "      <td>NaN</td>\n",
       "      <td>luis.pulido01@uptc.edu.co</td>\n",
       "      <td>Ingeniería Electrónica</td>\n",
       "      <td>Telemática</td>\n",
       "    </tr>\n",
       "  </tbody>\n",
       "</table>\n",
       "</div>"
      ],
      "text/plain": [
       "    Nombre Correo institucional (@uptc.edu.co)      Programa Académico  \\\n",
       "52     NaN          ingrid.ortiz05@uptc.edu.co                 Docente   \n",
       "54     NaN              jaraquesoler@gmail.com                 Docente   \n",
       "119    NaN    santiago.rodriguez04@uptc.edu.co                     NaN   \n",
       "136    NaN        cristhian.moreno@uptc.edu.co  Ingeniería Electrónica   \n",
       "137    NaN             juan.mora02@uptc.edu.co  Ingeniería Electrónica   \n",
       "138    NaN       anderson.carvajal@uptc.edu.co  Ingeniería Electrónica   \n",
       "139    NaN         luis.pulido01@uptc.edu.co    Ingeniería Electrónica   \n",
       "\n",
       "      Asignatura  \n",
       "52           NaN  \n",
       "54           NaN  \n",
       "119          NaN  \n",
       "136  Telemática   \n",
       "137  Telemática   \n",
       "138  Telemática   \n",
       "139  Telemática   "
      ]
     },
     "execution_count": 61,
     "metadata": {},
     "output_type": "execute_result"
    }
   ],
   "source": [
    "registro_datos[registro_datos[\"Nombre\"].isna()]"
   ]
  },
  {
   "cell_type": "code",
   "execution_count": 62,
   "metadata": {},
   "outputs": [],
   "source": [
    "import re\n",
    "pattern = re.compile('[a-z]+') # patrón a utilizar"
   ]
  },
  {
   "cell_type": "code",
   "execution_count": 63,
   "metadata": {},
   "outputs": [
    {
     "data": {
      "text/html": [
       "<div>\n",
       "<style scoped>\n",
       "    .dataframe tbody tr th:only-of-type {\n",
       "        vertical-align: middle;\n",
       "    }\n",
       "\n",
       "    .dataframe tbody tr th {\n",
       "        vertical-align: top;\n",
       "    }\n",
       "\n",
       "    .dataframe thead th {\n",
       "        text-align: right;\n",
       "    }\n",
       "</style>\n",
       "<table border=\"1\" class=\"dataframe\">\n",
       "  <thead>\n",
       "    <tr style=\"text-align: right;\">\n",
       "      <th></th>\n",
       "      <th>Nombre</th>\n",
       "      <th>Correo institucional (@uptc.edu.co)</th>\n",
       "      <th>Programa Académico</th>\n",
       "      <th>Asignatura</th>\n",
       "    </tr>\n",
       "  </thead>\n",
       "  <tbody>\n",
       "  </tbody>\n",
       "</table>\n",
       "</div>"
      ],
      "text/plain": [
       "Empty DataFrame\n",
       "Columns: [Nombre, Correo institucional (@uptc.edu.co), Programa Académico, Asignatura]\n",
       "Index: []"
      ]
     },
     "execution_count": 63,
     "metadata": {},
     "output_type": "execute_result"
    }
   ],
   "source": [
    "# descompongo el correo y asigno nombre y apellido al campo de nombre donde existan NaNs\n",
    "registro_datos[\"Nombre\"].fillna(registro_datos[\"Correo institucional (@uptc.edu.co)\"].apply(lambda x: \" \".join(pattern.findall(x.split(\"@\")[0]))),inplace=True)\n",
    "registro_datos[registro_datos[\"Nombre\"].isna()]"
   ]
  },
  {
   "cell_type": "code",
   "execution_count": 64,
   "metadata": {},
   "outputs": [
    {
     "data": {
      "text/html": [
       "<div>\n",
       "<style scoped>\n",
       "    .dataframe tbody tr th:only-of-type {\n",
       "        vertical-align: middle;\n",
       "    }\n",
       "\n",
       "    .dataframe tbody tr th {\n",
       "        vertical-align: top;\n",
       "    }\n",
       "\n",
       "    .dataframe thead th {\n",
       "        text-align: right;\n",
       "    }\n",
       "</style>\n",
       "<table border=\"1\" class=\"dataframe\">\n",
       "  <thead>\n",
       "    <tr style=\"text-align: right;\">\n",
       "      <th></th>\n",
       "      <th>Nombre</th>\n",
       "      <th>Correo institucional (@uptc.edu.co)</th>\n",
       "      <th>Programa Académico</th>\n",
       "      <th>Asignatura</th>\n",
       "    </tr>\n",
       "  </thead>\n",
       "  <tbody>\n",
       "    <tr>\n",
       "      <th>136</th>\n",
       "      <td>cristhian moreno</td>\n",
       "      <td>cristhian.moreno@uptc.edu.co</td>\n",
       "      <td>Ingeniería Electrónica</td>\n",
       "      <td>Telemática</td>\n",
       "    </tr>\n",
       "    <tr>\n",
       "      <th>137</th>\n",
       "      <td>juan mora</td>\n",
       "      <td>juan.mora02@uptc.edu.co</td>\n",
       "      <td>Ingeniería Electrónica</td>\n",
       "      <td>Telemática</td>\n",
       "    </tr>\n",
       "    <tr>\n",
       "      <th>138</th>\n",
       "      <td>anderson carvajal</td>\n",
       "      <td>anderson.carvajal@uptc.edu.co</td>\n",
       "      <td>Ingeniería Electrónica</td>\n",
       "      <td>Telemática</td>\n",
       "    </tr>\n",
       "    <tr>\n",
       "      <th>139</th>\n",
       "      <td>luis pulido</td>\n",
       "      <td>luis.pulido01@uptc.edu.co</td>\n",
       "      <td>Ingeniería Electrónica</td>\n",
       "      <td>Telemática</td>\n",
       "    </tr>\n",
       "  </tbody>\n",
       "</table>\n",
       "</div>"
      ],
      "text/plain": [
       "                Nombre Correo institucional (@uptc.edu.co)  \\\n",
       "136   cristhian moreno        cristhian.moreno@uptc.edu.co   \n",
       "137          juan mora             juan.mora02@uptc.edu.co   \n",
       "138  anderson carvajal       anderson.carvajal@uptc.edu.co   \n",
       "139        luis pulido         luis.pulido01@uptc.edu.co     \n",
       "\n",
       "         Programa Académico   Asignatura  \n",
       "136  Ingeniería Electrónica  Telemática   \n",
       "137  Ingeniería Electrónica  Telemática   \n",
       "138  Ingeniería Electrónica  Telemática   \n",
       "139  Ingeniería Electrónica  Telemática   "
      ]
     },
     "execution_count": 64,
     "metadata": {},
     "output_type": "execute_result"
    }
   ],
   "source": [
    "# Verificación\n",
    "registro_datos.iloc[136:140]"
   ]
  },
  {
   "cell_type": "code",
   "execution_count": 65,
   "metadata": {},
   "outputs": [
    {
     "data": {
      "text/html": [
       "<div>\n",
       "<style scoped>\n",
       "    .dataframe tbody tr th:only-of-type {\n",
       "        vertical-align: middle;\n",
       "    }\n",
       "\n",
       "    .dataframe tbody tr th {\n",
       "        vertical-align: top;\n",
       "    }\n",
       "\n",
       "    .dataframe thead th {\n",
       "        text-align: right;\n",
       "    }\n",
       "</style>\n",
       "<table border=\"1\" class=\"dataframe\">\n",
       "  <thead>\n",
       "    <tr style=\"text-align: right;\">\n",
       "      <th></th>\n",
       "      <th>Nombre</th>\n",
       "      <th>Correo institucional (@uptc.edu.co)</th>\n",
       "      <th>Programa Académico</th>\n",
       "      <th>Asignatura</th>\n",
       "    </tr>\n",
       "  </thead>\n",
       "  <tbody>\n",
       "    <tr>\n",
       "      <th>119</th>\n",
       "      <td>santiago rodriguez</td>\n",
       "      <td>santiago.rodriguez04@uptc.edu.co</td>\n",
       "      <td>NaN</td>\n",
       "      <td>NaN</td>\n",
       "    </tr>\n",
       "  </tbody>\n",
       "</table>\n",
       "</div>"
      ],
      "text/plain": [
       "                 Nombre Correo institucional (@uptc.edu.co)  \\\n",
       "119  santiago rodriguez    santiago.rodriguez04@uptc.edu.co   \n",
       "\n",
       "    Programa Académico Asignatura  \n",
       "119                NaN        NaN  "
      ]
     },
     "execution_count": 65,
     "metadata": {},
     "output_type": "execute_result"
    }
   ],
   "source": [
    "registro_datos[registro_datos[\"Programa Académico\"].isna()]"
   ]
  },
  {
   "cell_type": "code",
   "execution_count": 66,
   "metadata": {},
   "outputs": [
    {
     "data": {
      "text/plain": [
       "array(['Electiva III:Gestión de redes',\n",
       "       'Semillero Telematics, Ciberseguridad - Gestión de redes', nan,\n",
       "       'Comunicaciones', 'comunicaciones', 'Transmision de Datos',\n",
       "       'Arquitectura de computadores ', 'Transmisión de datos',\n",
       "       'Transmisión de datos ',\n",
       "       'Electiva III - Semillero Telematics Seguridad',\n",
       "       'Transmision de datos',\n",
       "       'Comunicaciones y Investigación de operaciones ',\n",
       "       'TRANSMISIÓN DE DATOS', 'Transmisión de Datos',\n",
       "       'TRANSMISION DE DATOS', 'Matemáticas discretas',\n",
       "       'Comunicaciones, Investigación de operaciones', 'Redes de datos',\n",
       "       'Inteligencia computacional', 'Comunicaciones ',\n",
       "       'Arquitectura de Computadores', 'Trasmisión de datos',\n",
       "       'Comunicaciones e Investigación de Operaciones', 'COMUNICACIÓNES',\n",
       "       'transmisiones ', 'Comunicaciones - Investigacion de operaciones',\n",
       "       'Gestión de redes', 'Electiva III', 'Sistemas Operativos ',\n",
       "       'Transmisión de datos - Seminario de grado', 'Gestión de redes ',\n",
       "       'Transmisión', 'Investigación de Operaciones / Comunicaciones',\n",
       "       'Investigación de operaciones ', 'Comuicaciones',\n",
       "       'Electiva III (Auditoría de redes)', 'Transmisión ',\n",
       "       'gestion de redes ', 'Semillero Seguridad telematics ', '   '],\n",
       "      dtype=object)"
      ]
     },
     "execution_count": 66,
     "metadata": {},
     "output_type": "execute_result"
    }
   ],
   "source": [
    "# Se revisan valores unicos para ver si existe algun patron\n",
    "registro_datos[\"Asignatura\"][registro_datos[\"Programa Académico\"]==\"Ingeniería de Sistemas y Computación\"].unique()"
   ]
  },
  {
   "cell_type": "code",
   "execution_count": 67,
   "metadata": {},
   "outputs": [],
   "source": [
    "registro_datos[\"Asignatura\"] = registro_datos[\"Asignatura\"].str.upper()\n",
    "registro_datos[\"Asignatura\"] = registro_datos[\"Asignatura\"].str.strip()"
   ]
  },
  {
   "cell_type": "code",
   "execution_count": 68,
   "metadata": {},
   "outputs": [
    {
     "data": {
      "text/plain": [
       "array(['ELECTIVA III:GESTIÓN DE REDES',\n",
       "       'SEMILLERO TELEMATICS, CIBERSEGURIDAD - GESTIÓN DE REDES', nan,\n",
       "       'COMUNICACIONES 2', 'COMUNICACIONES II', 'COMUNICACIONES',\n",
       "       'TRANSMISION DE DATOS', 'ARQUITECTURA DE COMPUTADORES',\n",
       "       'TRANSMISIÓN DE DATOS', 'TELEMATICA', 'TELEMÁTICA',\n",
       "       'ELECTIVA III - SEMILLERO TELEMATICS SEGURIDAD',\n",
       "       'COMUNICACIONES Y INVESTIGACIÓN DE OPERACIONES',\n",
       "       'MATEMÁTICAS DISCRETAS',\n",
       "       'COMUNICACIONES, INVESTIGACIÓN DE OPERACIONES', 'REDES DE DATOS',\n",
       "       'INTELIGENCIA COMPUTACIONAL', 'COMUNICACIONES LL',\n",
       "       'TRASMISIÓN DE DATOS',\n",
       "       'COMUNICACIONES E INVESTIGACIÓN DE OPERACIONES', 'COMUNICACIÓNES',\n",
       "       'TRANSMISIONES', 'COMUNICACIONES - INVESTIGACION DE OPERACIONES',\n",
       "       'GESTIÓN DE REDES', 'ELECTIVA III', 'SISTEMAS OPERATIVOS',\n",
       "       'TRANSMISIÓN DE DATOS - SEMINARIO DE GRADO', 'TRANSMISIÓN',\n",
       "       'INVESTIGACIÓN DE OPERACIONES / COMUNICACIONES',\n",
       "       'INVESTIGACIÓN DE OPERACIONES', 'COMUICACIONES',\n",
       "       'ELECTIVA III (AUDITORÍA DE REDES)', 'GESTION DE REDES',\n",
       "       'SEMILLERO SEGURIDAD TELEMATICS', ''], dtype=object)"
      ]
     },
     "execution_count": 68,
     "metadata": {},
     "output_type": "execute_result"
    }
   ],
   "source": [
    "# Se revisan valores unicos para ver si existe algun patron\n",
    "registro_datos[\"Asignatura\"].unique()"
   ]
  },
  {
   "cell_type": "code",
   "execution_count": 69,
   "metadata": {},
   "outputs": [],
   "source": [
    "# Reemplazo asignaturas\n",
    "registro_datos[\"Asignatura\"] = registro_datos[\"Asignatura\"].str.replace(r'^TRANS.*','Transmisión de Datos',regex=True)\n",
    "registro_datos[\"Asignatura\"] = registro_datos[\"Asignatura\"].str.replace(r'^TRAS.*','Transmisión de Datos',regex=True)\n",
    "registro_datos[\"Asignatura\"] = registro_datos[\"Asignatura\"].str.replace(r'^TELEM.*','Telemática',regex=True)\n",
    "registro_datos[\"Asignatura\"] = registro_datos[\"Asignatura\"].str.replace(r'^COMUN.*2$','Comunicaciones II',regex=True)\n",
    "registro_datos[\"Asignatura\"] = registro_datos[\"Asignatura\"].str.replace(r'^COMUN.*','Comunicaciones',regex=True)\n",
    "registro_datos[\"Asignatura\"] = registro_datos[\"Asignatura\"].str.replace(r'^COMU.*','Comunicaciones',regex=True)\n",
    "registro_datos[\"Asignatura\"] = registro_datos[\"Asignatura\"].str.replace(r'^INVEST.*','Comunicaciones',regex=True)\n",
    "registro_datos[\"Asignatura\"] = registro_datos[\"Asignatura\"].str.replace(r'^ELEC.*','Electiva III',regex=True)\n",
    "registro_datos[\"Asignatura\"] = registro_datos[\"Asignatura\"].str.replace(r'^SEMILL.*','Electiva III',regex=True)\n",
    "registro_datos[\"Asignatura\"] = registro_datos[\"Asignatura\"].str.replace(r'^GEST.*','Electiva III',regex=True)\n",
    "registro_datos[\"Asignatura\"] = registro_datos[\"Asignatura\"].str.replace(r'^ARQ.*','Arquitectura de Computadores',regex=True)\n",
    "registro_datos[\"Asignatura\"] = registro_datos[\"Asignatura\"].str.replace(r'^MAT.*','Matemáticas discretas',regex=True)\n",
    "registro_datos[\"Asignatura\"] = registro_datos[\"Asignatura\"].str.replace(r'^REDES.*','Redes de datos',regex=True)\n",
    "registro_datos[\"Asignatura\"] = registro_datos[\"Asignatura\"].str.replace(r'^INT.*','Inteligencia Computacional',regex=True)\n",
    "registro_datos[\"Asignatura\"] = registro_datos[\"Asignatura\"].str.replace(r'^SISTEMAS OPERATIVOS.*','Sistemas Operativos',regex=True)"
   ]
  },
  {
   "cell_type": "code",
   "execution_count": 70,
   "metadata": {},
   "outputs": [
    {
     "data": {
      "text/plain": [
       "array(['Electiva III', nan, 'Comunicaciones II', 'Comunicaciones',\n",
       "       'Transmisión de Datos', 'Arquitectura de Computadores',\n",
       "       'Telemática', 'Matemáticas discretas', 'Redes de datos',\n",
       "       'Inteligencia Computacional', 'Sistemas Operativos', ''],\n",
       "      dtype=object)"
      ]
     },
     "execution_count": 70,
     "metadata": {},
     "output_type": "execute_result"
    }
   ],
   "source": [
    "registro_datos[\"Asignatura\"].unique()"
   ]
  },
  {
   "cell_type": "code",
   "execution_count": 71,
   "metadata": {},
   "outputs": [],
   "source": [
    "# Se asigna en Asignatura para campos con Docente,Gobernación y Administrativo el campo de profesionales\n",
    "programas_profesionales = [\"Gobernación de Boyacá\",\"Docente\",\"Administrativo\"]\n",
    "registro_datos[\"Asignatura\"][registro_datos[\"Programa Académico\"].isin(programas_profesionales)] = \"Profesionales\""
   ]
  },
  {
   "cell_type": "code",
   "execution_count": 72,
   "metadata": {},
   "outputs": [
    {
     "data": {
      "text/plain": [
       "array(['Electiva III', nan, 'Comunicaciones II', 'Comunicaciones',\n",
       "       'Transmisión de Datos', 'Arquitectura de Computadores',\n",
       "       'Telemática', 'Profesionales', 'Matemáticas discretas',\n",
       "       'Redes de datos', 'Inteligencia Computacional',\n",
       "       'Sistemas Operativos', ''], dtype=object)"
      ]
     },
     "execution_count": 72,
     "metadata": {},
     "output_type": "execute_result"
    }
   ],
   "source": [
    "registro_datos[\"Asignatura\"].unique()"
   ]
  },
  {
   "cell_type": "code",
   "execution_count": 73,
   "metadata": {},
   "outputs": [
    {
     "data": {
      "text/html": [
       "<div>\n",
       "<style scoped>\n",
       "    .dataframe tbody tr th:only-of-type {\n",
       "        vertical-align: middle;\n",
       "    }\n",
       "\n",
       "    .dataframe tbody tr th {\n",
       "        vertical-align: top;\n",
       "    }\n",
       "\n",
       "    .dataframe thead th {\n",
       "        text-align: right;\n",
       "    }\n",
       "</style>\n",
       "<table border=\"1\" class=\"dataframe\">\n",
       "  <thead>\n",
       "    <tr style=\"text-align: right;\">\n",
       "      <th></th>\n",
       "      <th>Nombre</th>\n",
       "      <th>Correo institucional (@uptc.edu.co)</th>\n",
       "      <th>Programa Académico</th>\n",
       "      <th>Asignatura</th>\n",
       "    </tr>\n",
       "  </thead>\n",
       "  <tbody>\n",
       "    <tr>\n",
       "      <th>44</th>\n",
       "      <td>Fredy Andrés Murcia Currea</td>\n",
       "      <td>fandresmc97@gmail.com</td>\n",
       "      <td>Gobernación de Boyacá</td>\n",
       "      <td>Profesionales</td>\n",
       "    </tr>\n",
       "    <tr>\n",
       "      <th>46</th>\n",
       "      <td>Frey Alfonso Santamaría Buitrago</td>\n",
       "      <td>Frey.santamaria@uptc.edu.co</td>\n",
       "      <td>Docente</td>\n",
       "      <td>Profesionales</td>\n",
       "    </tr>\n",
       "    <tr>\n",
       "      <th>51</th>\n",
       "      <td>FABIO ALONSO ARIAS ADARME</td>\n",
       "      <td>ingfaaa@gmail.com</td>\n",
       "      <td>Gobernación de Boyacá</td>\n",
       "      <td>Profesionales</td>\n",
       "    </tr>\n",
       "    <tr>\n",
       "      <th>52</th>\n",
       "      <td>ingrid ortiz</td>\n",
       "      <td>ingrid.ortiz05@uptc.edu.co</td>\n",
       "      <td>Docente</td>\n",
       "      <td>Profesionales</td>\n",
       "    </tr>\n",
       "    <tr>\n",
       "      <th>53</th>\n",
       "      <td>Jairo Alonso Mesa Lara</td>\n",
       "      <td>jairo.mesa@uptc.edu.co</td>\n",
       "      <td>Docente</td>\n",
       "      <td>Profesionales</td>\n",
       "    </tr>\n",
       "    <tr>\n",
       "      <th>54</th>\n",
       "      <td>jaraquesoler</td>\n",
       "      <td>jaraquesoler@gmail.com</td>\n",
       "      <td>Docente</td>\n",
       "      <td>Profesionales</td>\n",
       "    </tr>\n",
       "    <tr>\n",
       "      <th>55</th>\n",
       "      <td>Jeffer Ivan Figueroa Casas</td>\n",
       "      <td>jefferfigueroacasas@gmail.com</td>\n",
       "      <td>Gobernación de Boyacá</td>\n",
       "      <td>Profesionales</td>\n",
       "    </tr>\n",
       "    <tr>\n",
       "      <th>59</th>\n",
       "      <td>Jenny Amparo Rosales Agredo</td>\n",
       "      <td>jenny.rosales@uptc.edu.co</td>\n",
       "      <td>Docente</td>\n",
       "      <td>Profesionales</td>\n",
       "    </tr>\n",
       "    <tr>\n",
       "      <th>91</th>\n",
       "      <td>LEONARDO BERNAL ZAMORA</td>\n",
       "      <td>leonardo.bernal01@uptc.edu.co</td>\n",
       "      <td>Administrativo</td>\n",
       "      <td>Profesionales</td>\n",
       "    </tr>\n",
       "    <tr>\n",
       "      <th>97</th>\n",
       "      <td>Luz Santamaría Granados</td>\n",
       "      <td>luz.santamaria@uptc.edu.co</td>\n",
       "      <td>Docente</td>\n",
       "      <td>Profesionales</td>\n",
       "    </tr>\n",
       "    <tr>\n",
       "      <th>105</th>\n",
       "      <td>Miguel Angel Mendoza Moreno</td>\n",
       "      <td>miguel.mendoza@uptc.edu.co</td>\n",
       "      <td>Docente</td>\n",
       "      <td>Profesionales</td>\n",
       "    </tr>\n",
       "    <tr>\n",
       "      <th>112</th>\n",
       "      <td>Oscar Fernando Vera Cely</td>\n",
       "      <td>oscar.vera@uptc.edu.co</td>\n",
       "      <td>Docente</td>\n",
       "      <td>Profesionales</td>\n",
       "    </tr>\n",
       "    <tr>\n",
       "      <th>115</th>\n",
       "      <td>Natalia rojas sepulveda</td>\n",
       "      <td>rojasnatha21@gmail.com</td>\n",
       "      <td>Gobernación de Boyacá</td>\n",
       "      <td>Profesionales</td>\n",
       "    </tr>\n",
       "    <tr>\n",
       "      <th>128</th>\n",
       "      <td>Jorge Mojica</td>\n",
       "      <td>telematica@boyaca.gov.co</td>\n",
       "      <td>Gobernación de Boyacá</td>\n",
       "      <td>Profesionales</td>\n",
       "    </tr>\n",
       "  </tbody>\n",
       "</table>\n",
       "</div>"
      ],
      "text/plain": [
       "                               Nombre Correo institucional (@uptc.edu.co)  \\\n",
       "44         Fredy Andrés Murcia Currea               fandresmc97@gmail.com   \n",
       "46   Frey Alfonso Santamaría Buitrago         Frey.santamaria@uptc.edu.co   \n",
       "51          FABIO ALONSO ARIAS ADARME                   ingfaaa@gmail.com   \n",
       "52                       ingrid ortiz          ingrid.ortiz05@uptc.edu.co   \n",
       "53             Jairo Alonso Mesa Lara              jairo.mesa@uptc.edu.co   \n",
       "54                       jaraquesoler              jaraquesoler@gmail.com   \n",
       "55         Jeffer Ivan Figueroa Casas       jefferfigueroacasas@gmail.com   \n",
       "59        Jenny Amparo Rosales Agredo           jenny.rosales@uptc.edu.co   \n",
       "91             LEONARDO BERNAL ZAMORA       leonardo.bernal01@uptc.edu.co   \n",
       "97            Luz Santamaría Granados          luz.santamaria@uptc.edu.co   \n",
       "105       Miguel Angel Mendoza Moreno          miguel.mendoza@uptc.edu.co   \n",
       "112          Oscar Fernando Vera Cely              oscar.vera@uptc.edu.co   \n",
       "115          Natalia rojas sepulveda               rojasnatha21@gmail.com   \n",
       "128                     Jorge Mojica             telematica@boyaca.gov.co   \n",
       "\n",
       "        Programa Académico     Asignatura  \n",
       "44   Gobernación de Boyacá  Profesionales  \n",
       "46                 Docente  Profesionales  \n",
       "51   Gobernación de Boyacá  Profesionales  \n",
       "52                 Docente  Profesionales  \n",
       "53                 Docente  Profesionales  \n",
       "54                 Docente  Profesionales  \n",
       "55   Gobernación de Boyacá  Profesionales  \n",
       "59                 Docente  Profesionales  \n",
       "91          Administrativo  Profesionales  \n",
       "97                 Docente  Profesionales  \n",
       "105                Docente  Profesionales  \n",
       "112                Docente  Profesionales  \n",
       "115  Gobernación de Boyacá  Profesionales  \n",
       "128  Gobernación de Boyacá  Profesionales  "
      ]
     },
     "execution_count": 73,
     "metadata": {},
     "output_type": "execute_result"
    }
   ],
   "source": [
    "# Verificación\n",
    "registro_datos[registro_datos[\"Programa Académico\"].isin(programas_profesionales)]"
   ]
  },
  {
   "cell_type": "code",
   "execution_count": 74,
   "metadata": {},
   "outputs": [
    {
     "data": {
      "text/plain": [
       "Nombre                                  0\n",
       "Correo institucional (@uptc.edu.co)     0\n",
       "Programa Académico                      1\n",
       "Asignatura                             14\n",
       "dtype: int64"
      ]
     },
     "execution_count": 74,
     "metadata": {},
     "output_type": "execute_result"
    }
   ],
   "source": [
    "#Cuantos nulos quedan??\n",
    "registro_datos.isna().sum()"
   ]
  },
  {
   "cell_type": "code",
   "execution_count": 75,
   "metadata": {},
   "outputs": [
    {
     "data": {
      "text/html": [
       "<div>\n",
       "<style scoped>\n",
       "    .dataframe tbody tr th:only-of-type {\n",
       "        vertical-align: middle;\n",
       "    }\n",
       "\n",
       "    .dataframe tbody tr th {\n",
       "        vertical-align: top;\n",
       "    }\n",
       "\n",
       "    .dataframe thead th {\n",
       "        text-align: right;\n",
       "    }\n",
       "</style>\n",
       "<table border=\"1\" class=\"dataframe\">\n",
       "  <thead>\n",
       "    <tr style=\"text-align: right;\">\n",
       "      <th></th>\n",
       "      <th>Nombre</th>\n",
       "      <th>Correo institucional (@uptc.edu.co)</th>\n",
       "      <th>Programa Académico</th>\n",
       "      <th>Asignatura</th>\n",
       "    </tr>\n",
       "  </thead>\n",
       "  <tbody>\n",
       "    <tr>\n",
       "      <th>2</th>\n",
       "      <td>Andrés Leonardo Maldonado Sánchez</td>\n",
       "      <td>andres.maldonado02@uptc.edu.co</td>\n",
       "      <td>Ingeniería de Sistemas y Computación</td>\n",
       "      <td>NaN</td>\n",
       "    </tr>\n",
       "    <tr>\n",
       "      <th>4</th>\n",
       "      <td>Andrés Camilo Silva Landinez</td>\n",
       "      <td>andres.silva07@uptc.edu.co</td>\n",
       "      <td>Ingeniería de Sistemas y Computación</td>\n",
       "      <td>NaN</td>\n",
       "    </tr>\n",
       "    <tr>\n",
       "      <th>10</th>\n",
       "      <td>Brayan Julián Barrantes Medina</td>\n",
       "      <td>brayan.barrantes@uptc.edu.co</td>\n",
       "      <td>Ingeniería de Sistemas y Computación</td>\n",
       "      <td>NaN</td>\n",
       "    </tr>\n",
       "    <tr>\n",
       "      <th>25</th>\n",
       "      <td>David Leonardo Rojas Leon</td>\n",
       "      <td>David.rojas@uptc.edu.co</td>\n",
       "      <td>Ingeniería de Sistemas y Computación</td>\n",
       "      <td>NaN</td>\n",
       "    </tr>\n",
       "    <tr>\n",
       "      <th>26</th>\n",
       "      <td>Diana Marcela Pinzón Reyes</td>\n",
       "      <td>Diana.pinzon02@uptc.edu.co</td>\n",
       "      <td>Otro programa académico</td>\n",
       "      <td>NaN</td>\n",
       "    </tr>\n",
       "    <tr>\n",
       "      <th>27</th>\n",
       "      <td>Diego fernando alba novoa</td>\n",
       "      <td>diego.alba02@uptc.edu.co</td>\n",
       "      <td>Ingeniería de Sistemas y Computación</td>\n",
       "      <td>NaN</td>\n",
       "    </tr>\n",
       "    <tr>\n",
       "      <th>42</th>\n",
       "      <td>Esteban Nicolás Peña Coronado</td>\n",
       "      <td>esteban.pena01@uptc.edu.co</td>\n",
       "      <td>Ingeniería de Sistemas y Computación</td>\n",
       "      <td>NaN</td>\n",
       "    </tr>\n",
       "    <tr>\n",
       "      <th>67</th>\n",
       "      <td>Johan Sebastian Sierra Torres</td>\n",
       "      <td>johan.sierra@uptc.edu.co</td>\n",
       "      <td>Ingeniería de Sistemas y Computación</td>\n",
       "      <td>NaN</td>\n",
       "    </tr>\n",
       "    <tr>\n",
       "      <th>74</th>\n",
       "      <td>Joseph Sebastian Saavedra Rivera</td>\n",
       "      <td>joseph.saavedra@uptc.edu.co</td>\n",
       "      <td>Ingeniería de Sistemas y Computación</td>\n",
       "      <td>NaN</td>\n",
       "    </tr>\n",
       "    <tr>\n",
       "      <th>85</th>\n",
       "      <td>JULIAN CAMILO REYES URIBE</td>\n",
       "      <td>julian.reyes04@uptc.edu.co</td>\n",
       "      <td>Ingeniería de Sistemas y Computación</td>\n",
       "      <td>NaN</td>\n",
       "    </tr>\n",
       "    <tr>\n",
       "      <th>86</th>\n",
       "      <td>Julián David Rodríguez Camargo</td>\n",
       "      <td>julian.rodriguez21@uptc.edu.co</td>\n",
       "      <td>Ingeniería de Sistemas y Computación</td>\n",
       "      <td>NaN</td>\n",
       "    </tr>\n",
       "    <tr>\n",
       "      <th>119</th>\n",
       "      <td>santiago rodriguez</td>\n",
       "      <td>santiago.rodriguez04@uptc.edu.co</td>\n",
       "      <td>NaN</td>\n",
       "      <td>NaN</td>\n",
       "    </tr>\n",
       "    <tr>\n",
       "      <th>124</th>\n",
       "      <td>Sebastian Felipe Fonseca Hurtado</td>\n",
       "      <td>sebastian.sanchez02@uptc.edu.co</td>\n",
       "      <td>Ingeniería de Sistemas y Computación</td>\n",
       "      <td>NaN</td>\n",
       "    </tr>\n",
       "    <tr>\n",
       "      <th>133</th>\n",
       "      <td>Yamid Alonso Niño Murcia</td>\n",
       "      <td>yamid.nino02@uptc.edu.co</td>\n",
       "      <td>Ingeniería de Sistemas y Computación</td>\n",
       "      <td>NaN</td>\n",
       "    </tr>\n",
       "  </tbody>\n",
       "</table>\n",
       "</div>"
      ],
      "text/plain": [
       "                                 Nombre Correo institucional (@uptc.edu.co)  \\\n",
       "2    Andrés Leonardo Maldonado Sánchez       andres.maldonado02@uptc.edu.co   \n",
       "4          Andrés Camilo Silva Landinez          andres.silva07@uptc.edu.co   \n",
       "10      Brayan Julián Barrantes Medina         brayan.barrantes@uptc.edu.co   \n",
       "25           David Leonardo Rojas Leon              David.rojas@uptc.edu.co   \n",
       "26          Diana Marcela Pinzón Reyes          Diana.pinzon02@uptc.edu.co    \n",
       "27            Diego fernando alba novoa            diego.alba02@uptc.edu.co   \n",
       "42       Esteban Nicolás Peña Coronado           esteban.pena01@uptc.edu.co   \n",
       "67        Johan Sebastian Sierra Torres            johan.sierra@uptc.edu.co   \n",
       "74     Joseph Sebastian Saavedra Rivera         joseph.saavedra@uptc.edu.co   \n",
       "85           JULIAN CAMILO REYES URIBE           julian.reyes04@uptc.edu.co   \n",
       "86      Julián David Rodríguez Camargo       julian.rodriguez21@uptc.edu.co   \n",
       "119                  santiago rodriguez    santiago.rodriguez04@uptc.edu.co   \n",
       "124    Sebastian Felipe Fonseca Hurtado    sebastian.sanchez02@uptc.edu.co    \n",
       "133            Yamid Alonso Niño Murcia            yamid.nino02@uptc.edu.co   \n",
       "\n",
       "                       Programa Académico Asignatura  \n",
       "2    Ingeniería de Sistemas y Computación        NaN  \n",
       "4    Ingeniería de Sistemas y Computación        NaN  \n",
       "10   Ingeniería de Sistemas y Computación        NaN  \n",
       "25   Ingeniería de Sistemas y Computación        NaN  \n",
       "26                Otro programa académico        NaN  \n",
       "27   Ingeniería de Sistemas y Computación        NaN  \n",
       "42   Ingeniería de Sistemas y Computación        NaN  \n",
       "67   Ingeniería de Sistemas y Computación        NaN  \n",
       "74   Ingeniería de Sistemas y Computación        NaN  \n",
       "85   Ingeniería de Sistemas y Computación        NaN  \n",
       "86   Ingeniería de Sistemas y Computación        NaN  \n",
       "119                                   NaN        NaN  \n",
       "124  Ingeniería de Sistemas y Computación        NaN  \n",
       "133  Ingeniería de Sistemas y Computación        NaN  "
      ]
     },
     "execution_count": 75,
     "metadata": {},
     "output_type": "execute_result"
    }
   ],
   "source": [
    "registro_datos[registro_datos[\"Asignatura\"].isna()]"
   ]
  },
  {
   "cell_type": "code",
   "execution_count": 76,
   "metadata": {},
   "outputs": [],
   "source": [
    "registro_datos[\"estado\"] = np.where(registro_datos[\"Asignatura\"].isna(),\"Falta información\",\"Validados\")"
   ]
  },
  {
   "cell_type": "code",
   "execution_count": 77,
   "metadata": {},
   "outputs": [],
   "source": [
    "registro_datos[\"estado\"].loc[registro_datos[\"Correo institucional (@uptc.edu.co)\"]==\"william.cely05@uptc.edu.co\"]\n",
    "registro_datos.iloc[130,4]=\"Falta información\""
   ]
  },
  {
   "cell_type": "code",
   "execution_count": 78,
   "metadata": {},
   "outputs": [
    {
     "data": {
      "text/html": [
       "<div>\n",
       "<style scoped>\n",
       "    .dataframe tbody tr th:only-of-type {\n",
       "        vertical-align: middle;\n",
       "    }\n",
       "\n",
       "    .dataframe tbody tr th {\n",
       "        vertical-align: top;\n",
       "    }\n",
       "\n",
       "    .dataframe thead th {\n",
       "        text-align: right;\n",
       "    }\n",
       "</style>\n",
       "<table border=\"1\" class=\"dataframe\">\n",
       "  <thead>\n",
       "    <tr style=\"text-align: right;\">\n",
       "      <th></th>\n",
       "      <th>Nombre</th>\n",
       "      <th>Correo institucional (@uptc.edu.co)</th>\n",
       "      <th>Programa Académico</th>\n",
       "      <th>Asignatura</th>\n",
       "      <th>estado</th>\n",
       "    </tr>\n",
       "  </thead>\n",
       "  <tbody>\n",
       "    <tr>\n",
       "      <th>2</th>\n",
       "      <td>Andrés Leonardo Maldonado Sánchez</td>\n",
       "      <td>andres.maldonado02@uptc.edu.co</td>\n",
       "      <td>Ingeniería de Sistemas y Computación</td>\n",
       "      <td>NaN</td>\n",
       "      <td>Falta información</td>\n",
       "    </tr>\n",
       "    <tr>\n",
       "      <th>4</th>\n",
       "      <td>Andrés Camilo Silva Landinez</td>\n",
       "      <td>andres.silva07@uptc.edu.co</td>\n",
       "      <td>Ingeniería de Sistemas y Computación</td>\n",
       "      <td>NaN</td>\n",
       "      <td>Falta información</td>\n",
       "    </tr>\n",
       "    <tr>\n",
       "      <th>10</th>\n",
       "      <td>Brayan Julián Barrantes Medina</td>\n",
       "      <td>brayan.barrantes@uptc.edu.co</td>\n",
       "      <td>Ingeniería de Sistemas y Computación</td>\n",
       "      <td>NaN</td>\n",
       "      <td>Falta información</td>\n",
       "    </tr>\n",
       "    <tr>\n",
       "      <th>25</th>\n",
       "      <td>David Leonardo Rojas Leon</td>\n",
       "      <td>David.rojas@uptc.edu.co</td>\n",
       "      <td>Ingeniería de Sistemas y Computación</td>\n",
       "      <td>NaN</td>\n",
       "      <td>Falta información</td>\n",
       "    </tr>\n",
       "    <tr>\n",
       "      <th>26</th>\n",
       "      <td>Diana Marcela Pinzón Reyes</td>\n",
       "      <td>Diana.pinzon02@uptc.edu.co</td>\n",
       "      <td>Otro programa académico</td>\n",
       "      <td>NaN</td>\n",
       "      <td>Falta información</td>\n",
       "    </tr>\n",
       "    <tr>\n",
       "      <th>27</th>\n",
       "      <td>Diego fernando alba novoa</td>\n",
       "      <td>diego.alba02@uptc.edu.co</td>\n",
       "      <td>Ingeniería de Sistemas y Computación</td>\n",
       "      <td>NaN</td>\n",
       "      <td>Falta información</td>\n",
       "    </tr>\n",
       "    <tr>\n",
       "      <th>42</th>\n",
       "      <td>Esteban Nicolás Peña Coronado</td>\n",
       "      <td>esteban.pena01@uptc.edu.co</td>\n",
       "      <td>Ingeniería de Sistemas y Computación</td>\n",
       "      <td>NaN</td>\n",
       "      <td>Falta información</td>\n",
       "    </tr>\n",
       "    <tr>\n",
       "      <th>67</th>\n",
       "      <td>Johan Sebastian Sierra Torres</td>\n",
       "      <td>johan.sierra@uptc.edu.co</td>\n",
       "      <td>Ingeniería de Sistemas y Computación</td>\n",
       "      <td>NaN</td>\n",
       "      <td>Falta información</td>\n",
       "    </tr>\n",
       "    <tr>\n",
       "      <th>74</th>\n",
       "      <td>Joseph Sebastian Saavedra Rivera</td>\n",
       "      <td>joseph.saavedra@uptc.edu.co</td>\n",
       "      <td>Ingeniería de Sistemas y Computación</td>\n",
       "      <td>NaN</td>\n",
       "      <td>Falta información</td>\n",
       "    </tr>\n",
       "    <tr>\n",
       "      <th>85</th>\n",
       "      <td>JULIAN CAMILO REYES URIBE</td>\n",
       "      <td>julian.reyes04@uptc.edu.co</td>\n",
       "      <td>Ingeniería de Sistemas y Computación</td>\n",
       "      <td>NaN</td>\n",
       "      <td>Falta información</td>\n",
       "    </tr>\n",
       "    <tr>\n",
       "      <th>86</th>\n",
       "      <td>Julián David Rodríguez Camargo</td>\n",
       "      <td>julian.rodriguez21@uptc.edu.co</td>\n",
       "      <td>Ingeniería de Sistemas y Computación</td>\n",
       "      <td>NaN</td>\n",
       "      <td>Falta información</td>\n",
       "    </tr>\n",
       "    <tr>\n",
       "      <th>119</th>\n",
       "      <td>santiago rodriguez</td>\n",
       "      <td>santiago.rodriguez04@uptc.edu.co</td>\n",
       "      <td>NaN</td>\n",
       "      <td>NaN</td>\n",
       "      <td>Falta información</td>\n",
       "    </tr>\n",
       "    <tr>\n",
       "      <th>124</th>\n",
       "      <td>Sebastian Felipe Fonseca Hurtado</td>\n",
       "      <td>sebastian.sanchez02@uptc.edu.co</td>\n",
       "      <td>Ingeniería de Sistemas y Computación</td>\n",
       "      <td>NaN</td>\n",
       "      <td>Falta información</td>\n",
       "    </tr>\n",
       "    <tr>\n",
       "      <th>133</th>\n",
       "      <td>Yamid Alonso Niño Murcia</td>\n",
       "      <td>yamid.nino02@uptc.edu.co</td>\n",
       "      <td>Ingeniería de Sistemas y Computación</td>\n",
       "      <td>NaN</td>\n",
       "      <td>Falta información</td>\n",
       "    </tr>\n",
       "  </tbody>\n",
       "</table>\n",
       "</div>"
      ],
      "text/plain": [
       "                                 Nombre Correo institucional (@uptc.edu.co)  \\\n",
       "2    Andrés Leonardo Maldonado Sánchez       andres.maldonado02@uptc.edu.co   \n",
       "4          Andrés Camilo Silva Landinez          andres.silva07@uptc.edu.co   \n",
       "10      Brayan Julián Barrantes Medina         brayan.barrantes@uptc.edu.co   \n",
       "25           David Leonardo Rojas Leon              David.rojas@uptc.edu.co   \n",
       "26          Diana Marcela Pinzón Reyes          Diana.pinzon02@uptc.edu.co    \n",
       "27            Diego fernando alba novoa            diego.alba02@uptc.edu.co   \n",
       "42       Esteban Nicolás Peña Coronado           esteban.pena01@uptc.edu.co   \n",
       "67        Johan Sebastian Sierra Torres            johan.sierra@uptc.edu.co   \n",
       "74     Joseph Sebastian Saavedra Rivera         joseph.saavedra@uptc.edu.co   \n",
       "85           JULIAN CAMILO REYES URIBE           julian.reyes04@uptc.edu.co   \n",
       "86      Julián David Rodríguez Camargo       julian.rodriguez21@uptc.edu.co   \n",
       "119                  santiago rodriguez    santiago.rodriguez04@uptc.edu.co   \n",
       "124    Sebastian Felipe Fonseca Hurtado    sebastian.sanchez02@uptc.edu.co    \n",
       "133            Yamid Alonso Niño Murcia            yamid.nino02@uptc.edu.co   \n",
       "\n",
       "                       Programa Académico Asignatura             estado  \n",
       "2    Ingeniería de Sistemas y Computación        NaN  Falta información  \n",
       "4    Ingeniería de Sistemas y Computación        NaN  Falta información  \n",
       "10   Ingeniería de Sistemas y Computación        NaN  Falta información  \n",
       "25   Ingeniería de Sistemas y Computación        NaN  Falta información  \n",
       "26                Otro programa académico        NaN  Falta información  \n",
       "27   Ingeniería de Sistemas y Computación        NaN  Falta información  \n",
       "42   Ingeniería de Sistemas y Computación        NaN  Falta información  \n",
       "67   Ingeniería de Sistemas y Computación        NaN  Falta información  \n",
       "74   Ingeniería de Sistemas y Computación        NaN  Falta información  \n",
       "85   Ingeniería de Sistemas y Computación        NaN  Falta información  \n",
       "86   Ingeniería de Sistemas y Computación        NaN  Falta información  \n",
       "119                                   NaN        NaN  Falta información  \n",
       "124  Ingeniería de Sistemas y Computación        NaN  Falta información  \n",
       "133  Ingeniería de Sistemas y Computación        NaN  Falta información  "
      ]
     },
     "execution_count": 78,
     "metadata": {},
     "output_type": "execute_result"
    }
   ],
   "source": [
    "# Validación\n",
    "registro_datos[registro_datos[\"Asignatura\"].isna()]"
   ]
  },
  {
   "cell_type": "code",
   "execution_count": 79,
   "metadata": {},
   "outputs": [],
   "source": [
    "# Limpio problemas con mayusculas y minusculas\n",
    "registro_datos[\"Nombre\"] = registro_datos.Nombre.str.title()"
   ]
  },
  {
   "cell_type": "code",
   "execution_count": 80,
   "metadata": {},
   "outputs": [
    {
     "data": {
      "text/plain": [
       "Nombre                                       Anderson Daniel Barreto Sierra\n",
       "Correo institucional (@uptc.edu.co)          anderson.barreto01@uptc.edu.co\n",
       "Programa Académico                     Ingeniería de Sistemas y Computación\n",
       "Asignatura                                                     Electiva III\n",
       "estado                                                            Validados\n",
       "Name: 0, dtype: object"
      ]
     },
     "execution_count": 80,
     "metadata": {},
     "output_type": "execute_result"
    }
   ],
   "source": [
    "# Limpio espacios\n",
    "registro_datos[\"Nombre\"] = registro_datos[\"Nombre\"].str.strip()\n",
    "registro_datos.iloc[0]"
   ]
  },
  {
   "cell_type": "code",
   "execution_count": 81,
   "metadata": {},
   "outputs": [],
   "source": [
    "# Genero columna en comun con el registro al evento\n",
    "evento_1[\"NombreCompleto\"] = (evento_1[\"Nombre\"].fillna(\"\")+\" \"+evento_1[\"Apellido\"].fillna(\"\")).str.strip()\n",
    "evento_2[\"NombreCompleto\"] = (evento_2[\"Nombre\"].fillna(\"\")+\" \"+evento_2[\"Apellido\"].fillna(\"\")).str.strip()\n",
    "evento_3[\"NombreCompleto\"] = (evento_3[\"Nombre\"].fillna(\"\")+\" \"+evento_3[\"Apellido\"].fillna(\"\")).str.strip()\n",
    "evento_4[\"NombreCompleto\"] = (evento_4[\"Nombre\"].fillna(\"\")+\" \"+evento_4[\"Apellido\"].fillna(\"\")).str.strip()\n",
    "evento_5[\"NombreCompleto\"] = (evento_5[\"Nombre\"].fillna(\"\")+\" \"+evento_5[\"Apellido\"].fillna(\"\")).str.strip()\n",
    "evento_6[\"NombreCompleto\"] = (evento_6[\"Nombre\"].fillna(\"\")+\" \"+evento_6[\"Apellido\"].fillna(\"\")).str.strip()\n",
    "evento_7[\"NombreCompleto\"] = (evento_7[\"Nombre\"].fillna(\"\")+\" \"+evento_7[\"Apellido\"].fillna(\"\")).str.strip()\n",
    "evento_8[\"NombreCompleto\"] = (evento_8[\"Nombre\"].fillna(\"\")+\" \"+evento_8[\"Apellido\"].fillna(\"\")).str.strip()\n",
    "evento_9[\"NombreCompleto\"] = (evento_9[\"Nombre\"].fillna(\"\")+\" \"+evento_9[\"Apellido\"].fillna(\"\")).str.strip()"
   ]
  },
  {
   "cell_type": "code",
   "execution_count": 82,
   "metadata": {},
   "outputs": [],
   "source": [
    "# Elimino espacios\n",
    "evento_1[\"NombreCompleto\"] = evento_1[\"NombreCompleto\"].str.strip()\n",
    "evento_2[\"NombreCompleto\"] = evento_2[\"NombreCompleto\"].str.strip()\n",
    "evento_3[\"NombreCompleto\"] = evento_3[\"NombreCompleto\"].str.strip()\n",
    "evento_4[\"NombreCompleto\"] = evento_4[\"NombreCompleto\"].str.strip()\n",
    "evento_5[\"NombreCompleto\"] = evento_5[\"NombreCompleto\"].str.strip()\n",
    "evento_6[\"NombreCompleto\"] = evento_6[\"NombreCompleto\"].str.strip()\n",
    "evento_7[\"NombreCompleto\"] = evento_7[\"NombreCompleto\"].str.strip()\n",
    "evento_8[\"NombreCompleto\"] = evento_8[\"NombreCompleto\"].str.strip()\n",
    "evento_9[\"NombreCompleto\"] = evento_9[\"NombreCompleto\"].str.strip()"
   ]
  },
  {
   "cell_type": "code",
   "execution_count": 83,
   "metadata": {},
   "outputs": [],
   "source": [
    "# Se realiza una busqueda de correos no institucionales\n",
    "uptc = re.compile('.*@uptc\\.edu\\.co$')"
   ]
  },
  {
   "cell_type": "code",
   "execution_count": 84,
   "metadata": {},
   "outputs": [],
   "source": [
    "# Elimino espacios\n",
    "registro_datos[\"Correo institucional (@uptc.edu.co)\"]=registro_datos[\"Correo institucional (@uptc.edu.co)\"].str.strip()"
   ]
  },
  {
   "cell_type": "code",
   "execution_count": 85,
   "metadata": {},
   "outputs": [
    {
     "data": {
      "text/html": [
       "<div>\n",
       "<style scoped>\n",
       "    .dataframe tbody tr th:only-of-type {\n",
       "        vertical-align: middle;\n",
       "    }\n",
       "\n",
       "    .dataframe tbody tr th {\n",
       "        vertical-align: top;\n",
       "    }\n",
       "\n",
       "    .dataframe thead th {\n",
       "        text-align: right;\n",
       "    }\n",
       "</style>\n",
       "<table border=\"1\" class=\"dataframe\">\n",
       "  <thead>\n",
       "    <tr style=\"text-align: right;\">\n",
       "      <th></th>\n",
       "      <th>Nombre</th>\n",
       "      <th>Correo institucional (@uptc.edu.co)</th>\n",
       "      <th>Programa Académico</th>\n",
       "      <th>Asignatura</th>\n",
       "      <th>estado</th>\n",
       "    </tr>\n",
       "  </thead>\n",
       "  <tbody>\n",
       "    <tr>\n",
       "      <th>44</th>\n",
       "      <td>Fredy Andrés Murcia Currea</td>\n",
       "      <td>fandresmc97@gmail.com</td>\n",
       "      <td>Gobernación de Boyacá</td>\n",
       "      <td>Profesionales</td>\n",
       "      <td>Validados</td>\n",
       "    </tr>\n",
       "    <tr>\n",
       "      <th>51</th>\n",
       "      <td>Fabio Alonso Arias Adarme</td>\n",
       "      <td>ingfaaa@gmail.com</td>\n",
       "      <td>Gobernación de Boyacá</td>\n",
       "      <td>Profesionales</td>\n",
       "      <td>Validados</td>\n",
       "    </tr>\n",
       "    <tr>\n",
       "      <th>54</th>\n",
       "      <td>Jaraquesoler</td>\n",
       "      <td>jaraquesoler@gmail.com</td>\n",
       "      <td>Docente</td>\n",
       "      <td>Profesionales</td>\n",
       "      <td>Validados</td>\n",
       "    </tr>\n",
       "    <tr>\n",
       "      <th>55</th>\n",
       "      <td>Jeffer Ivan Figueroa Casas</td>\n",
       "      <td>jefferfigueroacasas@gmail.com</td>\n",
       "      <td>Gobernación de Boyacá</td>\n",
       "      <td>Profesionales</td>\n",
       "      <td>Validados</td>\n",
       "    </tr>\n",
       "    <tr>\n",
       "      <th>115</th>\n",
       "      <td>Natalia Rojas Sepulveda</td>\n",
       "      <td>rojasnatha21@gmail.com</td>\n",
       "      <td>Gobernación de Boyacá</td>\n",
       "      <td>Profesionales</td>\n",
       "      <td>Validados</td>\n",
       "    </tr>\n",
       "    <tr>\n",
       "      <th>128</th>\n",
       "      <td>Jorge Mojica</td>\n",
       "      <td>telematica@boyaca.gov.co</td>\n",
       "      <td>Gobernación de Boyacá</td>\n",
       "      <td>Profesionales</td>\n",
       "      <td>Validados</td>\n",
       "    </tr>\n",
       "  </tbody>\n",
       "</table>\n",
       "</div>"
      ],
      "text/plain": [
       "                         Nombre Correo institucional (@uptc.edu.co)  \\\n",
       "44   Fredy Andrés Murcia Currea               fandresmc97@gmail.com   \n",
       "51    Fabio Alonso Arias Adarme                   ingfaaa@gmail.com   \n",
       "54                 Jaraquesoler              jaraquesoler@gmail.com   \n",
       "55   Jeffer Ivan Figueroa Casas       jefferfigueroacasas@gmail.com   \n",
       "115     Natalia Rojas Sepulveda              rojasnatha21@gmail.com   \n",
       "128                Jorge Mojica            telematica@boyaca.gov.co   \n",
       "\n",
       "        Programa Académico     Asignatura     estado  \n",
       "44   Gobernación de Boyacá  Profesionales  Validados  \n",
       "51   Gobernación de Boyacá  Profesionales  Validados  \n",
       "54                 Docente  Profesionales  Validados  \n",
       "55   Gobernación de Boyacá  Profesionales  Validados  \n",
       "115  Gobernación de Boyacá  Profesionales  Validados  \n",
       "128  Gobernación de Boyacá  Profesionales  Validados  "
      ]
     },
     "execution_count": 85,
     "metadata": {},
     "output_type": "execute_result"
    }
   ],
   "source": [
    "# Procedo a revisar cada uno de los integrantes en las asistencias de los eventos para asi arreglarlos\n",
    "registro_datos[~registro_datos[\"Correo institucional (@uptc.edu.co)\"].str.contains(uptc)]"
   ]
  },
  {
   "cell_type": "code",
   "execution_count": 86,
   "metadata": {},
   "outputs": [],
   "source": [
    "#primero arreglo los gmail\n",
    "nombre_gmail = [\"Fredy Andrés Murcia Currea\",\"Fabio Alonso Arias Adarme\",\n",
    "                \"Jaraquesoler\",\"Jeffer Ivan Figueroa Casas\",\"Natalia Rojas Sepulveda\",\"Jorge Mojica\"]\n",
    "gmail_correos = re.compile('.*@gmail.com$')"
   ]
  },
  {
   "cell_type": "code",
   "execution_count": 87,
   "metadata": {},
   "outputs": [],
   "source": [
    "# corrijo problemas con mayusculas y minusculas\n",
    "evento_1[\"NombreCompleto\"] = evento_1[\"NombreCompleto\"].str.title()\n",
    "evento_2[\"NombreCompleto\"] = evento_2[\"NombreCompleto\"].str.title()\n",
    "evento_3[\"NombreCompleto\"] = evento_3[\"NombreCompleto\"].str.title()\n",
    "evento_4[\"NombreCompleto\"] = evento_4[\"NombreCompleto\"].str.title()\n",
    "evento_5[\"NombreCompleto\"] = evento_5[\"NombreCompleto\"].str.title()\n",
    "evento_6[\"NombreCompleto\"] = evento_6[\"NombreCompleto\"].str.title()\n",
    "evento_7[\"NombreCompleto\"] = evento_7[\"NombreCompleto\"].str.title()\n",
    "evento_8[\"NombreCompleto\"] = evento_8[\"NombreCompleto\"].str.title()\n",
    "evento_9[\"NombreCompleto\"] = evento_9[\"NombreCompleto\"].str.title()\n"
   ]
  },
  {
   "cell_type": "code",
   "execution_count": 88,
   "metadata": {},
   "outputs": [],
   "source": [
    "def encontrar_usuario(dataframe):\n",
    "    for nombres_gmail in nombre_gmail:\n",
    "        nombres = nombres_gmail.split()\n",
    "        for nombre in nombres:\n",
    "            try:\n",
    "                for i,data in dataframe.iterrows():\n",
    "                    if nombre in dataframe[\"NombreCompleto\"].iloc[i]:\n",
    "                        print(f\"Encontrado en {i} el nombre {nombre}\")\n",
    "            except KeyError:\n",
    "                pass "
   ]
  },
  {
   "cell_type": "code",
   "execution_count": 89,
   "metadata": {},
   "outputs": [
    {
     "name": "stdout",
     "output_type": "stream",
     "text": [
      "Encontrado en 3 el nombre Andrés\n",
      "Encontrado en 28 el nombre Andrés\n",
      "Encontrado en 59 el nombre Andrés\n",
      "Encontrado en 119 el nombre Andrés\n",
      "Encontrado en 6 el nombre Fabio\n",
      "Encontrado en 2 el nombre Alonso\n",
      "Encontrado en 6 el nombre Alonso\n",
      "Encontrado en 6 el nombre Arias\n",
      "Encontrado en 7 el nombre Arias\n",
      "Encontrado en 6 el nombre Adarme\n",
      "Encontrado en 45 el nombre Jeffer\n",
      "Encontrado en 45 el nombre Figueroa\n",
      "Encontrado en 45 el nombre Casas\n",
      "Encontrado en 0 el nombre Natalia\n",
      "Encontrado en 91 el nombre Natalia\n",
      "Encontrado en 91 el nombre Rojas\n",
      "Encontrado en 124 el nombre Rojas\n",
      "Encontrado en 64 el nombre Jorge\n",
      "Encontrado en 63 el nombre Mojica\n",
      "Encontrado en 64 el nombre Mojica\n"
     ]
    }
   ],
   "source": [
    "# Revisar si algun usuario asistió al evento el día 6\n",
    "encontrar_usuario(evento_1)"
   ]
  },
  {
   "cell_type": "code",
   "execution_count": 90,
   "metadata": {},
   "outputs": [
    {
     "name": "stdout",
     "output_type": "stream",
     "text": [
      "['Fredy Andrés Murcia Currea', 'Fabio Alonso Arias Adarme', 'Jaraquesoler', 'Jeffer Ivan Figueroa Casas', 'Natalia Rojas Sepulveda', 'Jorge Mojica']\n"
     ]
    },
    {
     "data": {
      "text/plain": [
       "Nombre                                     jorge\n",
       "Apellido                                  mojica\n",
       "Correo electrónico       jmoj***********@***.com\n",
       "Duración                              1 h 43 min\n",
       "Hora a la que se unió                      10:23\n",
       "Hora a la que salió                        12:06\n",
       "NombreCompleto                      Jorge Mojica\n",
       "Name: 64, dtype: object"
      ]
     },
     "execution_count": 90,
     "metadata": {},
     "output_type": "execute_result"
    }
   ],
   "source": [
    "# Revisando nombres completos de los encontrados\n",
    "print(nombre_gmail)\n",
    "evento_1.iloc[64]"
   ]
  },
  {
   "cell_type": "code",
   "execution_count": 91,
   "metadata": {},
   "outputs": [
    {
     "data": {
      "text/plain": [
       "'ingfaaa@gmail.com'"
      ]
     },
     "execution_count": 91,
     "metadata": {},
     "output_type": "execute_result"
    }
   ],
   "source": [
    "# Se corrige a Fabio Alonso Arias Adarme\n",
    "registro_datos[\"Correo institucional (@uptc.edu.co)\"][registro_datos[\"Nombre\"]==\"Fabio Alonso Arias Adarme\"].values[0]"
   ]
  },
  {
   "cell_type": "code",
   "execution_count": 92,
   "metadata": {},
   "outputs": [
    {
     "data": {
      "text/plain": [
       "'ingfaaa@gmail.com'"
      ]
     },
     "execution_count": 92,
     "metadata": {},
     "output_type": "execute_result"
    }
   ],
   "source": [
    "evento_1.iloc[6,2] = registro_datos[\"Correo institucional (@uptc.edu.co)\"][registro_datos[\"Nombre\"]==\"Fabio Alonso Arias Adarme\"].values[0]\n",
    "# Se verifica\n",
    "evento_1.iloc[6,2]"
   ]
  },
  {
   "cell_type": "code",
   "execution_count": 93,
   "metadata": {},
   "outputs": [
    {
     "data": {
      "text/plain": [
       "'jefferfigueroacasas@gmail.com'"
      ]
     },
     "execution_count": 93,
     "metadata": {},
     "output_type": "execute_result"
    }
   ],
   "source": [
    "# Se corrige a Jeffer\n",
    "evento_1.iloc[45,2] = registro_datos[\"Correo institucional (@uptc.edu.co)\"][registro_datos[\"Nombre\"]==nombre_gmail[3]].values[0]\n",
    "evento_1.iloc[45,2]"
   ]
  },
  {
   "cell_type": "code",
   "execution_count": 94,
   "metadata": {},
   "outputs": [
    {
     "data": {
      "text/plain": [
       "'rojasnatha21@gmail.com'"
      ]
     },
     "execution_count": 94,
     "metadata": {},
     "output_type": "execute_result"
    }
   ],
   "source": [
    "# Se corrige a Natalia\n",
    "evento_1.iloc[91,2] = registro_datos[\"Correo institucional (@uptc.edu.co)\"][registro_datos[\"Nombre\"]==nombre_gmail[4]].values[0]\n",
    "evento_1.iloc[91,2]"
   ]
  },
  {
   "cell_type": "code",
   "execution_count": 95,
   "metadata": {},
   "outputs": [
    {
     "data": {
      "text/plain": [
       "'telematica@boyaca.gov.co'"
      ]
     },
     "execution_count": 95,
     "metadata": {},
     "output_type": "execute_result"
    }
   ],
   "source": [
    "# Se corrige a Jorge\n",
    "evento_1.iloc[64,2] = registro_datos[\"Correo institucional (@uptc.edu.co)\"][registro_datos[\"Nombre\"]==nombre_gmail[-1]].values[0]\n",
    "evento_1.iloc[64,2]"
   ]
  },
  {
   "cell_type": "code",
   "execution_count": 96,
   "metadata": {},
   "outputs": [
    {
     "name": "stdout",
     "output_type": "stream",
     "text": [
      "Encontrado en 1 el nombre Andrés"
     ]
    },
    {
     "name": "stdout",
     "output_type": "stream",
     "text": [
      "\n",
      "Encontrado en 55 el nombre Andrés\n",
      "Encontrado en 113 el nombre Andrés\n",
      "Encontrado en 64 el nombre Murcia\n",
      "Encontrado en 4 el nombre Fabio\n",
      "Encontrado en 4 el nombre Alonso\n",
      "Encontrado en 64 el nombre Alonso\n",
      "Encontrado en 4 el nombre Arias\n",
      "Encontrado en 5 el nombre Arias\n",
      "Encontrado en 4 el nombre Adarme\n",
      "Encontrado en 40 el nombre Jeffer\n",
      "Encontrado en 84 el nombre Ivan\n",
      "Encontrado en 40 el nombre Figueroa\n",
      "Encontrado en 40 el nombre Casas\n",
      "Encontrado en 0 el nombre Natalia\n",
      "Encontrado en 86 el nombre Natalia\n",
      "Encontrado en 83 el nombre Rojas\n",
      "Encontrado en 84 el nombre Rojas\n",
      "Encontrado en 85 el nombre Rojas\n",
      "Encontrado en 86 el nombre Rojas\n",
      "Encontrado en 117 el nombre Rojas\n",
      "Encontrado en 61 el nombre Jorge\n",
      "Encontrado en 60 el nombre Mojica\n",
      "Encontrado en 61 el nombre Mojica\n"
     ]
    }
   ],
   "source": [
    "# Revisar si algun usuario asistió al evento el día 8\n",
    "encontrar_usuario(evento_2)"
   ]
  },
  {
   "cell_type": "code",
   "execution_count": 97,
   "metadata": {},
   "outputs": [
    {
     "name": "stdout",
     "output_type": "stream",
     "text": [
      "['Fredy Andrés Murcia Currea', 'Fabio Alonso Arias Adarme', 'Jaraquesoler', 'Jeffer Ivan Figueroa Casas', 'Natalia Rojas Sepulveda', 'Jorge Mojica']\n"
     ]
    },
    {
     "data": {
      "text/plain": [
       "Nombre                                     jorge\n",
       "Apellido                                  mojica\n",
       "Correo electrónico       jmoj***********@***.com\n",
       "Duración                                  51 min\n",
       "Hora a la que se unió                      10:53\n",
       "Hora a la que salió                        11:45\n",
       "NombreCompleto                      Jorge Mojica\n",
       "Name: 61, dtype: object"
      ]
     },
     "execution_count": 97,
     "metadata": {},
     "output_type": "execute_result"
    }
   ],
   "source": [
    "# Revisando nombres completos de los encontrados\n",
    "print(nombre_gmail)\n",
    "evento_2.iloc[61]"
   ]
  },
  {
   "cell_type": "code",
   "execution_count": 98,
   "metadata": {},
   "outputs": [
    {
     "data": {
      "text/plain": [
       "'ingfaaa@gmail.com'"
      ]
     },
     "execution_count": 98,
     "metadata": {},
     "output_type": "execute_result"
    }
   ],
   "source": [
    "# Se corrige a Fabio\n",
    "evento_2.iloc[4,2] = registro_datos[\"Correo institucional (@uptc.edu.co)\"][registro_datos[\"Nombre\"]==nombre_gmail[1]].values[0]\n",
    "evento_2.iloc[4,2]"
   ]
  },
  {
   "cell_type": "code",
   "execution_count": 99,
   "metadata": {},
   "outputs": [
    {
     "data": {
      "text/plain": [
       "'jefferfigueroacasas@gmail.com'"
      ]
     },
     "execution_count": 99,
     "metadata": {},
     "output_type": "execute_result"
    }
   ],
   "source": [
    "# Se corrige a Jeffer\n",
    "evento_2.iloc[40,2] = registro_datos[\"Correo institucional (@uptc.edu.co)\"][registro_datos[\"Nombre\"]==nombre_gmail[3]].values[0]\n",
    "evento_2.iloc[40,2]"
   ]
  },
  {
   "cell_type": "code",
   "execution_count": 100,
   "metadata": {},
   "outputs": [
    {
     "data": {
      "text/plain": [
       "'rojasnatha21@gmail.com'"
      ]
     },
     "execution_count": 100,
     "metadata": {},
     "output_type": "execute_result"
    }
   ],
   "source": [
    "# Se corrige a Natalia\n",
    "evento_2.iloc[86,2] = registro_datos[\"Correo institucional (@uptc.edu.co)\"][registro_datos[\"Nombre\"]==nombre_gmail[4]].values[0]\n",
    "evento_2.iloc[86,2]"
   ]
  },
  {
   "cell_type": "code",
   "execution_count": 101,
   "metadata": {},
   "outputs": [
    {
     "data": {
      "text/plain": [
       "'telematica@boyaca.gov.co'"
      ]
     },
     "execution_count": 101,
     "metadata": {},
     "output_type": "execute_result"
    }
   ],
   "source": [
    "evento_2.iloc[61,2] = registro_datos[\"Correo institucional (@uptc.edu.co)\"][registro_datos[\"Nombre\"]==nombre_gmail[-1]].values[0]\n",
    "evento_2.iloc[61,2]"
   ]
  },
  {
   "cell_type": "code",
   "execution_count": 102,
   "metadata": {},
   "outputs": [
    {
     "name": "stdout",
     "output_type": "stream",
     "text": [
      "Encontrado en 1 el nombre Andrés\n",
      "Encontrado en 96 el nombre Andrés\n",
      "Encontrado en 56 el nombre Murcia\n",
      "Encontrado en 3 el nombre Fabio\n",
      "Encontrado en 3 el nombre Alonso\n",
      "Encontrado en 56 el nombre Alonso\n",
      "Encontrado en 3 el nombre Arias\n",
      "Encontrado en 4 el nombre Arias\n",
      "Encontrado en 3 el nombre Adarme\n",
      "Encontrado en 33 el nombre Jeffer\n",
      "Encontrado en 73 el nombre Ivan\n",
      "Encontrado en 33 el nombre Figueroa\n",
      "Encontrado en 33 el nombre Casas\n",
      "Encontrado en 75 el nombre Natalia\n",
      "Encontrado en 72 el nombre Rojas\n",
      "Encontrado en 73 el nombre Rojas\n",
      "Encontrado en 74 el nombre Rojas\n",
      "Encontrado en 75 el nombre Rojas\n",
      "Encontrado en 100 el nombre Rojas\n",
      "Encontrado en 7 el nombre Jorge\n",
      "Encontrado en 52 el nombre Jorge\n",
      "Encontrado en 51 el nombre Mojica\n",
      "Encontrado en 52 el nombre Mojica\n"
     ]
    }
   ],
   "source": [
    "# Revisar si algun usuario asistió al evento el día 13\n",
    "encontrar_usuario(evento_3)"
   ]
  },
  {
   "cell_type": "code",
   "execution_count": 107,
   "metadata": {},
   "outputs": [
    {
     "name": "stdout",
     "output_type": "stream",
     "text": [
      "['Fredy Andrés Murcia Currea', 'Fabio Alonso Arias Adarme', 'Jaraquesoler', 'Jeffer Ivan Figueroa Casas', 'Natalia Rojas Sepulveda', 'Jorge Mojica']\n"
     ]
    },
    {
     "data": {
      "text/plain": [
       "Nombre                                     jorge\n",
       "Apellido                                  mojica\n",
       "Correo electrónico       jmoj***********@***.com\n",
       "Duración                              1 h 35 min\n",
       "Hora a la que se unió                      10:03\n",
       "Hora a la que salió                        11:38\n",
       "NombreCompleto                      Jorge Mojica\n",
       "Name: 52, dtype: object"
      ]
     },
     "execution_count": 107,
     "metadata": {},
     "output_type": "execute_result"
    }
   ],
   "source": [
    "print(nombre_gmail)\n",
    "evento_3.iloc[52]"
   ]
  },
  {
   "cell_type": "code",
   "execution_count": 110,
   "metadata": {},
   "outputs": [],
   "source": [
    "# Se corrigen los nombres\n",
    "evento_3.iloc[3,2] = registro_datos[\"Correo institucional (@uptc.edu.co)\"][registro_datos[\"Nombre\"]==nombre_gmail[1]].values[0]\n",
    "evento_3.iloc[33,2] = registro_datos[\"Correo institucional (@uptc.edu.co)\"][registro_datos[\"Nombre\"]==nombre_gmail[3]].values[0]\n",
    "evento_3.iloc[75,2] = registro_datos[\"Correo institucional (@uptc.edu.co)\"][registro_datos[\"Nombre\"]==nombre_gmail[4]].values[0]\n",
    "evento_3.iloc[52,2] = registro_datos[\"Correo institucional (@uptc.edu.co)\"][registro_datos[\"Nombre\"]==nombre_gmail[-1]].values[0]"
   ]
  },
  {
   "cell_type": "code",
   "execution_count": 109,
   "metadata": {},
   "outputs": [
    {
     "name": "stdout",
     "output_type": "stream",
     "text": [
      "Encontrado en 3 el nombre Fabio\n",
      "Encontrado en 0 el nombre Alonso\n",
      "Encontrado en 3 el nombre Alonso\n",
      "Encontrado en 3 el nombre Arias\n",
      "Encontrado en 4 el nombre Arias\n",
      "Encontrado en 3 el nombre Adarme\n",
      "Encontrado en 62 el nombre Natalia\n",
      "Encontrado en 60 el nombre Rojas\n",
      "Encontrado en 61 el nombre Rojas\n",
      "Encontrado en 62 el nombre Rojas\n",
      "Encontrado en 84 el nombre Rojas\n"
     ]
    }
   ],
   "source": [
    "# Revisar si algun usuario asistió al evento el día 15\n",
    "encontrar_usuario(evento_4)"
   ]
  },
  {
   "cell_type": "code",
   "execution_count": 113,
   "metadata": {},
   "outputs": [
    {
     "name": "stdout",
     "output_type": "stream",
     "text": [
      "['Fredy Andrés Murcia Currea', 'Fabio Alonso Arias Adarme', 'Jaraquesoler', 'Jeffer Ivan Figueroa Casas', 'Natalia Rojas Sepulveda', 'Jorge Mojica']\n"
     ]
    },
    {
     "data": {
      "text/plain": [
       "Nombre                                   Natalia\n",
       "Apellido                         Rojas Sepúlveda\n",
       "Correo electrónico          roja********@***.com\n",
       "Duración                                  33 min\n",
       "Hora a la que se unió                      10:14\n",
       "Hora a la que salió                        10:47\n",
       "NombreCompleto           Natalia Rojas Sepúlveda\n",
       "Name: 62, dtype: object"
      ]
     },
     "execution_count": 113,
     "metadata": {},
     "output_type": "execute_result"
    }
   ],
   "source": [
    "print(nombre_gmail)\n",
    "evento_4.iloc[62]"
   ]
  },
  {
   "cell_type": "code",
   "execution_count": 114,
   "metadata": {},
   "outputs": [
    {
     "data": {
      "text/plain": [
       "'ingfaaa@gmail.com'"
      ]
     },
     "execution_count": 114,
     "metadata": {},
     "output_type": "execute_result"
    }
   ],
   "source": [
    "# Se corrige a Fabio\n",
    "evento_4.iloc[3,2] = registro_datos[\"Correo institucional (@uptc.edu.co)\"][registro_datos[\"Nombre\"]==nombre_gmail[1]].values[0]\n",
    "evento_4.iloc[62,2] = registro_datos[\"Correo institucional (@uptc.edu.co)\"][registro_datos[\"Nombre\"]==nombre_gmail[4]].values[0]\n",
    "evento_4.iloc[3,2]"
   ]
  },
  {
   "cell_type": "code",
   "execution_count": 118,
   "metadata": {},
   "outputs": [
    {
     "name": "stdout",
     "output_type": "stream",
     "text": [
      "Encontrado en 2 el nombre Andrés\n",
      "Encontrado en 4 el nombre Fabio\n",
      "Encontrado en 0 el nombre Alonso\n",
      "Encontrado en 4 el nombre Alonso\n",
      "Encontrado en 4 el nombre Arias\n",
      "Encontrado en 5 el nombre Arias\n",
      "Encontrado en 4 el nombre Adarme\n",
      "Encontrado en 29 el nombre Jeffer\n",
      "Encontrado en 29 el nombre Figueroa\n",
      "Encontrado en 29 el nombre Casas\n",
      "Encontrado en 59 el nombre Natalia\n",
      "Encontrado en 58 el nombre Rojas\n",
      "Encontrado en 59 el nombre Rojas\n",
      "Encontrado en 81 el nombre Rojas\n"
     ]
    }
   ],
   "source": [
    "# Revisar si algun usuario asistió al evento el día 20\n",
    "encontrar_usuario(evento_5)"
   ]
  },
  {
   "cell_type": "code",
   "execution_count": 121,
   "metadata": {},
   "outputs": [
    {
     "name": "stdout",
     "output_type": "stream",
     "text": [
      "['Fredy Andrés Murcia Currea', 'Fabio Alonso Arias Adarme', 'Jaraquesoler', 'Jeffer Ivan Figueroa Casas', 'Natalia Rojas Sepulveda', 'Jorge Mojica']\n"
     ]
    },
    {
     "data": {
      "text/plain": [
       "Nombre                                   Natalia\n",
       "Apellido                         Rojas Sepúlveda\n",
       "Correo electrónico          roja********@***.com\n",
       "Duración                               1 h 6 min\n",
       "Hora a la que se unió                       9:55\n",
       "Hora a la que salió                        11:02\n",
       "NombreCompleto           Natalia Rojas Sepúlveda\n",
       "Name: 59, dtype: object"
      ]
     },
     "execution_count": 121,
     "metadata": {},
     "output_type": "execute_result"
    }
   ],
   "source": [
    "print(nombre_gmail)\n",
    "evento_5.iloc[59]"
   ]
  },
  {
   "cell_type": "code",
   "execution_count": 122,
   "metadata": {},
   "outputs": [],
   "source": [
    "# Se corrigen los nombres\n",
    "evento_4.iloc[4,2] = registro_datos[\"Correo institucional (@uptc.edu.co)\"][registro_datos[\"Nombre\"]==nombre_gmail[1]].values[0]\n",
    "evento_4.iloc[29,2] = registro_datos[\"Correo institucional (@uptc.edu.co)\"][registro_datos[\"Nombre\"]==nombre_gmail[3]].values[0]\n",
    "evento_4.iloc[59,2] = registro_datos[\"Correo institucional (@uptc.edu.co)\"][registro_datos[\"Nombre\"]==nombre_gmail[4]].values[0]"
   ]
  },
  {
   "cell_type": "code",
   "execution_count": 123,
   "metadata": {},
   "outputs": [
    {
     "name": "stdout",
     "output_type": "stream",
     "text": [
      "Encontrado en 1 el nombre Andrés\n",
      "Encontrado en 78 el nombre Andrés\n",
      "Encontrado en 0 el nombre Alonso\n",
      "Encontrado en 3 el nombre Arias\n",
      "Encontrado en 59 el nombre Rojas\n",
      "Encontrado en 60 el nombre Rojas\n",
      "Encontrado en 81 el nombre Rojas\n"
     ]
    }
   ],
   "source": [
    "# Revisar si algun usuario asistió al evento el día 22\n",
    "encontrar_usuario(evento_6)"
   ]
  },
  {
   "cell_type": "code",
   "execution_count": 132,
   "metadata": {},
   "outputs": [
    {
     "name": "stdout",
     "output_type": "stream",
     "text": [
      "['Fredy Andrés Murcia Currea', 'Fabio Alonso Arias Adarme', 'Jaraquesoler', 'Jeffer Ivan Figueroa Casas', 'Natalia Rojas Sepulveda', 'Jorge Mojica']\n"
     ]
    },
    {
     "data": {
      "text/plain": [
       "Nombre                                SANTIAGO ANDRES\n",
       "Apellido                                  ARIAS REYES\n",
       "Correo electrónico       santiago.arias01@uptc.edu.co\n",
       "Duración                                          2 h\n",
       "Hora a la que se unió                            9:56\n",
       "Hora a la que salió                             11:55\n",
       "NombreCompleto            Santiago Andres Arias Reyes\n",
       "Name: 3, dtype: object"
      ]
     },
     "execution_count": 132,
     "metadata": {},
     "output_type": "execute_result"
    }
   ],
   "source": [
    "print(nombre_gmail)\n",
    "evento_6.iloc[3]"
   ]
  },
  {
   "cell_type": "code",
   "execution_count": 133,
   "metadata": {},
   "outputs": [
    {
     "name": "stdout",
     "output_type": "stream",
     "text": [
      "Encontrado en 2 el nombre Andrés\n",
      "Encontrado en 0 el nombre Alonso\n",
      "Encontrado en 5 el nombre Arias\n",
      "Encontrado en 51 el nombre Rojas\n"
     ]
    }
   ],
   "source": [
    "# Revisar si algun usuario asistió al evento el día 29\n",
    "encontrar_usuario(evento_7)"
   ]
  },
  {
   "cell_type": "code",
   "execution_count": 136,
   "metadata": {},
   "outputs": [
    {
     "name": "stdout",
     "output_type": "stream",
     "text": [
      "['Fredy Andrés Murcia Currea', 'Fabio Alonso Arias Adarme', 'Jaraquesoler', 'Jeffer Ivan Figueroa Casas', 'Natalia Rojas Sepulveda', 'Jorge Mojica']\n"
     ]
    },
    {
     "data": {
      "text/plain": [
       "Nombre                              DAVID LEONARDO\n",
       "Apellido                                ROJAS LEÓN\n",
       "Correo electrónico         david.rojas@uptc.edu.co\n",
       "Duración                                1 h 28 min\n",
       "Hora a la que se unió                        10:19\n",
       "Hora a la que salió                          11:48\n",
       "NombreCompleto           David Leonardo Rojas León\n",
       "Name: 51, dtype: object"
      ]
     },
     "execution_count": 136,
     "metadata": {},
     "output_type": "execute_result"
    }
   ],
   "source": [
    "print(nombre_gmail)\n",
    "evento_7.iloc[51]"
   ]
  },
  {
   "cell_type": "code",
   "execution_count": 137,
   "metadata": {},
   "outputs": [
    {
     "name": "stdout",
     "output_type": "stream",
     "text": [
      "Encontrado en 55 el nombre Andrés\n",
      "Encontrado en 0 el nombre Alonso\n",
      "Encontrado en 43 el nombre Natalia\n",
      "Encontrado en 43 el nombre Rojas\n",
      "Encontrado en 57 el nombre Rojas\n"
     ]
    }
   ],
   "source": [
    "# Revisar si algun usuario asistió al evento el día 4 de octubre\n",
    "encontrar_usuario(evento_8)"
   ]
  },
  {
   "cell_type": "code",
   "execution_count": 138,
   "metadata": {},
   "outputs": [
    {
     "name": "stdout",
     "output_type": "stream",
     "text": [
      "['Fredy Andrés Murcia Currea', 'Fabio Alonso Arias Adarme', 'Jaraquesoler', 'Jeffer Ivan Figueroa Casas', 'Natalia Rojas Sepulveda', 'Jorge Mojica']\n"
     ]
    },
    {
     "data": {
      "text/plain": [
       "Nombre                                   Natalia\n",
       "Apellido                         Rojas Sepúlveda\n",
       "Correo electrónico          roja********@***.com\n",
       "Duración                                  26 min\n",
       "Hora a la que se unió                      10:01\n",
       "Hora a la que salió                        10:50\n",
       "NombreCompleto           Natalia Rojas Sepúlveda\n",
       "Name: 43, dtype: object"
      ]
     },
     "execution_count": 138,
     "metadata": {},
     "output_type": "execute_result"
    }
   ],
   "source": [
    "print(nombre_gmail)\n",
    "evento_8.iloc[43]"
   ]
  },
  {
   "cell_type": "code",
   "execution_count": 139,
   "metadata": {},
   "outputs": [],
   "source": [
    "evento_8.iloc[43,2] = registro_datos[\"Correo institucional (@uptc.edu.co)\"][registro_datos[\"Nombre\"]==nombre_gmail[4]].values[0]"
   ]
  },
  {
   "cell_type": "code",
   "execution_count": 141,
   "metadata": {},
   "outputs": [],
   "source": [
    "# Revisar si algun usuario asistió al evento el día 5 de octubre\n",
    "encontrar_usuario(evento_9)"
   ]
  },
  {
   "cell_type": "code",
   "execution_count": 142,
   "metadata": {},
   "outputs": [],
   "source": [
    "def ajustar_correos(dataframe):\n",
    "    mal_correo = re.compile('.*\\*+@\\*+.*')\n",
    "    data = np.where(dataframe[\"Correo electrónico\"].apply(lambda x: mal_correo.search(str(x))),dataframe[\"Correo electrónico\"].index,\"No\")\n",
    "    print(data)\n",
    "    malos_correos = np.array([])\n",
    "    for n in data:\n",
    "        if n!=\"No\":\n",
    "            malos_correos = np.append(malos_correos,n)\n",
    "    for idx in malos_correos:\n",
    "        name = dataframe.iloc[int(idx), 0].split()[0]\n",
    "        # Comprobar si \"name\" está en \"registro_datos\" antes de acceder a él\n",
    "        if name in registro_datos[\"Primer Nombre\"].values:\n",
    "            correo = registro_datos.loc[registro_datos[\"Primer Nombre\"] == name][\"Correo institucional (@uptc.edu.co)\"].values[0]\n",
    "            dataframe.iloc[int(idx), 2] = correo\n",
    "        else:\n",
    "            print(f\"No se encontró el nombre {name} en registro_datos\")"
   ]
  },
  {
   "cell_type": "code",
   "execution_count": 143,
   "metadata": {},
   "outputs": [],
   "source": [
    "evento_1[\"Nombre\"] = evento_1[\"Nombre\"].str.title()\n",
    "evento_2[\"Nombre\"] = evento_2[\"Nombre\"].str.title()\n",
    "evento_3[\"Nombre\"] = evento_3[\"Nombre\"].str.title()\n",
    "evento_4[\"Nombre\"] = evento_4[\"Nombre\"].str.title()\n",
    "evento_5[\"Nombre\"] = evento_5[\"Nombre\"].str.title()\n",
    "evento_6[\"Nombre\"] = evento_6[\"Nombre\"].str.title()\n",
    "evento_7[\"Nombre\"] = evento_7[\"Nombre\"].str.title()\n",
    "evento_8[\"Nombre\"] = evento_8[\"Nombre\"].str.title()\n",
    "evento_9[\"Nombre\"] = evento_9[\"Nombre\"].str.title()\n"
   ]
  },
  {
   "cell_type": "code",
   "execution_count": 144,
   "metadata": {},
   "outputs": [],
   "source": [
    "solo_letras = re.compile('[a-zA-ZáéíóúÁÉÍÓÚñÑ]+')\n",
    "datos = registro_datos[\"Nombre\"].str.split()\n",
    "registro_datos[\"Primer Nombre\"] = None\n",
    "registro_datos[\"Primer Apellido\"] = None\n",
    "for i,nombre in enumerate(datos):\n",
    "    if len(nombre)==4:\n",
    "        nom1 = solo_letras.search(nombre[0])\n",
    "        registro_datos[\"Primer Nombre\"][i]=nom1.group()\n",
    "        ap1 = solo_letras.search(nombre[2])\n",
    "        registro_datos[\"Primer Apellido\"][i]=ap1.group()\n",
    "    elif len(nombre)==3 or len(nombre)==2:\n",
    "        nom1 = solo_letras.search(nombre[0])\n",
    "        registro_datos[\"Primer Nombre\"][i]=nom1.group()\n",
    "        ap1 = solo_letras.search(nombre[1])\n",
    "        registro_datos[\"Primer Apellido\"][i]=ap1.group()"
   ]
  },
  {
   "cell_type": "code",
   "execution_count": 145,
   "metadata": {},
   "outputs": [
    {
     "name": "stdout",
     "output_type": "stream",
     "text": [
      "['No' 'No' '2' 'No' 'No' 'No' 'No' 'No' 'No' 'No' 'No' 'No' 'No' 'No' 'No'\n",
      " 'No' 'No' 'No' 'No' 'No' 'No' '21' 'No' 'No' 'No' 'No' 'No' 'No' '28'\n",
      " 'No' 'No' '31' 'No' 'No' 'No' 'No' 'No' 'No' 'No' 'No' 'No' 'No' '42'\n",
      " 'No' 'No' 'No' 'No' 'No' '48' 'No' 'No' 'No' 'No' 'No' 'No' 'No' 'No'\n",
      " 'No' 'No' 'No' 'No' 'No' 'No' 'No' 'No' 'No' 'No' 'No' '68' 'No' 'No'\n",
      " 'No' 'No' '73' 'No' 'No' 'No' 'No' 'No' 'No' 'No' 'No' 'No' '83' 'No'\n",
      " 'No' 'No' 'No' 'No' 'No' 'No' 'No' 'No' 'No' 'No' 'No' 'No' 'No' 'No'\n",
      " 'No' 'No' 'No' 'No' 'No' 'No' 'No' 'No' 'No' 'No' 'No' 'No' '111' 'No'\n",
      " 'No' '114' 'No' 'No' 'No' 'No' 'No' 'No' 'No' 'No' 'No' 'No' 'No']\n",
      "No se encontró el nombre Felipe en registro_datos\n",
      "No se encontró el nombre Mónica en registro_datos\n"
     ]
    }
   ],
   "source": [
    "ajustar_correos(evento_1)"
   ]
  },
  {
   "cell_type": "code",
   "execution_count": 62,
   "metadata": {},
   "outputs": [],
   "source": [
    "pd.reset_option('display.max_rows')"
   ]
  },
  {
   "cell_type": "code",
   "execution_count": 146,
   "metadata": {},
   "outputs": [
    {
     "data": {
      "text/plain": [
       "Nombre                                Felipe\n",
       "Apellido                             Escobar\n",
       "Correo electrónico       pipe*******@***.com\n",
       "Duración                          1 h 40 min\n",
       "Hora a la que se unió                  10:03\n",
       "Hora a la que salió                    12:06\n",
       "NombreCompleto                Felipe Escobar\n",
       "Name: 42, dtype: object"
      ]
     },
     "execution_count": 146,
     "metadata": {},
     "output_type": "execute_result"
    }
   ],
   "source": [
    "evento_1.iloc[42]"
   ]
  },
  {
   "cell_type": "code",
   "execution_count": 147,
   "metadata": {},
   "outputs": [],
   "source": [
    "evento_1.iloc[42,2]=\"andres.escobar01@uptc.edu.co\""
   ]
  },
  {
   "cell_type": "code",
   "execution_count": 64,
   "metadata": {},
   "outputs": [
    {
     "name": "stdout",
     "output_type": "stream",
     "text": [
      "['No' 'No' 'No' 'No' 'No' 'No' 'No' 'No' 'No' 'No' 'No' 'No' 'No' 'No'\n",
      " 'No' 'No' 'No' 'No' 'No' 'No' 'No' 'No' 'No' 'No' 'No' 'No' 'No' 'No'\n",
      " 'No' 'No' 'No' 'No' 'No' 'No' 'No' 'No' 'No' 'No' 'No' 'No' 'No' 'No'\n",
      " 'No' 'No' 'No' 'No' 'No' 'No' 'No' 'No' 'No' '51' 'No' 'No' 'No' 'No'\n",
      " 'No' 'No' 'No' 'No' 'No' 'No' 'No' 'No' 'No' 'No' 'No' 'No' 'No' 'No'\n",
      " 'No' 'No' 'No' 'No' 'No' 'No' 'No' 'No' 'No' 'No' 'No' 'No' '82' 'No'\n",
      " 'No' 'No' 'No' 'No' 'No' 'No' 'No' 'No' 'No' 'No' 'No' 'No' 'No' 'No'\n",
      " 'No' 'No' 'No' 'No' 'No' 'No' 'No' 'No' 'No' 'No' '108' 'No' 'No' 'No'\n",
      " 'No' 'No' 'No' 'No' 'No' 'No' 'No' 'No']\n",
      "No se encontró el nombre Lorena en registro_datos\n",
      "No se encontró el nombre Santigo en registro_datos\n"
     ]
    }
   ],
   "source": [
    "ajustar_correos(evento_2)"
   ]
  },
  {
   "cell_type": "code",
   "execution_count": 148,
   "metadata": {},
   "outputs": [
    {
     "name": "stdout",
     "output_type": "stream",
     "text": [
      "['No' 'No' 'No' 'No' 'No' 'No' 'No' 'No' 'No' 'No' 'No' 'No' 'No' 'No'\n",
      " 'No' 'No' '16' 'No' 'No' 'No' 'No' 'No' 'No' 'No' 'No' 'No' 'No' 'No'\n",
      " 'No' 'No' 'No' 'No' 'No' 'No' 'No' '35' 'No' 'No' 'No' 'No' 'No' 'No'\n",
      " 'No' 'No' 'No' 'No' 'No' 'No' 'No' 'No' 'No' 'No' 'No' 'No' 'No' 'No'\n",
      " 'No' 'No' 'No' 'No' 'No' 'No' 'No' 'No' 'No' 'No' '66' 'No' 'No' 'No'\n",
      " 'No' 'No' 'No' 'No' 'No' 'No' 'No' 'No' 'No' 'No' 'No' 'No' 'No' 'No'\n",
      " 'No' 'No' 'No' 'No' 'No' 'No' 'No' 'No' 'No' '93' 'No' 'No' 'No' 'No'\n",
      " 'No' 'No' 'No' 'No']\n",
      "No se encontró el nombre Filyp en registro_datos\n",
      "No se encontró el nombre Mónica en registro_datos\n"
     ]
    }
   ],
   "source": [
    "ajustar_correos(evento_3)"
   ]
  },
  {
   "cell_type": "code",
   "execution_count": 149,
   "metadata": {},
   "outputs": [
    {
     "name": "stdout",
     "output_type": "stream",
     "text": [
      "['No' 'No' 'No' 'No' 'No' 'No' 'No' 'No' 'No' 'No' 'No' 'No' 'No' 'No'\n",
      " 'No' '15' 'No' 'No' 'No' 'No' 'No' 'No' 'No' 'No' 'No' 'No' 'No' 'No'\n",
      " 'No' 'No' 'No' '31' 'No' 'No' 'No' 'No' 'No' 'No' 'No' 'No' 'No' 'No'\n",
      " 'No' '43' 'No' 'No' 'No' 'No' 'No' 'No' 'No' 'No' 'No' 'No' 'No' '55'\n",
      " 'No' 'No' 'No' 'No' 'No' 'No' 'No' 'No' 'No' 'No' 'No' 'No' 'No' 'No'\n",
      " 'No' 'No' 'No' 'No' 'No' 'No' 'No' 'No' 'No' 'No' 'No' 'No' 'No' 'No'\n",
      " 'No' 'No']\n",
      "No se encontró el nombre Filyp en registro_datos\n",
      "No se encontró el nombre Mónica en registro_datos\n"
     ]
    }
   ],
   "source": [
    "ajustar_correos(evento_4)"
   ]
  },
  {
   "cell_type": "code",
   "execution_count": 150,
   "metadata": {},
   "outputs": [
    {
     "name": "stdout",
     "output_type": "stream",
     "text": [
      "['No' 'No' 'No' 'No' '4' 'No' 'No' 'No' 'No' 'No' 'No' 'No' 'No' 'No' 'No'\n",
      " 'No' 'No' 'No' 'No' 'No' 'No' 'No' 'No' 'No' 'No' 'No' 'No' 'No' 'No'\n",
      " '29' '30' 'No' 'No' 'No' 'No' 'No' 'No' 'No' 'No' 'No' 'No' 'No' 'No'\n",
      " 'No' 'No' 'No' 'No' 'No' 'No' 'No' 'No' 'No' 'No' 'No' 'No' 'No' 'No'\n",
      " 'No' 'No' '59' 'No' 'No' 'No' 'No' 'No' 'No' 'No' 'No' '68' 'No' 'No'\n",
      " 'No' 'No' 'No' 'No' 'No' '76' 'No' 'No' 'No' 'No' 'No' 'No']\n",
      "No se encontró el nombre Sandra en registro_datos\n"
     ]
    }
   ],
   "source": [
    "ajustar_correos(evento_5)"
   ]
  },
  {
   "cell_type": "code",
   "execution_count": 151,
   "metadata": {},
   "outputs": [
    {
     "name": "stdout",
     "output_type": "stream",
     "text": [
      "['No' 'No' 'No' 'No' 'No' 'No' 'No' 'No' 'No' 'No' 'No' 'No' '12' 'No'\n",
      " 'No' 'No' 'No' 'No' 'No' 'No' 'No' 'No' 'No' 'No' '24' 'No' 'No' 'No'\n",
      " 'No' 'No' 'No' 'No' 'No' 'No' 'No' 'No' 'No' 'No' 'No' 'No' '40' 'No'\n",
      " 'No' 'No' 'No' 'No' 'No' 'No' 'No' 'No' 'No' 'No' 'No' 'No' 'No' 'No'\n",
      " 'No' 'No' 'No' 'No' 'No' 'No' 'No' 'No' 'No' 'No' 'No' 'No' 'No' 'No'\n",
      " 'No' 'No' 'No' 'No' 'No' 'No' 'No' 'No' 'No' 'No' 'No' 'No' 'No' 'No'\n",
      " 'No']\n",
      "No se encontró el nombre Alejandro en registro_datos\n"
     ]
    }
   ],
   "source": [
    "ajustar_correos(evento_6)"
   ]
  },
  {
   "cell_type": "code",
   "execution_count": 152,
   "metadata": {},
   "outputs": [
    {
     "name": "stdout",
     "output_type": "stream",
     "text": [
      "['No' 'No' 'No' 'No' 'No' 'No' '6' 'No' 'No' 'No' 'No' 'No' 'No' 'No' 'No'\n",
      " 'No' 'No' 'No' 'No' 'No' 'No' 'No' 'No' 'No' 'No' 'No' 'No' 'No' 'No'\n",
      " 'No' 'No' 'No' 'No' 'No' 'No' '35' 'No' 'No' 'No' 'No' 'No' 'No' 'No'\n",
      " 'No' 'No' 'No' 'No' 'No' '48' '49' 'No' 'No' 'No' 'No' 'No' 'No' 'No'\n",
      " 'No' 'No' 'No' 'No' 'No' 'No' 'No' 'No' 'No' 'No' 'No' 'No']\n",
      "No se encontró el nombre Mónica en registro_datos\n",
      "No se encontró el nombre Monica en registro_datos\n"
     ]
    }
   ],
   "source": [
    "ajustar_correos(evento_7)"
   ]
  },
  {
   "cell_type": "code",
   "execution_count": 153,
   "metadata": {},
   "outputs": [
    {
     "name": "stdout",
     "output_type": "stream",
     "text": [
      "['No' 'No' 'No' 'No' 'No' 'No' 'No' 'No' 'No' 'No' 'No' 'No' 'No' 'No'\n",
      " 'No' 'No' 'No' 'No' 'No' '19' 'No' 'No' '22' 'No' 'No' 'No' 'No' 'No'\n",
      " 'No' 'No' 'No' 'No' 'No' '33' 'No' 'No' 'No' 'No' 'No' 'No' 'No' 'No'\n",
      " '42' 'No' 'No' 'No' 'No' 'No' 'No' 'No' 'No' 'No' 'No' '53' 'No' 'No'\n",
      " 'No' 'No']\n",
      "No se encontró el nombre Sandra en registro_datos\n",
      "No se encontró el nombre Mónica en registro_datos\n"
     ]
    }
   ],
   "source": [
    "ajustar_correos(evento_8)"
   ]
  },
  {
   "cell_type": "code",
   "execution_count": 154,
   "metadata": {},
   "outputs": [
    {
     "name": "stdout",
     "output_type": "stream",
     "text": [
      "['No' 'No' 'No' 'No' 'No' 'No' 'No' 'No' '8' 'No' 'No' 'No' 'No' 'No' 'No'\n",
      " '15' 'No' 'No' 'No' 'No' 'No' 'No' 'No' 'No' 'No' 'No']\n",
      "No se encontró el nombre Edgar en registro_datos\n"
     ]
    }
   ],
   "source": [
    "ajustar_correos(evento_9)"
   ]
  },
  {
   "cell_type": "code",
   "execution_count": 155,
   "metadata": {},
   "outputs": [
    {
     "data": {
      "text/plain": [
       "(Nombre                   object\n",
       " Apellido                 object\n",
       " Correo electrónico       object\n",
       " Duración                 object\n",
       " Hora a la que se unió    object\n",
       " Hora a la que salió      object\n",
       " NombreCompleto           object\n",
       " dtype: object,\n",
       " Nombre                   object\n",
       " Apellido                 object\n",
       " Correo electrónico       object\n",
       " Duración                 object\n",
       " Hora a la que se unió    object\n",
       " Hora a la que salió      object\n",
       " NombreCompleto           object\n",
       " dtype: object,\n",
       " Nombre                   object\n",
       " Apellido                 object\n",
       " Correo electrónico       object\n",
       " Duración                 object\n",
       " Hora a la que se unió    object\n",
       " Hora a la que salió      object\n",
       " NombreCompleto           object\n",
       " dtype: object,\n",
       " Nombre                   object\n",
       " Apellido                 object\n",
       " Correo electrónico       object\n",
       " Duración                 object\n",
       " Hora a la que se unió    object\n",
       " Hora a la que salió      object\n",
       " NombreCompleto           object\n",
       " dtype: object,\n",
       " Nombre                   object\n",
       " Apellido                 object\n",
       " Correo electrónico       object\n",
       " Duración                 object\n",
       " Hora a la que se unió    object\n",
       " Hora a la que salió      object\n",
       " NombreCompleto           object\n",
       " dtype: object,\n",
       " Nombre                   object\n",
       " Apellido                 object\n",
       " Correo electrónico       object\n",
       " Duración                 object\n",
       " Hora a la que se unió    object\n",
       " Hora a la que salió      object\n",
       " NombreCompleto           object\n",
       " dtype: object,\n",
       " Nombre                   object\n",
       " Apellido                 object\n",
       " Correo electrónico       object\n",
       " Duración                 object\n",
       " Hora a la que se unió    object\n",
       " Hora a la que salió      object\n",
       " NombreCompleto           object\n",
       " dtype: object,\n",
       " Nombre                   object\n",
       " Apellido                 object\n",
       " Correo electrónico       object\n",
       " Duración                 object\n",
       " Hora a la que se unió    object\n",
       " Hora a la que salió      object\n",
       " NombreCompleto           object\n",
       " dtype: object,\n",
       " Nombre                   object\n",
       " Apellido                 object\n",
       " Correo electrónico       object\n",
       " Duración                 object\n",
       " Hora a la que se unió    object\n",
       " Hora a la que salió      object\n",
       " NombreCompleto           object\n",
       " dtype: object)"
      ]
     },
     "execution_count": 155,
     "metadata": {},
     "output_type": "execute_result"
    }
   ],
   "source": [
    "# Identifico tipos de los datos\n",
    "evento_1.dtypes, evento_2.dtypes, evento_3.dtypes, evento_4.dtypes, evento_5.dtypes, evento_6.dtypes, evento_7.dtypes, evento_8.dtypes, evento_9.dtypes"
   ]
  },
  {
   "cell_type": "code",
   "execution_count": 156,
   "metadata": {},
   "outputs": [],
   "source": [
    "def procesamiento(dataframe):\n",
    "    # Se procesa duración a minutos (Se maneja tiempo entero), hora a la que se unió y hora a la que salió a tiempo\n",
    "    dataframe[\"Hora a la que se unió\"] = pd.to_datetime(\"2023-09-06 \"+dataframe[\"Hora a la que se unió\"],format='%Y-%m-%d %H:%M')\n",
    "    dataframe[\"Hora a la que salió\"] = pd.to_datetime(\"2023-09-06 \"+dataframe[\"Hora a la que salió\"],format='%Y-%m-%d %H:%M')\n",
    "\n",
    "    dataframe[\"duración\"] = (dataframe[\"Hora a la que salió\"]-dataframe[\"Hora a la que se unió\"]).dt.total_seconds()/60\n",
    "    dataframe[\"duración\"] = dataframe[\"duración\"].astype(int)\n",
    "\n",
    "    return dataframe"
   ]
  },
  {
   "cell_type": "code",
   "execution_count": 157,
   "metadata": {},
   "outputs": [],
   "source": [
    "# Se procesa duración a minutos (Se maneja tiempo entero), hora a la que se unió y hora a la que salió a tiempo\n",
    "evento_1 = procesamiento(evento_1)\n",
    "evento_2 = procesamiento(evento_2)\n",
    "evento_3 = procesamiento(evento_3)\n",
    "evento_4 = procesamiento(evento_4)\n",
    "evento_5 = procesamiento(evento_5)\n",
    "evento_6 = procesamiento(evento_6)\n",
    "evento_7 = procesamiento(evento_7)\n",
    "evento_8 = procesamiento(evento_8)\n",
    "evento_9 = procesamiento(evento_9)\n"
   ]
  },
  {
   "cell_type": "code",
   "execution_count": 158,
   "metadata": {},
   "outputs": [
    {
     "data": {
      "text/plain": [
       "(Nombre                           object\n",
       " Apellido                         object\n",
       " Correo electrónico               object\n",
       " Duración                         object\n",
       " Hora a la que se unió    datetime64[ns]\n",
       " Hora a la que salió      datetime64[ns]\n",
       " NombreCompleto                   object\n",
       " duración                          int32\n",
       " dtype: object,\n",
       " Nombre                           object\n",
       " Apellido                         object\n",
       " Correo electrónico               object\n",
       " Duración                         object\n",
       " Hora a la que se unió    datetime64[ns]\n",
       " Hora a la que salió      datetime64[ns]\n",
       " NombreCompleto                   object\n",
       " duración                          int32\n",
       " dtype: object,\n",
       " Nombre                           object\n",
       " Apellido                         object\n",
       " Correo electrónico               object\n",
       " Duración                         object\n",
       " Hora a la que se unió    datetime64[ns]\n",
       " Hora a la que salió      datetime64[ns]\n",
       " NombreCompleto                   object\n",
       " duración                          int32\n",
       " dtype: object,\n",
       " Nombre                           object\n",
       " Apellido                         object\n",
       " Correo electrónico               object\n",
       " Duración                         object\n",
       " Hora a la que se unió    datetime64[ns]\n",
       " Hora a la que salió      datetime64[ns]\n",
       " NombreCompleto                   object\n",
       " duración                          int32\n",
       " dtype: object,\n",
       " Nombre                           object\n",
       " Apellido                         object\n",
       " Correo electrónico               object\n",
       " Duración                         object\n",
       " Hora a la que se unió    datetime64[ns]\n",
       " Hora a la que salió      datetime64[ns]\n",
       " NombreCompleto                   object\n",
       " duración                          int32\n",
       " dtype: object,\n",
       " Nombre                           object\n",
       " Apellido                         object\n",
       " Correo electrónico               object\n",
       " Duración                         object\n",
       " Hora a la que se unió    datetime64[ns]\n",
       " Hora a la que salió      datetime64[ns]\n",
       " NombreCompleto                   object\n",
       " duración                          int32\n",
       " dtype: object,\n",
       " Nombre                           object\n",
       " Apellido                         object\n",
       " Correo electrónico               object\n",
       " Duración                         object\n",
       " Hora a la que se unió    datetime64[ns]\n",
       " Hora a la que salió      datetime64[ns]\n",
       " NombreCompleto                   object\n",
       " duración                          int32\n",
       " dtype: object,\n",
       " Nombre                           object\n",
       " Apellido                         object\n",
       " Correo electrónico               object\n",
       " Duración                         object\n",
       " Hora a la que se unió    datetime64[ns]\n",
       " Hora a la que salió      datetime64[ns]\n",
       " NombreCompleto                   object\n",
       " duración                          int32\n",
       " dtype: object,\n",
       " Nombre                           object\n",
       " Apellido                         object\n",
       " Correo electrónico               object\n",
       " Duración                         object\n",
       " Hora a la que se unió    datetime64[ns]\n",
       " Hora a la que salió      datetime64[ns]\n",
       " NombreCompleto                   object\n",
       " duración                          int32\n",
       " dtype: object)"
      ]
     },
     "execution_count": 158,
     "metadata": {},
     "output_type": "execute_result"
    }
   ],
   "source": [
    "# Evaluo tipos de los datos\n",
    "evento_1.dtypes, evento_2.dtypes, evento_3.dtypes, evento_4.dtypes, evento_5.dtypes, evento_6.dtypes, evento_7.dtypes, evento_8.dtypes, evento_9.dtypes\n"
   ]
  },
  {
   "cell_type": "code",
   "execution_count": 159,
   "metadata": {},
   "outputs": [],
   "source": [
    "# elimino columna de \"Duración\" \n",
    "evento_1.drop(columns='Duración', inplace=True)\n",
    "evento_2.drop(columns='Duración', inplace=True)\n",
    "evento_3.drop(columns='Duración', inplace=True)\n",
    "evento_4.drop(columns='Duración', inplace=True)\n",
    "evento_5.drop(columns='Duración', inplace=True)\n",
    "evento_6.drop(columns='Duración', inplace=True)\n",
    "evento_7.drop(columns='Duración', inplace=True)\n",
    "evento_8.drop(columns='Duración', inplace=True)\n",
    "evento_9.drop(columns='Duración', inplace=True)\n"
   ]
  },
  {
   "cell_type": "code",
   "execution_count": 160,
   "metadata": {},
   "outputs": [
    {
     "data": {
      "text/html": [
       "<div>\n",
       "<style scoped>\n",
       "    .dataframe tbody tr th:only-of-type {\n",
       "        vertical-align: middle;\n",
       "    }\n",
       "\n",
       "    .dataframe tbody tr th {\n",
       "        vertical-align: top;\n",
       "    }\n",
       "\n",
       "    .dataframe thead th {\n",
       "        text-align: right;\n",
       "    }\n",
       "</style>\n",
       "<table border=\"1\" class=\"dataframe\">\n",
       "  <thead>\n",
       "    <tr style=\"text-align: right;\">\n",
       "      <th></th>\n",
       "      <th>Nombre</th>\n",
       "      <th>Apellido</th>\n",
       "      <th>Correo electrónico</th>\n",
       "      <th>Hora a la que se unió</th>\n",
       "      <th>Hora a la que salió</th>\n",
       "      <th>NombreCompleto</th>\n",
       "      <th>duración</th>\n",
       "    </tr>\n",
       "  </thead>\n",
       "  <tbody>\n",
       "    <tr>\n",
       "      <th>0</th>\n",
       "      <td>Natalia Alejandra</td>\n",
       "      <td>Africano Fino</td>\n",
       "      <td>natalia.africano@uptc.edu.co</td>\n",
       "      <td>2023-09-06 09:59:00</td>\n",
       "      <td>2023-09-06 11:56:00</td>\n",
       "      <td>Natalia Alejandra Africano Fino</td>\n",
       "      <td>117</td>\n",
       "    </tr>\n",
       "    <tr>\n",
       "      <th>1</th>\n",
       "      <td>Jose Arquimedes</td>\n",
       "      <td>ALBA CUPA</td>\n",
       "      <td>jose.alba@uptc.edu.co</td>\n",
       "      <td>2023-09-06 10:01:00</td>\n",
       "      <td>2023-09-06 12:06:00</td>\n",
       "      <td>Jose Arquimedes Alba Cupa</td>\n",
       "      <td>125</td>\n",
       "    </tr>\n",
       "    <tr>\n",
       "      <th>2</th>\n",
       "      <td>Yamid</td>\n",
       "      <td>Alonso</td>\n",
       "      <td>yamid.nino02@uptc.edu.co</td>\n",
       "      <td>2023-09-06 10:00:00</td>\n",
       "      <td>2023-09-06 12:06:00</td>\n",
       "      <td>Yamid Alonso</td>\n",
       "      <td>126</td>\n",
       "    </tr>\n",
       "    <tr>\n",
       "      <th>3</th>\n",
       "      <td>Daniel Andrés</td>\n",
       "      <td>ÁLVAREZ DIAS</td>\n",
       "      <td>daniel.alvarez04@uptc.edu.co</td>\n",
       "      <td>2023-09-06 10:00:00</td>\n",
       "      <td>2023-09-06 11:50:00</td>\n",
       "      <td>Daniel Andrés Álvarez Dias</td>\n",
       "      <td>110</td>\n",
       "    </tr>\n",
       "    <tr>\n",
       "      <th>4</th>\n",
       "      <td>Gonzalez Molina</td>\n",
       "      <td>ANGEL ABDIAS</td>\n",
       "      <td>angel.gonzalez02@uptc.edu.co</td>\n",
       "      <td>2023-09-06 09:58:00</td>\n",
       "      <td>2023-09-06 12:08:00</td>\n",
       "      <td>Gonzalez Molina Angel Abdias</td>\n",
       "      <td>130</td>\n",
       "    </tr>\n",
       "  </tbody>\n",
       "</table>\n",
       "</div>"
      ],
      "text/plain": [
       "              Nombre       Apellido            Correo electrónico  \\\n",
       "0  Natalia Alejandra  Africano Fino  natalia.africano@uptc.edu.co   \n",
       "1    Jose Arquimedes      ALBA CUPA         jose.alba@uptc.edu.co   \n",
       "2              Yamid         Alonso      yamid.nino02@uptc.edu.co   \n",
       "3      Daniel Andrés   ÁLVAREZ DIAS  daniel.alvarez04@uptc.edu.co   \n",
       "4    Gonzalez Molina   ANGEL ABDIAS  angel.gonzalez02@uptc.edu.co   \n",
       "\n",
       "  Hora a la que se unió Hora a la que salió                   NombreCompleto  \\\n",
       "0   2023-09-06 09:59:00 2023-09-06 11:56:00  Natalia Alejandra Africano Fino   \n",
       "1   2023-09-06 10:01:00 2023-09-06 12:06:00        Jose Arquimedes Alba Cupa   \n",
       "2   2023-09-06 10:00:00 2023-09-06 12:06:00                     Yamid Alonso   \n",
       "3   2023-09-06 10:00:00 2023-09-06 11:50:00       Daniel Andrés Álvarez Dias   \n",
       "4   2023-09-06 09:58:00 2023-09-06 12:08:00     Gonzalez Molina Angel Abdias   \n",
       "\n",
       "   duración  \n",
       "0       117  \n",
       "1       125  \n",
       "2       126  \n",
       "3       110  \n",
       "4       130  "
      ]
     },
     "execution_count": 160,
     "metadata": {},
     "output_type": "execute_result"
    }
   ],
   "source": [
    "# Evalúo dataframes de asistencias\n",
    "evento_1.head()"
   ]
  },
  {
   "cell_type": "code",
   "execution_count": 161,
   "metadata": {},
   "outputs": [
    {
     "data": {
      "text/html": [
       "<div>\n",
       "<style scoped>\n",
       "    .dataframe tbody tr th:only-of-type {\n",
       "        vertical-align: middle;\n",
       "    }\n",
       "\n",
       "    .dataframe tbody tr th {\n",
       "        vertical-align: top;\n",
       "    }\n",
       "\n",
       "    .dataframe thead th {\n",
       "        text-align: right;\n",
       "    }\n",
       "</style>\n",
       "<table border=\"1\" class=\"dataframe\">\n",
       "  <thead>\n",
       "    <tr style=\"text-align: right;\">\n",
       "      <th></th>\n",
       "      <th>Nombre</th>\n",
       "      <th>Apellido</th>\n",
       "      <th>Correo electrónico</th>\n",
       "      <th>Hora a la que se unió</th>\n",
       "      <th>Hora a la que salió</th>\n",
       "      <th>NombreCompleto</th>\n",
       "      <th>duración</th>\n",
       "    </tr>\n",
       "  </thead>\n",
       "  <tbody>\n",
       "    <tr>\n",
       "      <th>0</th>\n",
       "      <td>Natalia Alejandra</td>\n",
       "      <td>Africano Fino</td>\n",
       "      <td>natalia.africano@uptc.edu.co</td>\n",
       "      <td>2023-09-06 09:56:00</td>\n",
       "      <td>2023-09-06 10:23:00</td>\n",
       "      <td>Natalia Alejandra Africano Fino</td>\n",
       "      <td>27</td>\n",
       "    </tr>\n",
       "    <tr>\n",
       "      <th>1</th>\n",
       "      <td>Daniel Andrés</td>\n",
       "      <td>ÁLVAREZ DIAS</td>\n",
       "      <td>daniel.alvarez04@uptc.edu.co</td>\n",
       "      <td>2023-09-06 10:01:00</td>\n",
       "      <td>2023-09-06 12:04:00</td>\n",
       "      <td>Daniel Andrés Álvarez Dias</td>\n",
       "      <td>123</td>\n",
       "    </tr>\n",
       "    <tr>\n",
       "      <th>2</th>\n",
       "      <td>Gonzalez Molina</td>\n",
       "      <td>ANGEL ABDIAS</td>\n",
       "      <td>angel.gonzalez02@uptc.edu.co</td>\n",
       "      <td>2023-09-06 10:07:00</td>\n",
       "      <td>2023-09-06 10:32:00</td>\n",
       "      <td>Gonzalez Molina Angel Abdias</td>\n",
       "      <td>25</td>\n",
       "    </tr>\n",
       "    <tr>\n",
       "      <th>3</th>\n",
       "      <td>Juan Pablo</td>\n",
       "      <td>ARCHILA AMAYA</td>\n",
       "      <td>juan.archila04@uptc.edu.co</td>\n",
       "      <td>2023-09-06 10:10:00</td>\n",
       "      <td>2023-09-06 12:04:00</td>\n",
       "      <td>Juan Pablo Archila Amaya</td>\n",
       "      <td>114</td>\n",
       "    </tr>\n",
       "    <tr>\n",
       "      <th>4</th>\n",
       "      <td>Fabio Alonso</td>\n",
       "      <td>ARIAS ADARME</td>\n",
       "      <td>ingfaaa@gmail.com</td>\n",
       "      <td>2023-09-06 10:04:00</td>\n",
       "      <td>2023-09-06 12:04:00</td>\n",
       "      <td>Fabio Alonso Arias Adarme</td>\n",
       "      <td>120</td>\n",
       "    </tr>\n",
       "  </tbody>\n",
       "</table>\n",
       "</div>"
      ],
      "text/plain": [
       "              Nombre       Apellido            Correo electrónico  \\\n",
       "0  Natalia Alejandra  Africano Fino  natalia.africano@uptc.edu.co   \n",
       "1      Daniel Andrés   ÁLVAREZ DIAS  daniel.alvarez04@uptc.edu.co   \n",
       "2    Gonzalez Molina   ANGEL ABDIAS  angel.gonzalez02@uptc.edu.co   \n",
       "3         Juan Pablo  ARCHILA AMAYA    juan.archila04@uptc.edu.co   \n",
       "4       Fabio Alonso   ARIAS ADARME             ingfaaa@gmail.com   \n",
       "\n",
       "  Hora a la que se unió Hora a la que salió                   NombreCompleto  \\\n",
       "0   2023-09-06 09:56:00 2023-09-06 10:23:00  Natalia Alejandra Africano Fino   \n",
       "1   2023-09-06 10:01:00 2023-09-06 12:04:00       Daniel Andrés Álvarez Dias   \n",
       "2   2023-09-06 10:07:00 2023-09-06 10:32:00     Gonzalez Molina Angel Abdias   \n",
       "3   2023-09-06 10:10:00 2023-09-06 12:04:00         Juan Pablo Archila Amaya   \n",
       "4   2023-09-06 10:04:00 2023-09-06 12:04:00        Fabio Alonso Arias Adarme   \n",
       "\n",
       "   duración  \n",
       "0        27  \n",
       "1       123  \n",
       "2        25  \n",
       "3       114  \n",
       "4       120  "
      ]
     },
     "execution_count": 161,
     "metadata": {},
     "output_type": "execute_result"
    }
   ],
   "source": [
    "evento_2.head()"
   ]
  },
  {
   "cell_type": "code",
   "execution_count": 162,
   "metadata": {},
   "outputs": [
    {
     "data": {
      "text/html": [
       "<div>\n",
       "<style scoped>\n",
       "    .dataframe tbody tr th:only-of-type {\n",
       "        vertical-align: middle;\n",
       "    }\n",
       "\n",
       "    .dataframe tbody tr th {\n",
       "        vertical-align: top;\n",
       "    }\n",
       "\n",
       "    .dataframe thead th {\n",
       "        text-align: right;\n",
       "    }\n",
       "</style>\n",
       "<table border=\"1\" class=\"dataframe\">\n",
       "  <thead>\n",
       "    <tr style=\"text-align: right;\">\n",
       "      <th></th>\n",
       "      <th>Nombre</th>\n",
       "      <th>Apellido</th>\n",
       "      <th>Correo electrónico</th>\n",
       "      <th>Hora a la que se unió</th>\n",
       "      <th>Hora a la que salió</th>\n",
       "      <th>NombreCompleto</th>\n",
       "      <th>duración</th>\n",
       "    </tr>\n",
       "  </thead>\n",
       "  <tbody>\n",
       "    <tr>\n",
       "      <th>0</th>\n",
       "      <td>Jose Arquimedes</td>\n",
       "      <td>ALBA CUPA</td>\n",
       "      <td>jose.alba@uptc.edu.co</td>\n",
       "      <td>2023-09-06 10:16:00</td>\n",
       "      <td>2023-09-06 11:53:00</td>\n",
       "      <td>Jose Arquimedes Alba Cupa</td>\n",
       "      <td>97</td>\n",
       "    </tr>\n",
       "    <tr>\n",
       "      <th>1</th>\n",
       "      <td>Daniel Andrés</td>\n",
       "      <td>ÁLVAREZ DIAS</td>\n",
       "      <td>daniel.alvarez04@uptc.edu.co</td>\n",
       "      <td>2023-09-06 10:01:00</td>\n",
       "      <td>2023-09-06 11:53:00</td>\n",
       "      <td>Daniel Andrés Álvarez Dias</td>\n",
       "      <td>112</td>\n",
       "    </tr>\n",
       "    <tr>\n",
       "      <th>2</th>\n",
       "      <td>Gonzalez Molina</td>\n",
       "      <td>ANGEL ABDIAS</td>\n",
       "      <td>angel.gonzalez02@uptc.edu.co</td>\n",
       "      <td>2023-09-06 10:17:00</td>\n",
       "      <td>2023-09-06 11:06:00</td>\n",
       "      <td>Gonzalez Molina Angel Abdias</td>\n",
       "      <td>49</td>\n",
       "    </tr>\n",
       "    <tr>\n",
       "      <th>3</th>\n",
       "      <td>Fabio Alonso</td>\n",
       "      <td>ARIAS ADARME</td>\n",
       "      <td>ingfaaa@gmail.com</td>\n",
       "      <td>2023-09-06 10:06:00</td>\n",
       "      <td>2023-09-06 11:54:00</td>\n",
       "      <td>Fabio Alonso Arias Adarme</td>\n",
       "      <td>108</td>\n",
       "    </tr>\n",
       "    <tr>\n",
       "      <th>4</th>\n",
       "      <td>Santiago Andres</td>\n",
       "      <td>ARIAS REYES</td>\n",
       "      <td>santiago.arias01@uptc.edu.co</td>\n",
       "      <td>2023-09-06 10:04:00</td>\n",
       "      <td>2023-09-06 11:53:00</td>\n",
       "      <td>Santiago Andres Arias Reyes</td>\n",
       "      <td>109</td>\n",
       "    </tr>\n",
       "  </tbody>\n",
       "</table>\n",
       "</div>"
      ],
      "text/plain": [
       "            Nombre      Apellido            Correo electrónico  \\\n",
       "0  Jose Arquimedes     ALBA CUPA         jose.alba@uptc.edu.co   \n",
       "1    Daniel Andrés  ÁLVAREZ DIAS  daniel.alvarez04@uptc.edu.co   \n",
       "2  Gonzalez Molina  ANGEL ABDIAS  angel.gonzalez02@uptc.edu.co   \n",
       "3     Fabio Alonso  ARIAS ADARME             ingfaaa@gmail.com   \n",
       "4  Santiago Andres   ARIAS REYES  santiago.arias01@uptc.edu.co   \n",
       "\n",
       "  Hora a la que se unió Hora a la que salió                NombreCompleto  \\\n",
       "0   2023-09-06 10:16:00 2023-09-06 11:53:00     Jose Arquimedes Alba Cupa   \n",
       "1   2023-09-06 10:01:00 2023-09-06 11:53:00    Daniel Andrés Álvarez Dias   \n",
       "2   2023-09-06 10:17:00 2023-09-06 11:06:00  Gonzalez Molina Angel Abdias   \n",
       "3   2023-09-06 10:06:00 2023-09-06 11:54:00     Fabio Alonso Arias Adarme   \n",
       "4   2023-09-06 10:04:00 2023-09-06 11:53:00   Santiago Andres Arias Reyes   \n",
       "\n",
       "   duración  \n",
       "0        97  \n",
       "1       112  \n",
       "2        49  \n",
       "3       108  \n",
       "4       109  "
      ]
     },
     "execution_count": 162,
     "metadata": {},
     "output_type": "execute_result"
    }
   ],
   "source": [
    "evento_3.head()"
   ]
  },
  {
   "cell_type": "code",
   "execution_count": 163,
   "metadata": {},
   "outputs": [
    {
     "data": {
      "text/html": [
       "<div>\n",
       "<style scoped>\n",
       "    .dataframe tbody tr th:only-of-type {\n",
       "        vertical-align: middle;\n",
       "    }\n",
       "\n",
       "    .dataframe tbody tr th {\n",
       "        vertical-align: top;\n",
       "    }\n",
       "\n",
       "    .dataframe thead th {\n",
       "        text-align: right;\n",
       "    }\n",
       "</style>\n",
       "<table border=\"1\" class=\"dataframe\">\n",
       "  <thead>\n",
       "    <tr style=\"text-align: right;\">\n",
       "      <th></th>\n",
       "      <th>Nombre</th>\n",
       "      <th>Apellido</th>\n",
       "      <th>Correo electrónico</th>\n",
       "      <th>Hora a la que se unió</th>\n",
       "      <th>Hora a la que salió</th>\n",
       "      <th>NombreCompleto</th>\n",
       "      <th>duración</th>\n",
       "    </tr>\n",
       "  </thead>\n",
       "  <tbody>\n",
       "    <tr>\n",
       "      <th>0</th>\n",
       "      <td>Yamid Alonso</td>\n",
       "      <td>NaN</td>\n",
       "      <td>yamid.nino02@uptc.edu.co</td>\n",
       "      <td>2023-09-06 10:02:00</td>\n",
       "      <td>2023-09-06 11:12:00</td>\n",
       "      <td>Yamid Alonso</td>\n",
       "      <td>70</td>\n",
       "    </tr>\n",
       "    <tr>\n",
       "      <th>1</th>\n",
       "      <td>Gonzalez Molina</td>\n",
       "      <td>ANGEL ABDIAS</td>\n",
       "      <td>angel.gonzalez02@uptc.edu.co</td>\n",
       "      <td>2023-09-06 10:19:00</td>\n",
       "      <td>2023-09-06 11:12:00</td>\n",
       "      <td>Gonzalez Molina Angel Abdias</td>\n",
       "      <td>53</td>\n",
       "    </tr>\n",
       "    <tr>\n",
       "      <th>2</th>\n",
       "      <td>Juan Pablo</td>\n",
       "      <td>ARCHILA AMAYA</td>\n",
       "      <td>juan.archila04@uptc.edu.co</td>\n",
       "      <td>2023-09-06 10:10:00</td>\n",
       "      <td>2023-09-06 11:12:00</td>\n",
       "      <td>Juan Pablo Archila Amaya</td>\n",
       "      <td>62</td>\n",
       "    </tr>\n",
       "    <tr>\n",
       "      <th>3</th>\n",
       "      <td>Fabio Alonso</td>\n",
       "      <td>ARIAS ADARME</td>\n",
       "      <td>ingfaaa@gmail.com</td>\n",
       "      <td>2023-09-06 10:10:00</td>\n",
       "      <td>2023-09-06 11:12:00</td>\n",
       "      <td>Fabio Alonso Arias Adarme</td>\n",
       "      <td>62</td>\n",
       "    </tr>\n",
       "    <tr>\n",
       "      <th>4</th>\n",
       "      <td>Santiago Andres</td>\n",
       "      <td>ARIAS REYES</td>\n",
       "      <td>ingfaaa@gmail.com</td>\n",
       "      <td>2023-09-06 10:00:00</td>\n",
       "      <td>2023-09-06 11:12:00</td>\n",
       "      <td>Santiago Andres Arias Reyes</td>\n",
       "      <td>72</td>\n",
       "    </tr>\n",
       "  </tbody>\n",
       "</table>\n",
       "</div>"
      ],
      "text/plain": [
       "            Nombre       Apellido            Correo electrónico  \\\n",
       "0     Yamid Alonso            NaN      yamid.nino02@uptc.edu.co   \n",
       "1  Gonzalez Molina   ANGEL ABDIAS  angel.gonzalez02@uptc.edu.co   \n",
       "2       Juan Pablo  ARCHILA AMAYA    juan.archila04@uptc.edu.co   \n",
       "3     Fabio Alonso   ARIAS ADARME             ingfaaa@gmail.com   \n",
       "4  Santiago Andres    ARIAS REYES             ingfaaa@gmail.com   \n",
       "\n",
       "  Hora a la que se unió Hora a la que salió                NombreCompleto  \\\n",
       "0   2023-09-06 10:02:00 2023-09-06 11:12:00                  Yamid Alonso   \n",
       "1   2023-09-06 10:19:00 2023-09-06 11:12:00  Gonzalez Molina Angel Abdias   \n",
       "2   2023-09-06 10:10:00 2023-09-06 11:12:00      Juan Pablo Archila Amaya   \n",
       "3   2023-09-06 10:10:00 2023-09-06 11:12:00     Fabio Alonso Arias Adarme   \n",
       "4   2023-09-06 10:00:00 2023-09-06 11:12:00   Santiago Andres Arias Reyes   \n",
       "\n",
       "   duración  \n",
       "0        70  \n",
       "1        53  \n",
       "2        62  \n",
       "3        62  \n",
       "4        72  "
      ]
     },
     "execution_count": 163,
     "metadata": {},
     "output_type": "execute_result"
    }
   ],
   "source": [
    "evento_4.head()"
   ]
  },
  {
   "cell_type": "code",
   "execution_count": 164,
   "metadata": {},
   "outputs": [
    {
     "data": {
      "text/html": [
       "<div>\n",
       "<style scoped>\n",
       "    .dataframe tbody tr th:only-of-type {\n",
       "        vertical-align: middle;\n",
       "    }\n",
       "\n",
       "    .dataframe tbody tr th {\n",
       "        vertical-align: top;\n",
       "    }\n",
       "\n",
       "    .dataframe thead th {\n",
       "        text-align: right;\n",
       "    }\n",
       "</style>\n",
       "<table border=\"1\" class=\"dataframe\">\n",
       "  <thead>\n",
       "    <tr style=\"text-align: right;\">\n",
       "      <th></th>\n",
       "      <th>Nombre</th>\n",
       "      <th>Apellido</th>\n",
       "      <th>Correo electrónico</th>\n",
       "      <th>Hora a la que se unió</th>\n",
       "      <th>Hora a la que salió</th>\n",
       "      <th>NombreCompleto</th>\n",
       "      <th>duración</th>\n",
       "    </tr>\n",
       "  </thead>\n",
       "  <tbody>\n",
       "    <tr>\n",
       "      <th>0</th>\n",
       "      <td>Yamid Alonso</td>\n",
       "      <td>NaN</td>\n",
       "      <td>yamid.nino02@uptc.edu.co</td>\n",
       "      <td>2023-09-06 10:00:00</td>\n",
       "      <td>2023-09-06 11:56:00</td>\n",
       "      <td>Yamid Alonso</td>\n",
       "      <td>116</td>\n",
       "    </tr>\n",
       "    <tr>\n",
       "      <th>1</th>\n",
       "      <td>Jose Arquimedes</td>\n",
       "      <td>ALBA CUPA</td>\n",
       "      <td>jose.alba@uptc.edu.co</td>\n",
       "      <td>2023-09-06 10:03:00</td>\n",
       "      <td>2023-09-06 11:57:00</td>\n",
       "      <td>Jose Arquimedes Alba Cupa</td>\n",
       "      <td>114</td>\n",
       "    </tr>\n",
       "    <tr>\n",
       "      <th>2</th>\n",
       "      <td>Daniel Andrés</td>\n",
       "      <td>ÁLVAREZ DIAS</td>\n",
       "      <td>daniel.alvarez04@uptc.edu.co</td>\n",
       "      <td>2023-09-06 10:10:00</td>\n",
       "      <td>2023-09-06 11:45:00</td>\n",
       "      <td>Daniel Andrés Álvarez Dias</td>\n",
       "      <td>95</td>\n",
       "    </tr>\n",
       "    <tr>\n",
       "      <th>3</th>\n",
       "      <td>Gonzalez Molina</td>\n",
       "      <td>ANGEL ABDIAS</td>\n",
       "      <td>angel.gonzalez02@uptc.edu.co</td>\n",
       "      <td>2023-09-06 09:58:00</td>\n",
       "      <td>2023-09-06 11:56:00</td>\n",
       "      <td>Gonzalez Molina Angel Abdias</td>\n",
       "      <td>118</td>\n",
       "    </tr>\n",
       "    <tr>\n",
       "      <th>4</th>\n",
       "      <td>Fabio Alonso</td>\n",
       "      <td>ARIAS ADARME</td>\n",
       "      <td>ingfaaa@gmail.com</td>\n",
       "      <td>2023-09-06 10:05:00</td>\n",
       "      <td>2023-09-06 11:57:00</td>\n",
       "      <td>Fabio Alonso Arias Adarme</td>\n",
       "      <td>112</td>\n",
       "    </tr>\n",
       "  </tbody>\n",
       "</table>\n",
       "</div>"
      ],
      "text/plain": [
       "            Nombre      Apellido            Correo electrónico  \\\n",
       "0     Yamid Alonso           NaN      yamid.nino02@uptc.edu.co   \n",
       "1  Jose Arquimedes     ALBA CUPA         jose.alba@uptc.edu.co   \n",
       "2    Daniel Andrés  ÁLVAREZ DIAS  daniel.alvarez04@uptc.edu.co   \n",
       "3  Gonzalez Molina  ANGEL ABDIAS  angel.gonzalez02@uptc.edu.co   \n",
       "4     Fabio Alonso  ARIAS ADARME             ingfaaa@gmail.com   \n",
       "\n",
       "  Hora a la que se unió Hora a la que salió                NombreCompleto  \\\n",
       "0   2023-09-06 10:00:00 2023-09-06 11:56:00                  Yamid Alonso   \n",
       "1   2023-09-06 10:03:00 2023-09-06 11:57:00     Jose Arquimedes Alba Cupa   \n",
       "2   2023-09-06 10:10:00 2023-09-06 11:45:00    Daniel Andrés Álvarez Dias   \n",
       "3   2023-09-06 09:58:00 2023-09-06 11:56:00  Gonzalez Molina Angel Abdias   \n",
       "4   2023-09-06 10:05:00 2023-09-06 11:57:00     Fabio Alonso Arias Adarme   \n",
       "\n",
       "   duración  \n",
       "0       116  \n",
       "1       114  \n",
       "2        95  \n",
       "3       118  \n",
       "4       112  "
      ]
     },
     "execution_count": 164,
     "metadata": {},
     "output_type": "execute_result"
    }
   ],
   "source": [
    "evento_5.head()"
   ]
  },
  {
   "cell_type": "code",
   "execution_count": 165,
   "metadata": {},
   "outputs": [
    {
     "data": {
      "text/html": [
       "<div>\n",
       "<style scoped>\n",
       "    .dataframe tbody tr th:only-of-type {\n",
       "        vertical-align: middle;\n",
       "    }\n",
       "\n",
       "    .dataframe tbody tr th {\n",
       "        vertical-align: top;\n",
       "    }\n",
       "\n",
       "    .dataframe thead th {\n",
       "        text-align: right;\n",
       "    }\n",
       "</style>\n",
       "<table border=\"1\" class=\"dataframe\">\n",
       "  <thead>\n",
       "    <tr style=\"text-align: right;\">\n",
       "      <th></th>\n",
       "      <th>Nombre</th>\n",
       "      <th>Apellido</th>\n",
       "      <th>Correo electrónico</th>\n",
       "      <th>Hora a la que se unió</th>\n",
       "      <th>Hora a la que salió</th>\n",
       "      <th>NombreCompleto</th>\n",
       "      <th>duración</th>\n",
       "    </tr>\n",
       "  </thead>\n",
       "  <tbody>\n",
       "    <tr>\n",
       "      <th>0</th>\n",
       "      <td>Yamid Alonso</td>\n",
       "      <td>NaN</td>\n",
       "      <td>yamid.nino02@uptc.edu.co</td>\n",
       "      <td>2023-09-06 10:00:00</td>\n",
       "      <td>2023-09-06 12:00:00</td>\n",
       "      <td>Yamid Alonso</td>\n",
       "      <td>120</td>\n",
       "    </tr>\n",
       "    <tr>\n",
       "      <th>1</th>\n",
       "      <td>Daniel Andrés</td>\n",
       "      <td>ÁLVAREZ DIAS</td>\n",
       "      <td>daniel.alvarez04@uptc.edu.co</td>\n",
       "      <td>2023-09-06 10:33:00</td>\n",
       "      <td>2023-09-06 11:59:00</td>\n",
       "      <td>Daniel Andrés Álvarez Dias</td>\n",
       "      <td>86</td>\n",
       "    </tr>\n",
       "    <tr>\n",
       "      <th>2</th>\n",
       "      <td>Juan Pablo</td>\n",
       "      <td>ARCHILA AMAYA</td>\n",
       "      <td>juan.archila04@uptc.edu.co</td>\n",
       "      <td>2023-09-06 10:10:00</td>\n",
       "      <td>2023-09-06 11:56:00</td>\n",
       "      <td>Juan Pablo Archila Amaya</td>\n",
       "      <td>106</td>\n",
       "    </tr>\n",
       "    <tr>\n",
       "      <th>3</th>\n",
       "      <td>Santiago Andres</td>\n",
       "      <td>ARIAS REYES</td>\n",
       "      <td>santiago.arias01@uptc.edu.co</td>\n",
       "      <td>2023-09-06 09:56:00</td>\n",
       "      <td>2023-09-06 11:55:00</td>\n",
       "      <td>Santiago Andres Arias Reyes</td>\n",
       "      <td>119</td>\n",
       "    </tr>\n",
       "    <tr>\n",
       "      <th>4</th>\n",
       "      <td>Bermudez Beltran</td>\n",
       "      <td>ARLEY DANILO</td>\n",
       "      <td>arley.bermudez@uptc.edu.co</td>\n",
       "      <td>2023-09-06 10:01:00</td>\n",
       "      <td>2023-09-06 11:44:00</td>\n",
       "      <td>Bermudez Beltran Arley Danilo</td>\n",
       "      <td>103</td>\n",
       "    </tr>\n",
       "  </tbody>\n",
       "</table>\n",
       "</div>"
      ],
      "text/plain": [
       "             Nombre       Apellido            Correo electrónico  \\\n",
       "0      Yamid Alonso            NaN      yamid.nino02@uptc.edu.co   \n",
       "1     Daniel Andrés   ÁLVAREZ DIAS  daniel.alvarez04@uptc.edu.co   \n",
       "2        Juan Pablo  ARCHILA AMAYA    juan.archila04@uptc.edu.co   \n",
       "3   Santiago Andres    ARIAS REYES  santiago.arias01@uptc.edu.co   \n",
       "4  Bermudez Beltran   ARLEY DANILO    arley.bermudez@uptc.edu.co   \n",
       "\n",
       "  Hora a la que se unió Hora a la que salió                 NombreCompleto  \\\n",
       "0   2023-09-06 10:00:00 2023-09-06 12:00:00                   Yamid Alonso   \n",
       "1   2023-09-06 10:33:00 2023-09-06 11:59:00     Daniel Andrés Álvarez Dias   \n",
       "2   2023-09-06 10:10:00 2023-09-06 11:56:00       Juan Pablo Archila Amaya   \n",
       "3   2023-09-06 09:56:00 2023-09-06 11:55:00    Santiago Andres Arias Reyes   \n",
       "4   2023-09-06 10:01:00 2023-09-06 11:44:00  Bermudez Beltran Arley Danilo   \n",
       "\n",
       "   duración  \n",
       "0       120  \n",
       "1        86  \n",
       "2       106  \n",
       "3       119  \n",
       "4       103  "
      ]
     },
     "execution_count": 165,
     "metadata": {},
     "output_type": "execute_result"
    }
   ],
   "source": [
    "evento_6.head()"
   ]
  },
  {
   "cell_type": "code",
   "execution_count": 166,
   "metadata": {},
   "outputs": [
    {
     "data": {
      "text/html": [
       "<div>\n",
       "<style scoped>\n",
       "    .dataframe tbody tr th:only-of-type {\n",
       "        vertical-align: middle;\n",
       "    }\n",
       "\n",
       "    .dataframe tbody tr th {\n",
       "        vertical-align: top;\n",
       "    }\n",
       "\n",
       "    .dataframe thead th {\n",
       "        text-align: right;\n",
       "    }\n",
       "</style>\n",
       "<table border=\"1\" class=\"dataframe\">\n",
       "  <thead>\n",
       "    <tr style=\"text-align: right;\">\n",
       "      <th></th>\n",
       "      <th>Nombre</th>\n",
       "      <th>Apellido</th>\n",
       "      <th>Correo electrónico</th>\n",
       "      <th>Hora a la que se unió</th>\n",
       "      <th>Hora a la que salió</th>\n",
       "      <th>NombreCompleto</th>\n",
       "      <th>duración</th>\n",
       "    </tr>\n",
       "  </thead>\n",
       "  <tbody>\n",
       "    <tr>\n",
       "      <th>0</th>\n",
       "      <td>Yamid Alonso</td>\n",
       "      <td>NaN</td>\n",
       "      <td>yamid.nino02@uptc.edu.co</td>\n",
       "      <td>2023-09-06 10:05:00</td>\n",
       "      <td>2023-09-06 11:48:00</td>\n",
       "      <td>Yamid Alonso</td>\n",
       "      <td>103</td>\n",
       "    </tr>\n",
       "    <tr>\n",
       "      <th>1</th>\n",
       "      <td>Jose Arquimedes</td>\n",
       "      <td>ALBA CUPA</td>\n",
       "      <td>jose.alba@uptc.edu.co</td>\n",
       "      <td>2023-09-06 10:59:00</td>\n",
       "      <td>2023-09-06 11:47:00</td>\n",
       "      <td>Jose Arquimedes Alba Cupa</td>\n",
       "      <td>48</td>\n",
       "    </tr>\n",
       "    <tr>\n",
       "      <th>2</th>\n",
       "      <td>Daniel Andrés</td>\n",
       "      <td>ÁLVAREZ DIAS</td>\n",
       "      <td>daniel.alvarez04@uptc.edu.co</td>\n",
       "      <td>2023-09-06 10:24:00</td>\n",
       "      <td>2023-09-06 11:16:00</td>\n",
       "      <td>Daniel Andrés Álvarez Dias</td>\n",
       "      <td>52</td>\n",
       "    </tr>\n",
       "    <tr>\n",
       "      <th>3</th>\n",
       "      <td>Gonzalez Molina</td>\n",
       "      <td>ANGEL ABDIAS</td>\n",
       "      <td>angel.gonzalez02@uptc.edu.co</td>\n",
       "      <td>2023-09-06 10:12:00</td>\n",
       "      <td>2023-09-06 11:47:00</td>\n",
       "      <td>Gonzalez Molina Angel Abdias</td>\n",
       "      <td>95</td>\n",
       "    </tr>\n",
       "    <tr>\n",
       "      <th>4</th>\n",
       "      <td>Juan Pablo</td>\n",
       "      <td>ARCHILA AMAYA</td>\n",
       "      <td>juan.archila04@uptc.edu.co</td>\n",
       "      <td>2023-09-06 10:15:00</td>\n",
       "      <td>2023-09-06 11:48:00</td>\n",
       "      <td>Juan Pablo Archila Amaya</td>\n",
       "      <td>93</td>\n",
       "    </tr>\n",
       "  </tbody>\n",
       "</table>\n",
       "</div>"
      ],
      "text/plain": [
       "            Nombre       Apellido            Correo electrónico  \\\n",
       "0     Yamid Alonso            NaN      yamid.nino02@uptc.edu.co   \n",
       "1  Jose Arquimedes      ALBA CUPA         jose.alba@uptc.edu.co   \n",
       "2    Daniel Andrés   ÁLVAREZ DIAS  daniel.alvarez04@uptc.edu.co   \n",
       "3  Gonzalez Molina   ANGEL ABDIAS  angel.gonzalez02@uptc.edu.co   \n",
       "4       Juan Pablo  ARCHILA AMAYA    juan.archila04@uptc.edu.co   \n",
       "\n",
       "  Hora a la que se unió Hora a la que salió                NombreCompleto  \\\n",
       "0   2023-09-06 10:05:00 2023-09-06 11:48:00                  Yamid Alonso   \n",
       "1   2023-09-06 10:59:00 2023-09-06 11:47:00     Jose Arquimedes Alba Cupa   \n",
       "2   2023-09-06 10:24:00 2023-09-06 11:16:00    Daniel Andrés Álvarez Dias   \n",
       "3   2023-09-06 10:12:00 2023-09-06 11:47:00  Gonzalez Molina Angel Abdias   \n",
       "4   2023-09-06 10:15:00 2023-09-06 11:48:00      Juan Pablo Archila Amaya   \n",
       "\n",
       "   duración  \n",
       "0       103  \n",
       "1        48  \n",
       "2        52  \n",
       "3        95  \n",
       "4        93  "
      ]
     },
     "execution_count": 166,
     "metadata": {},
     "output_type": "execute_result"
    }
   ],
   "source": [
    "evento_7.head()"
   ]
  },
  {
   "cell_type": "code",
   "execution_count": 167,
   "metadata": {},
   "outputs": [
    {
     "data": {
      "text/html": [
       "<div>\n",
       "<style scoped>\n",
       "    .dataframe tbody tr th:only-of-type {\n",
       "        vertical-align: middle;\n",
       "    }\n",
       "\n",
       "    .dataframe tbody tr th {\n",
       "        vertical-align: top;\n",
       "    }\n",
       "\n",
       "    .dataframe thead th {\n",
       "        text-align: right;\n",
       "    }\n",
       "</style>\n",
       "<table border=\"1\" class=\"dataframe\">\n",
       "  <thead>\n",
       "    <tr style=\"text-align: right;\">\n",
       "      <th></th>\n",
       "      <th>Nombre</th>\n",
       "      <th>Apellido</th>\n",
       "      <th>Correo electrónico</th>\n",
       "      <th>Hora a la que se unió</th>\n",
       "      <th>Hora a la que salió</th>\n",
       "      <th>NombreCompleto</th>\n",
       "      <th>duración</th>\n",
       "    </tr>\n",
       "  </thead>\n",
       "  <tbody>\n",
       "    <tr>\n",
       "      <th>0</th>\n",
       "      <td>Yamid Alonso</td>\n",
       "      <td>NaN</td>\n",
       "      <td>yamid.nino02@uptc.edu.co</td>\n",
       "      <td>2023-09-06 10:00:00</td>\n",
       "      <td>2023-09-06 11:55:00</td>\n",
       "      <td>Yamid Alonso</td>\n",
       "      <td>115</td>\n",
       "    </tr>\n",
       "    <tr>\n",
       "      <th>1</th>\n",
       "      <td>Jose Arquimedes</td>\n",
       "      <td>ALBA CUPA</td>\n",
       "      <td>jose.alba@uptc.edu.co</td>\n",
       "      <td>2023-09-06 11:09:00</td>\n",
       "      <td>2023-09-06 11:56:00</td>\n",
       "      <td>Jose Arquimedes Alba Cupa</td>\n",
       "      <td>47</td>\n",
       "    </tr>\n",
       "    <tr>\n",
       "      <th>2</th>\n",
       "      <td>Juan Pablo</td>\n",
       "      <td>ARCHILA AMAYA</td>\n",
       "      <td>juan.archila04@uptc.edu.co</td>\n",
       "      <td>2023-09-06 10:35:00</td>\n",
       "      <td>2023-09-06 11:27:00</td>\n",
       "      <td>Juan Pablo Archila Amaya</td>\n",
       "      <td>52</td>\n",
       "    </tr>\n",
       "    <tr>\n",
       "      <th>3</th>\n",
       "      <td>Johana</td>\n",
       "      <td>Avila</td>\n",
       "      <td>johana.avila@uptc.edu.co</td>\n",
       "      <td>2023-09-06 10:07:00</td>\n",
       "      <td>2023-09-06 11:51:00</td>\n",
       "      <td>Johana Avila</td>\n",
       "      <td>104</td>\n",
       "    </tr>\n",
       "    <tr>\n",
       "      <th>4</th>\n",
       "      <td>Julian</td>\n",
       "      <td>Ayala</td>\n",
       "      <td>julian.ayala@uptc.edu.co</td>\n",
       "      <td>2023-09-06 10:08:00</td>\n",
       "      <td>2023-09-06 11:51:00</td>\n",
       "      <td>Julian Ayala</td>\n",
       "      <td>103</td>\n",
       "    </tr>\n",
       "  </tbody>\n",
       "</table>\n",
       "</div>"
      ],
      "text/plain": [
       "            Nombre       Apellido          Correo electrónico  \\\n",
       "0     Yamid Alonso            NaN    yamid.nino02@uptc.edu.co   \n",
       "1  Jose Arquimedes      ALBA CUPA       jose.alba@uptc.edu.co   \n",
       "2       Juan Pablo  ARCHILA AMAYA  juan.archila04@uptc.edu.co   \n",
       "3           Johana          Avila    johana.avila@uptc.edu.co   \n",
       "4           Julian          Ayala    julian.ayala@uptc.edu.co   \n",
       "\n",
       "  Hora a la que se unió Hora a la que salió             NombreCompleto  \\\n",
       "0   2023-09-06 10:00:00 2023-09-06 11:55:00               Yamid Alonso   \n",
       "1   2023-09-06 11:09:00 2023-09-06 11:56:00  Jose Arquimedes Alba Cupa   \n",
       "2   2023-09-06 10:35:00 2023-09-06 11:27:00   Juan Pablo Archila Amaya   \n",
       "3   2023-09-06 10:07:00 2023-09-06 11:51:00               Johana Avila   \n",
       "4   2023-09-06 10:08:00 2023-09-06 11:51:00               Julian Ayala   \n",
       "\n",
       "   duración  \n",
       "0       115  \n",
       "1        47  \n",
       "2        52  \n",
       "3       104  \n",
       "4       103  "
      ]
     },
     "execution_count": 167,
     "metadata": {},
     "output_type": "execute_result"
    }
   ],
   "source": [
    "evento_8.head()"
   ]
  },
  {
   "cell_type": "code",
   "execution_count": 168,
   "metadata": {},
   "outputs": [
    {
     "data": {
      "text/html": [
       "<div>\n",
       "<style scoped>\n",
       "    .dataframe tbody tr th:only-of-type {\n",
       "        vertical-align: middle;\n",
       "    }\n",
       "\n",
       "    .dataframe tbody tr th {\n",
       "        vertical-align: top;\n",
       "    }\n",
       "\n",
       "    .dataframe thead th {\n",
       "        text-align: right;\n",
       "    }\n",
       "</style>\n",
       "<table border=\"1\" class=\"dataframe\">\n",
       "  <thead>\n",
       "    <tr style=\"text-align: right;\">\n",
       "      <th></th>\n",
       "      <th>Nombre</th>\n",
       "      <th>Apellido</th>\n",
       "      <th>Correo electrónico</th>\n",
       "      <th>Hora a la que se unió</th>\n",
       "      <th>Hora a la que salió</th>\n",
       "      <th>NombreCompleto</th>\n",
       "      <th>duración</th>\n",
       "    </tr>\n",
       "  </thead>\n",
       "  <tbody>\n",
       "    <tr>\n",
       "      <th>0</th>\n",
       "      <td>Juan Pablo</td>\n",
       "      <td>ARCHILA AMAYA</td>\n",
       "      <td>juan.archila04@uptc.edu.co</td>\n",
       "      <td>2023-09-06 10:51:00</td>\n",
       "      <td>2023-09-06 11:26:00</td>\n",
       "      <td>Juan Pablo Archila Amaya</td>\n",
       "      <td>35</td>\n",
       "    </tr>\n",
       "    <tr>\n",
       "      <th>1</th>\n",
       "      <td>Anderson Daniel</td>\n",
       "      <td>BARRETO SIERRA</td>\n",
       "      <td>anderson.barreto01@uptc.edu.co</td>\n",
       "      <td>2023-09-06 11:18:00</td>\n",
       "      <td>2023-09-06 11:18:00</td>\n",
       "      <td>Anderson Daniel Barreto Sierra</td>\n",
       "      <td>0</td>\n",
       "    </tr>\n",
       "    <tr>\n",
       "      <th>2</th>\n",
       "      <td>Cristian</td>\n",
       "      <td>Becerra</td>\n",
       "      <td>cristian.becerra08@uptc.edu.co</td>\n",
       "      <td>2023-09-06 11:05:00</td>\n",
       "      <td>2023-09-06 11:26:00</td>\n",
       "      <td>Cristian Becerra</td>\n",
       "      <td>21</td>\n",
       "    </tr>\n",
       "    <tr>\n",
       "      <th>3</th>\n",
       "      <td>Juan</td>\n",
       "      <td>Cepeda06</td>\n",
       "      <td>juan.cepeda06@uptc.edu.co</td>\n",
       "      <td>2023-09-06 11:26:00</td>\n",
       "      <td>2023-09-06 11:26:00</td>\n",
       "      <td>Juan Cepeda06</td>\n",
       "      <td>0</td>\n",
       "    </tr>\n",
       "    <tr>\n",
       "      <th>4</th>\n",
       "      <td>Cristian</td>\n",
       "      <td>Cespedes</td>\n",
       "      <td>cristian.cespedes@uptc.edu.co</td>\n",
       "      <td>2023-09-06 10:04:00</td>\n",
       "      <td>2023-09-06 11:26:00</td>\n",
       "      <td>Cristian Cespedes</td>\n",
       "      <td>82</td>\n",
       "    </tr>\n",
       "  </tbody>\n",
       "</table>\n",
       "</div>"
      ],
      "text/plain": [
       "            Nombre        Apellido              Correo electrónico  \\\n",
       "0       Juan Pablo   ARCHILA AMAYA      juan.archila04@uptc.edu.co   \n",
       "1  Anderson Daniel  BARRETO SIERRA  anderson.barreto01@uptc.edu.co   \n",
       "2         Cristian         Becerra  cristian.becerra08@uptc.edu.co   \n",
       "3             Juan        Cepeda06       juan.cepeda06@uptc.edu.co   \n",
       "4         Cristian        Cespedes   cristian.cespedes@uptc.edu.co   \n",
       "\n",
       "  Hora a la que se unió Hora a la que salió                  NombreCompleto  \\\n",
       "0   2023-09-06 10:51:00 2023-09-06 11:26:00        Juan Pablo Archila Amaya   \n",
       "1   2023-09-06 11:18:00 2023-09-06 11:18:00  Anderson Daniel Barreto Sierra   \n",
       "2   2023-09-06 11:05:00 2023-09-06 11:26:00                Cristian Becerra   \n",
       "3   2023-09-06 11:26:00 2023-09-06 11:26:00                   Juan Cepeda06   \n",
       "4   2023-09-06 10:04:00 2023-09-06 11:26:00               Cristian Cespedes   \n",
       "\n",
       "   duración  \n",
       "0        35  \n",
       "1         0  \n",
       "2        21  \n",
       "3         0  \n",
       "4        82  "
      ]
     },
     "execution_count": 168,
     "metadata": {},
     "output_type": "execute_result"
    }
   ],
   "source": [
    "evento_9.head()"
   ]
  },
  {
   "cell_type": "code",
   "execution_count": 76,
   "metadata": {},
   "outputs": [
    {
     "data": {
      "text/html": [
       "<div>\n",
       "<style scoped>\n",
       "    .dataframe tbody tr th:only-of-type {\n",
       "        vertical-align: middle;\n",
       "    }\n",
       "\n",
       "    .dataframe tbody tr th {\n",
       "        vertical-align: top;\n",
       "    }\n",
       "\n",
       "    .dataframe thead th {\n",
       "        text-align: right;\n",
       "    }\n",
       "</style>\n",
       "<table border=\"1\" class=\"dataframe\">\n",
       "  <thead>\n",
       "    <tr style=\"text-align: right;\">\n",
       "      <th></th>\n",
       "      <th>Nombre</th>\n",
       "      <th>Correo institucional (@uptc.edu.co)</th>\n",
       "      <th>Programa Académico</th>\n",
       "      <th>Asignatura</th>\n",
       "      <th>estado</th>\n",
       "      <th>Primer Nombre</th>\n",
       "      <th>Primer Apellido</th>\n",
       "    </tr>\n",
       "  </thead>\n",
       "  <tbody>\n",
       "    <tr>\n",
       "      <th>0</th>\n",
       "      <td>Anderson Daniel Barreto Sierra</td>\n",
       "      <td>anderson.barreto01@uptc.edu.co</td>\n",
       "      <td>Ingeniería de Sistemas y Computación</td>\n",
       "      <td>Electiva III</td>\n",
       "      <td>Validados</td>\n",
       "      <td>Anderson</td>\n",
       "      <td>Barreto</td>\n",
       "    </tr>\n",
       "    <tr>\n",
       "      <th>1</th>\n",
       "      <td>Andrés Felipe Escobar Diaz</td>\n",
       "      <td>andres.escobar01@uptc.edu.co</td>\n",
       "      <td>Ingeniería de Sistemas y Computación</td>\n",
       "      <td>Electiva III</td>\n",
       "      <td>Validados</td>\n",
       "      <td>Andrés</td>\n",
       "      <td>Escobar</td>\n",
       "    </tr>\n",
       "    <tr>\n",
       "      <th>2</th>\n",
       "      <td>Andrés Leonardo Maldonado Sánchez</td>\n",
       "      <td>andres.maldonado02@uptc.edu.co</td>\n",
       "      <td>Ingeniería de Sistemas y Computación</td>\n",
       "      <td>NaN</td>\n",
       "      <td>Falta información</td>\n",
       "      <td>Andrés</td>\n",
       "      <td>Maldonado</td>\n",
       "    </tr>\n",
       "    <tr>\n",
       "      <th>3</th>\n",
       "      <td>Andrés David Reyes Rojas</td>\n",
       "      <td>andres.reyes03@uptc.edu.co</td>\n",
       "      <td>Ingeniería Electrónica</td>\n",
       "      <td>Comunicaciones II</td>\n",
       "      <td>Validados</td>\n",
       "      <td>Andrés</td>\n",
       "      <td>Reyes</td>\n",
       "    </tr>\n",
       "    <tr>\n",
       "      <th>4</th>\n",
       "      <td>Andrés Camilo Silva Landinez</td>\n",
       "      <td>andres.silva07@uptc.edu.co</td>\n",
       "      <td>Ingeniería de Sistemas y Computación</td>\n",
       "      <td>NaN</td>\n",
       "      <td>Falta información</td>\n",
       "      <td>Andrés</td>\n",
       "      <td>Silva</td>\n",
       "    </tr>\n",
       "  </tbody>\n",
       "</table>\n",
       "</div>"
      ],
      "text/plain": [
       "                              Nombre Correo institucional (@uptc.edu.co)  \\\n",
       "0     Anderson Daniel Barreto Sierra      anderson.barreto01@uptc.edu.co   \n",
       "1         Andrés Felipe Escobar Diaz        andres.escobar01@uptc.edu.co   \n",
       "2  Andrés Leonardo Maldonado Sánchez      andres.maldonado02@uptc.edu.co   \n",
       "3           Andrés David Reyes Rojas          andres.reyes03@uptc.edu.co   \n",
       "4       Andrés Camilo Silva Landinez          andres.silva07@uptc.edu.co   \n",
       "\n",
       "                     Programa Académico         Asignatura             estado  \\\n",
       "0  Ingeniería de Sistemas y Computación       Electiva III          Validados   \n",
       "1  Ingeniería de Sistemas y Computación       Electiva III          Validados   \n",
       "2  Ingeniería de Sistemas y Computación                NaN  Falta información   \n",
       "3                Ingeniería Electrónica  Comunicaciones II          Validados   \n",
       "4  Ingeniería de Sistemas y Computación                NaN  Falta información   \n",
       "\n",
       "  Primer Nombre Primer Apellido  \n",
       "0      Anderson         Barreto  \n",
       "1        Andrés         Escobar  \n",
       "2        Andrés       Maldonado  \n",
       "3        Andrés           Reyes  \n",
       "4        Andrés           Silva  "
      ]
     },
     "execution_count": 76,
     "metadata": {},
     "output_type": "execute_result"
    }
   ],
   "source": [
    "registro_datos.head()"
   ]
  },
  {
   "cell_type": "code",
   "execution_count": 169,
   "metadata": {},
   "outputs": [],
   "source": [
    "registro_datos.loc[registro_datos[\"Correo institucional (@uptc.edu.co)\"]==\"jhon.camargo01@uptc.edu.co\"]\n",
    "registro_datos.drop(63,inplace=True)"
   ]
  },
  {
   "cell_type": "code",
   "execution_count": 170,
   "metadata": {},
   "outputs": [
    {
     "data": {
      "text/html": [
       "<div>\n",
       "<style scoped>\n",
       "    .dataframe tbody tr th:only-of-type {\n",
       "        vertical-align: middle;\n",
       "    }\n",
       "\n",
       "    .dataframe tbody tr th {\n",
       "        vertical-align: top;\n",
       "    }\n",
       "\n",
       "    .dataframe thead th {\n",
       "        text-align: right;\n",
       "    }\n",
       "</style>\n",
       "<table border=\"1\" class=\"dataframe\">\n",
       "  <thead>\n",
       "    <tr style=\"text-align: right;\">\n",
       "      <th></th>\n",
       "      <th>Nombre</th>\n",
       "      <th>Correo institucional (@uptc.edu.co)</th>\n",
       "      <th>Programa Académico</th>\n",
       "      <th>Asignatura</th>\n",
       "      <th>estado</th>\n",
       "      <th>Primer Nombre</th>\n",
       "      <th>Primer Apellido</th>\n",
       "    </tr>\n",
       "  </thead>\n",
       "  <tbody>\n",
       "    <tr>\n",
       "      <th>64</th>\n",
       "      <td>Jhon Fredy Camargo Fonseca</td>\n",
       "      <td>jhon.camargo01@uptc.edu.co</td>\n",
       "      <td>Ingeniería de Sistemas y Computación</td>\n",
       "      <td>Comunicaciones</td>\n",
       "      <td>Validados</td>\n",
       "      <td>Jhon</td>\n",
       "      <td>Camargo</td>\n",
       "    </tr>\n",
       "  </tbody>\n",
       "</table>\n",
       "</div>"
      ],
      "text/plain": [
       "                        Nombre Correo institucional (@uptc.edu.co)  \\\n",
       "64  Jhon Fredy Camargo Fonseca          jhon.camargo01@uptc.edu.co   \n",
       "\n",
       "                      Programa Académico      Asignatura     estado  \\\n",
       "64  Ingeniería de Sistemas y Computación  Comunicaciones  Validados   \n",
       "\n",
       "   Primer Nombre Primer Apellido  \n",
       "64          Jhon         Camargo  "
      ]
     },
     "execution_count": 170,
     "metadata": {},
     "output_type": "execute_result"
    }
   ],
   "source": [
    "registro_datos.loc[registro_datos[\"Correo institucional (@uptc.edu.co)\"]==\"jhon.camargo01@uptc.edu.co\"]"
   ]
  },
  {
   "cell_type": "code",
   "execution_count": 171,
   "metadata": {},
   "outputs": [],
   "source": [
    "# Se usara una llave en minusculas -> correo\n",
    "registro_datos[\"Correo institucional (@uptc.edu.co)\"] = registro_datos[\"Correo institucional (@uptc.edu.co)\"].str.lower()"
   ]
  },
  {
   "cell_type": "code",
   "execution_count": 172,
   "metadata": {},
   "outputs": [],
   "source": [
    "solo_letras = re.compile(r'[^a-zA-ZáéíóúÁÉÍÓÚñÑ ]+')\n",
    "def limpieza_final(dataframe):\n",
    "    dataframe[\"Correo electrónico\"] = dataframe[\"Correo electrónico\"].str.lower()\n",
    "    dataframe[\"Nombre\"] = dataframe[\"Nombre\"].apply(lambda x: solo_letras.sub('',str(x)).title())\n",
    "    dataframe[\"Apellido\"] = dataframe[\"Apellido\"].apply(lambda x: solo_letras.sub('',str(x)).title())\n",
    "    "
   ]
  },
  {
   "cell_type": "code",
   "execution_count": 173,
   "metadata": {},
   "outputs": [],
   "source": [
    "limpieza_final(evento_1)\n",
    "limpieza_final(evento_2)\n",
    "limpieza_final(evento_3)\n",
    "limpieza_final(evento_4)\n",
    "limpieza_final(evento_5)\n",
    "limpieza_final(evento_6)\n",
    "limpieza_final(evento_7)\n",
    "limpieza_final(evento_8)\n",
    "limpieza_final(evento_9)\n"
   ]
  },
  {
   "cell_type": "code",
   "execution_count": 175,
   "metadata": {},
   "outputs": [
    {
     "data": {
      "text/html": [
       "<div>\n",
       "<style scoped>\n",
       "    .dataframe tbody tr th:only-of-type {\n",
       "        vertical-align: middle;\n",
       "    }\n",
       "\n",
       "    .dataframe tbody tr th {\n",
       "        vertical-align: top;\n",
       "    }\n",
       "\n",
       "    .dataframe thead th {\n",
       "        text-align: right;\n",
       "    }\n",
       "</style>\n",
       "<table border=\"1\" class=\"dataframe\">\n",
       "  <thead>\n",
       "    <tr style=\"text-align: right;\">\n",
       "      <th></th>\n",
       "      <th>Nombre</th>\n",
       "      <th>Apellido</th>\n",
       "      <th>Correo electrónico</th>\n",
       "      <th>Hora a la que se unió</th>\n",
       "      <th>Hora a la que salió</th>\n",
       "      <th>NombreCompleto</th>\n",
       "      <th>duración</th>\n",
       "    </tr>\n",
       "  </thead>\n",
       "  <tbody>\n",
       "    <tr>\n",
       "      <th>0</th>\n",
       "      <td>Yamid Alonso</td>\n",
       "      <td>Nan</td>\n",
       "      <td>yamid.nino02@uptc.edu.co</td>\n",
       "      <td>2023-09-06 10:02:00</td>\n",
       "      <td>2023-09-06 11:12:00</td>\n",
       "      <td>Yamid Alonso</td>\n",
       "      <td>70</td>\n",
       "    </tr>\n",
       "    <tr>\n",
       "      <th>1</th>\n",
       "      <td>Gonzalez Molina</td>\n",
       "      <td>Angel Abdias</td>\n",
       "      <td>angel.gonzalez02@uptc.edu.co</td>\n",
       "      <td>2023-09-06 10:19:00</td>\n",
       "      <td>2023-09-06 11:12:00</td>\n",
       "      <td>Gonzalez Molina Angel Abdias</td>\n",
       "      <td>53</td>\n",
       "    </tr>\n",
       "    <tr>\n",
       "      <th>2</th>\n",
       "      <td>Juan Pablo</td>\n",
       "      <td>Archila Amaya</td>\n",
       "      <td>juan.archila04@uptc.edu.co</td>\n",
       "      <td>2023-09-06 10:10:00</td>\n",
       "      <td>2023-09-06 11:12:00</td>\n",
       "      <td>Juan Pablo Archila Amaya</td>\n",
       "      <td>62</td>\n",
       "    </tr>\n",
       "    <tr>\n",
       "      <th>3</th>\n",
       "      <td>Fabio Alonso</td>\n",
       "      <td>Arias Adarme</td>\n",
       "      <td>ingfaaa@gmail.com</td>\n",
       "      <td>2023-09-06 10:10:00</td>\n",
       "      <td>2023-09-06 11:12:00</td>\n",
       "      <td>Fabio Alonso Arias Adarme</td>\n",
       "      <td>62</td>\n",
       "    </tr>\n",
       "    <tr>\n",
       "      <th>4</th>\n",
       "      <td>Santiago Andres</td>\n",
       "      <td>Arias Reyes</td>\n",
       "      <td>ingfaaa@gmail.com</td>\n",
       "      <td>2023-09-06 10:00:00</td>\n",
       "      <td>2023-09-06 11:12:00</td>\n",
       "      <td>Santiago Andres Arias Reyes</td>\n",
       "      <td>72</td>\n",
       "    </tr>\n",
       "  </tbody>\n",
       "</table>\n",
       "</div>"
      ],
      "text/plain": [
       "            Nombre       Apellido            Correo electrónico  \\\n",
       "0     Yamid Alonso            Nan      yamid.nino02@uptc.edu.co   \n",
       "1  Gonzalez Molina   Angel Abdias  angel.gonzalez02@uptc.edu.co   \n",
       "2       Juan Pablo  Archila Amaya    juan.archila04@uptc.edu.co   \n",
       "3     Fabio Alonso   Arias Adarme             ingfaaa@gmail.com   \n",
       "4  Santiago Andres    Arias Reyes             ingfaaa@gmail.com   \n",
       "\n",
       "  Hora a la que se unió Hora a la que salió                NombreCompleto  \\\n",
       "0   2023-09-06 10:02:00 2023-09-06 11:12:00                  Yamid Alonso   \n",
       "1   2023-09-06 10:19:00 2023-09-06 11:12:00  Gonzalez Molina Angel Abdias   \n",
       "2   2023-09-06 10:10:00 2023-09-06 11:12:00      Juan Pablo Archila Amaya   \n",
       "3   2023-09-06 10:10:00 2023-09-06 11:12:00     Fabio Alonso Arias Adarme   \n",
       "4   2023-09-06 10:00:00 2023-09-06 11:12:00   Santiago Andres Arias Reyes   \n",
       "\n",
       "   duración  \n",
       "0        70  \n",
       "1        53  \n",
       "2        62  \n",
       "3        62  \n",
       "4        72  "
      ]
     },
     "execution_count": 175,
     "metadata": {},
     "output_type": "execute_result"
    }
   ],
   "source": [
    "evento_4.head()"
   ]
  },
  {
   "cell_type": "code",
   "execution_count": 176,
   "metadata": {},
   "outputs": [
    {
     "data": {
      "text/plain": [
       "(Nombre                   0\n",
       " Apellido                 0\n",
       " Correo electrónico       0\n",
       " Hora a la que se unió    0\n",
       " Hora a la que salió      0\n",
       " NombreCompleto           0\n",
       " duración                 0\n",
       " dtype: int64,\n",
       " Nombre                   0\n",
       " Apellido                 0\n",
       " Correo electrónico       1\n",
       " Hora a la que se unió    0\n",
       " Hora a la que salió      0\n",
       " NombreCompleto           0\n",
       " duración                 0\n",
       " dtype: int64,\n",
       " Nombre                   0\n",
       " Apellido                 0\n",
       " Correo electrónico       0\n",
       " Hora a la que se unió    0\n",
       " Hora a la que salió      0\n",
       " NombreCompleto           0\n",
       " duración                 0\n",
       " dtype: int64,\n",
       " Nombre                   0\n",
       " Apellido                 0\n",
       " Correo electrónico       0\n",
       " Hora a la que se unió    0\n",
       " Hora a la que salió      0\n",
       " NombreCompleto           0\n",
       " duración                 0\n",
       " dtype: int64)"
      ]
     },
     "execution_count": 176,
     "metadata": {},
     "output_type": "execute_result"
    }
   ],
   "source": [
    "# Se revisan valores nulos en asistencia a eventos\n",
    "evento_1.isna().sum(),evento_2.isna().sum(),evento_3.isna().sum(),evento_4.isna().sum()"
   ]
  },
  {
   "cell_type": "code",
   "execution_count": 177,
   "metadata": {},
   "outputs": [
    {
     "data": {
      "text/plain": [
       "(Nombre                   0\n",
       " Apellido                 0\n",
       " Correo electrónico       0\n",
       " Hora a la que se unió    0\n",
       " Hora a la que salió      0\n",
       " NombreCompleto           0\n",
       " duración                 0\n",
       " dtype: int64,\n",
       " Nombre                   0\n",
       " Apellido                 0\n",
       " Correo electrónico       2\n",
       " Hora a la que se unió    0\n",
       " Hora a la que salió      0\n",
       " NombreCompleto           0\n",
       " duración                 0\n",
       " dtype: int64,\n",
       " Nombre                   0\n",
       " Apellido                 0\n",
       " Correo electrónico       0\n",
       " Hora a la que se unió    0\n",
       " Hora a la que salió      0\n",
       " NombreCompleto           0\n",
       " duración                 0\n",
       " dtype: int64,\n",
       " Nombre                   0\n",
       " Apellido                 0\n",
       " Correo electrónico       0\n",
       " Hora a la que se unió    0\n",
       " Hora a la que salió      0\n",
       " NombreCompleto           0\n",
       " duración                 0\n",
       " dtype: int64,\n",
       " Nombre                   0\n",
       " Apellido                 0\n",
       " Correo electrónico       0\n",
       " Hora a la que se unió    0\n",
       " Hora a la que salió      0\n",
       " NombreCompleto           0\n",
       " duración                 0\n",
       " dtype: int64)"
      ]
     },
     "execution_count": 177,
     "metadata": {},
     "output_type": "execute_result"
    }
   ],
   "source": [
    "evento_5.isna().sum(), evento_6.isna().sum(), evento_7.isna().sum(), evento_8.isna().sum(), evento_9.isna().sum()"
   ]
  },
  {
   "cell_type": "markdown",
   "metadata": {},
   "source": [
    "## Se procede a generar archivos csv con los dataframes ya limpios"
   ]
  },
  {
   "cell_type": "code",
   "execution_count": 178,
   "metadata": {},
   "outputs": [],
   "source": [
    "registro_datos.to_csv('../clean_data/registro_usuarios.csv',index=False)\n",
    "evento_1.to_csv('../clean_data/evento_1.csv', index=False)\n",
    "evento_2.to_csv('../clean_data/evento_2.csv', index=False)\n",
    "evento_3.to_csv('../clean_data/evento_3.csv', index=False)\n",
    "evento_4.to_csv('../clean_data/evento_4.csv', index=False)\n",
    "evento_5.to_csv('../clean_data/evento_5.csv', index=False)\n",
    "evento_6.to_csv('../clean_data/evento_6.csv', index=False)\n",
    "evento_7.to_csv('../clean_data/evento_7.csv', index=False)\n",
    "evento_8.to_csv('../clean_data/evento_8.csv', index=False)\n",
    "evento_9.to_csv('../clean_data/evento_9.csv', index=False)\n"
   ]
  }
 ],
 "metadata": {
  "kernelspec": {
   "display_name": "Python 3",
   "language": "python",
   "name": "python3"
  },
  "language_info": {
   "codemirror_mode": {
    "name": "ipython",
    "version": 3
   },
   "file_extension": ".py",
   "mimetype": "text/x-python",
   "name": "python",
   "nbconvert_exporter": "python",
   "pygments_lexer": "ipython3",
   "version": "3.10.12"
  },
  "orig_nbformat": 4
 },
 "nbformat": 4,
 "nbformat_minor": 2
}
